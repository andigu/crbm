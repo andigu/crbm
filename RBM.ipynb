{
  "nbformat": 4,
  "nbformat_minor": 0,
  "metadata": {
    "kernelspec": {
      "display_name": "Python 3",
      "language": "python",
      "name": "python3"
    },
    "language_info": {
      "codemirror_mode": {
        "name": "ipython",
        "version": 3
      },
      "file_extension": ".py",
      "mimetype": "text/x-python",
      "name": "python",
      "nbconvert_exporter": "python",
      "pygments_lexer": "ipython3",
      "version": "3.8.6"
    },
    "colab": {
      "name": "RBM.ipynb",
      "provenance": [],
      "collapsed_sections": [
        "ZogXIPJPPtpP"
      ],
      "toc_visible": true,
      "include_colab_link": true
    },
    "widgets": {
      "application/vnd.jupyter.widget-state+json": {
        "ad559fbb55cc41088ff8817b88acb7db": {
          "model_module": "@jupyter-widgets/controls",
          "model_name": "HBoxModel",
          "state": {
            "_view_name": "HBoxView",
            "_dom_classes": [],
            "_model_name": "HBoxModel",
            "_view_module": "@jupyter-widgets/controls",
            "_model_module_version": "1.5.0",
            "_view_count": null,
            "_view_module_version": "1.5.0",
            "box_style": "",
            "layout": "IPY_MODEL_a60b0bfedc214cf1ba657eb1ade342c7",
            "_model_module": "@jupyter-widgets/controls",
            "children": [
              "IPY_MODEL_9f2fab6718c343bc8134e42ded3783b3",
              "IPY_MODEL_bd8e666066c44b3787fc68679cc70093"
            ]
          }
        },
        "a60b0bfedc214cf1ba657eb1ade342c7": {
          "model_module": "@jupyter-widgets/base",
          "model_name": "LayoutModel",
          "state": {
            "_view_name": "LayoutView",
            "grid_template_rows": null,
            "right": null,
            "justify_content": null,
            "_view_module": "@jupyter-widgets/base",
            "overflow": null,
            "_model_module_version": "1.2.0",
            "_view_count": null,
            "flex_flow": null,
            "width": null,
            "min_width": null,
            "border": null,
            "align_items": null,
            "bottom": null,
            "_model_module": "@jupyter-widgets/base",
            "top": null,
            "grid_column": null,
            "overflow_y": null,
            "overflow_x": null,
            "grid_auto_flow": null,
            "grid_area": null,
            "grid_template_columns": null,
            "flex": null,
            "_model_name": "LayoutModel",
            "justify_items": null,
            "grid_row": null,
            "max_height": null,
            "align_content": null,
            "visibility": null,
            "align_self": null,
            "height": null,
            "min_height": null,
            "padding": null,
            "grid_auto_rows": null,
            "grid_gap": null,
            "max_width": null,
            "order": null,
            "_view_module_version": "1.2.0",
            "grid_template_areas": null,
            "object_position": null,
            "object_fit": null,
            "grid_auto_columns": null,
            "margin": null,
            "display": null,
            "left": null
          }
        },
        "9f2fab6718c343bc8134e42ded3783b3": {
          "model_module": "@jupyter-widgets/controls",
          "model_name": "FloatProgressModel",
          "state": {
            "_view_name": "ProgressView",
            "style": "IPY_MODEL_d0e39179099c47e58bb8077f211f133e",
            "_dom_classes": [],
            "description": " 60%",
            "_model_name": "FloatProgressModel",
            "bar_style": "danger",
            "max": 200,
            "_view_module": "@jupyter-widgets/controls",
            "_model_module_version": "1.5.0",
            "value": 119,
            "_view_count": null,
            "_view_module_version": "1.5.0",
            "orientation": "horizontal",
            "min": 0,
            "description_tooltip": null,
            "_model_module": "@jupyter-widgets/controls",
            "layout": "IPY_MODEL_3410afc7c75347feb6bf065253890678"
          }
        },
        "bd8e666066c44b3787fc68679cc70093": {
          "model_module": "@jupyter-widgets/controls",
          "model_name": "HTMLModel",
          "state": {
            "_view_name": "HTMLView",
            "style": "IPY_MODEL_3875c430c6cc4b0fb282d7d47f652519",
            "_dom_classes": [],
            "description": "",
            "_model_name": "HTMLModel",
            "placeholder": "​",
            "_view_module": "@jupyter-widgets/controls",
            "_model_module_version": "1.5.0",
            "value": " 119/200 [00:08&lt;00:05, 13.79epoch/s, loss=2.48, lr=1e-5]",
            "_view_count": null,
            "_view_module_version": "1.5.0",
            "description_tooltip": null,
            "_model_module": "@jupyter-widgets/controls",
            "layout": "IPY_MODEL_61ce77ac188d46489fc77a67c552c316"
          }
        },
        "d0e39179099c47e58bb8077f211f133e": {
          "model_module": "@jupyter-widgets/controls",
          "model_name": "ProgressStyleModel",
          "state": {
            "_view_name": "StyleView",
            "_model_name": "ProgressStyleModel",
            "description_width": "initial",
            "_view_module": "@jupyter-widgets/base",
            "_model_module_version": "1.5.0",
            "_view_count": null,
            "_view_module_version": "1.2.0",
            "bar_color": null,
            "_model_module": "@jupyter-widgets/controls"
          }
        },
        "3410afc7c75347feb6bf065253890678": {
          "model_module": "@jupyter-widgets/base",
          "model_name": "LayoutModel",
          "state": {
            "_view_name": "LayoutView",
            "grid_template_rows": null,
            "right": null,
            "justify_content": null,
            "_view_module": "@jupyter-widgets/base",
            "overflow": null,
            "_model_module_version": "1.2.0",
            "_view_count": null,
            "flex_flow": null,
            "width": null,
            "min_width": null,
            "border": null,
            "align_items": null,
            "bottom": null,
            "_model_module": "@jupyter-widgets/base",
            "top": null,
            "grid_column": null,
            "overflow_y": null,
            "overflow_x": null,
            "grid_auto_flow": null,
            "grid_area": null,
            "grid_template_columns": null,
            "flex": null,
            "_model_name": "LayoutModel",
            "justify_items": null,
            "grid_row": null,
            "max_height": null,
            "align_content": null,
            "visibility": null,
            "align_self": null,
            "height": null,
            "min_height": null,
            "padding": null,
            "grid_auto_rows": null,
            "grid_gap": null,
            "max_width": null,
            "order": null,
            "_view_module_version": "1.2.0",
            "grid_template_areas": null,
            "object_position": null,
            "object_fit": null,
            "grid_auto_columns": null,
            "margin": null,
            "display": null,
            "left": null
          }
        },
        "3875c430c6cc4b0fb282d7d47f652519": {
          "model_module": "@jupyter-widgets/controls",
          "model_name": "DescriptionStyleModel",
          "state": {
            "_view_name": "StyleView",
            "_model_name": "DescriptionStyleModel",
            "description_width": "",
            "_view_module": "@jupyter-widgets/base",
            "_model_module_version": "1.5.0",
            "_view_count": null,
            "_view_module_version": "1.2.0",
            "_model_module": "@jupyter-widgets/controls"
          }
        },
        "61ce77ac188d46489fc77a67c552c316": {
          "model_module": "@jupyter-widgets/base",
          "model_name": "LayoutModel",
          "state": {
            "_view_name": "LayoutView",
            "grid_template_rows": null,
            "right": null,
            "justify_content": null,
            "_view_module": "@jupyter-widgets/base",
            "overflow": null,
            "_model_module_version": "1.2.0",
            "_view_count": null,
            "flex_flow": null,
            "width": null,
            "min_width": null,
            "border": null,
            "align_items": null,
            "bottom": null,
            "_model_module": "@jupyter-widgets/base",
            "top": null,
            "grid_column": null,
            "overflow_y": null,
            "overflow_x": null,
            "grid_auto_flow": null,
            "grid_area": null,
            "grid_template_columns": null,
            "flex": null,
            "_model_name": "LayoutModel",
            "justify_items": null,
            "grid_row": null,
            "max_height": null,
            "align_content": null,
            "visibility": null,
            "align_self": null,
            "height": null,
            "min_height": null,
            "padding": null,
            "grid_auto_rows": null,
            "grid_gap": null,
            "max_width": null,
            "order": null,
            "_view_module_version": "1.2.0",
            "grid_template_areas": null,
            "object_position": null,
            "object_fit": null,
            "grid_auto_columns": null,
            "margin": null,
            "display": null,
            "left": null
          }
        },
        "0f84757e597e460d85b10308c14fe274": {
          "model_module": "@jupyter-widgets/controls",
          "model_name": "HBoxModel",
          "state": {
            "_view_name": "HBoxView",
            "_dom_classes": [],
            "_model_name": "HBoxModel",
            "_view_module": "@jupyter-widgets/controls",
            "_model_module_version": "1.5.0",
            "_view_count": null,
            "_view_module_version": "1.5.0",
            "box_style": "",
            "layout": "IPY_MODEL_76541c2c3f764466909abc87c469ccbc",
            "_model_module": "@jupyter-widgets/controls",
            "children": [
              "IPY_MODEL_f6df8d8a588b4f2a9d6c4b4a11cdf902",
              "IPY_MODEL_467791d7a3db413cb890fddaf6da3a7b"
            ]
          }
        },
        "76541c2c3f764466909abc87c469ccbc": {
          "model_module": "@jupyter-widgets/base",
          "model_name": "LayoutModel",
          "state": {
            "_view_name": "LayoutView",
            "grid_template_rows": null,
            "right": null,
            "justify_content": null,
            "_view_module": "@jupyter-widgets/base",
            "overflow": null,
            "_model_module_version": "1.2.0",
            "_view_count": null,
            "flex_flow": null,
            "width": null,
            "min_width": null,
            "border": null,
            "align_items": null,
            "bottom": null,
            "_model_module": "@jupyter-widgets/base",
            "top": null,
            "grid_column": null,
            "overflow_y": null,
            "overflow_x": null,
            "grid_auto_flow": null,
            "grid_area": null,
            "grid_template_columns": null,
            "flex": null,
            "_model_name": "LayoutModel",
            "justify_items": null,
            "grid_row": null,
            "max_height": null,
            "align_content": null,
            "visibility": null,
            "align_self": null,
            "height": null,
            "min_height": null,
            "padding": null,
            "grid_auto_rows": null,
            "grid_gap": null,
            "max_width": null,
            "order": null,
            "_view_module_version": "1.2.0",
            "grid_template_areas": null,
            "object_position": null,
            "object_fit": null,
            "grid_auto_columns": null,
            "margin": null,
            "display": null,
            "left": null
          }
        },
        "f6df8d8a588b4f2a9d6c4b4a11cdf902": {
          "model_module": "@jupyter-widgets/controls",
          "model_name": "FloatProgressModel",
          "state": {
            "_view_name": "ProgressView",
            "style": "IPY_MODEL_3da74b9531734769a0bb7770bb3fad3e",
            "_dom_classes": [],
            "description": "100%",
            "_model_name": "FloatProgressModel",
            "bar_style": "info",
            "max": 50,
            "_view_module": "@jupyter-widgets/controls",
            "_model_module_version": "1.5.0",
            "value": 50,
            "_view_count": null,
            "_view_module_version": "1.5.0",
            "orientation": "horizontal",
            "min": 0,
            "description_tooltip": null,
            "_model_module": "@jupyter-widgets/controls",
            "layout": "IPY_MODEL_e91d57a8ddde47a9853b88ec4b7e8352"
          }
        },
        "467791d7a3db413cb890fddaf6da3a7b": {
          "model_module": "@jupyter-widgets/controls",
          "model_name": "HTMLModel",
          "state": {
            "_view_name": "HTMLView",
            "style": "IPY_MODEL_2b72673e6200418daf64f8f404dadb36",
            "_dom_classes": [],
            "description": "",
            "_model_name": "HTMLModel",
            "placeholder": "​",
            "_view_module": "@jupyter-widgets/controls",
            "_model_module_version": "1.5.0",
            "value": " 50.0/50.0 [00:00&lt;00:00, 1.44batch/s, loss=2.48]",
            "_view_count": null,
            "_view_module_version": "1.5.0",
            "description_tooltip": null,
            "_model_module": "@jupyter-widgets/controls",
            "layout": "IPY_MODEL_d39c3c612bde4a418c70bcd0423128d6"
          }
        },
        "3da74b9531734769a0bb7770bb3fad3e": {
          "model_module": "@jupyter-widgets/controls",
          "model_name": "ProgressStyleModel",
          "state": {
            "_view_name": "StyleView",
            "_model_name": "ProgressStyleModel",
            "description_width": "initial",
            "_view_module": "@jupyter-widgets/base",
            "_model_module_version": "1.5.0",
            "_view_count": null,
            "_view_module_version": "1.2.0",
            "bar_color": null,
            "_model_module": "@jupyter-widgets/controls"
          }
        },
        "e91d57a8ddde47a9853b88ec4b7e8352": {
          "model_module": "@jupyter-widgets/base",
          "model_name": "LayoutModel",
          "state": {
            "_view_name": "LayoutView",
            "grid_template_rows": null,
            "right": null,
            "justify_content": null,
            "_view_module": "@jupyter-widgets/base",
            "overflow": null,
            "_model_module_version": "1.2.0",
            "_view_count": null,
            "flex_flow": null,
            "width": null,
            "min_width": null,
            "border": null,
            "align_items": null,
            "bottom": null,
            "_model_module": "@jupyter-widgets/base",
            "top": null,
            "grid_column": null,
            "overflow_y": null,
            "overflow_x": null,
            "grid_auto_flow": null,
            "grid_area": null,
            "grid_template_columns": null,
            "flex": null,
            "_model_name": "LayoutModel",
            "justify_items": null,
            "grid_row": null,
            "max_height": null,
            "align_content": null,
            "visibility": null,
            "align_self": null,
            "height": null,
            "min_height": null,
            "padding": null,
            "grid_auto_rows": null,
            "grid_gap": null,
            "max_width": null,
            "order": null,
            "_view_module_version": "1.2.0",
            "grid_template_areas": null,
            "object_position": null,
            "object_fit": null,
            "grid_auto_columns": null,
            "margin": null,
            "display": null,
            "left": null
          }
        },
        "2b72673e6200418daf64f8f404dadb36": {
          "model_module": "@jupyter-widgets/controls",
          "model_name": "DescriptionStyleModel",
          "state": {
            "_view_name": "StyleView",
            "_model_name": "DescriptionStyleModel",
            "description_width": "",
            "_view_module": "@jupyter-widgets/base",
            "_model_module_version": "1.5.0",
            "_view_count": null,
            "_view_module_version": "1.2.0",
            "_model_module": "@jupyter-widgets/controls"
          }
        },
        "d39c3c612bde4a418c70bcd0423128d6": {
          "model_module": "@jupyter-widgets/base",
          "model_name": "LayoutModel",
          "state": {
            "_view_name": "LayoutView",
            "grid_template_rows": null,
            "right": null,
            "justify_content": null,
            "_view_module": "@jupyter-widgets/base",
            "overflow": null,
            "_model_module_version": "1.2.0",
            "_view_count": null,
            "flex_flow": null,
            "width": null,
            "min_width": null,
            "border": null,
            "align_items": null,
            "bottom": null,
            "_model_module": "@jupyter-widgets/base",
            "top": null,
            "grid_column": null,
            "overflow_y": null,
            "overflow_x": null,
            "grid_auto_flow": null,
            "grid_area": null,
            "grid_template_columns": null,
            "flex": null,
            "_model_name": "LayoutModel",
            "justify_items": null,
            "grid_row": null,
            "max_height": null,
            "align_content": null,
            "visibility": null,
            "align_self": null,
            "height": null,
            "min_height": null,
            "padding": null,
            "grid_auto_rows": null,
            "grid_gap": null,
            "max_width": null,
            "order": null,
            "_view_module_version": "1.2.0",
            "grid_template_areas": null,
            "object_position": null,
            "object_fit": null,
            "grid_auto_columns": null,
            "margin": null,
            "display": null,
            "left": null
          }
        }
      }
    }
  },
  "cells": [
    {
      "cell_type": "markdown",
      "metadata": {
        "id": "view-in-github",
        "colab_type": "text"
      },
      "source": [
        "<a href=\"https://colab.research.google.com/github/andigu/crbm/blob/main/RBM.ipynb\" target=\"_parent\"><img src=\"https://colab.research.google.com/assets/colab-badge.svg\" alt=\"Open In Colab\"/></a>"
      ]
    },
    {
      "cell_type": "code",
      "metadata": {
        "id": "s780vxyBu_pm"
      },
      "source": [
        "import tensorflow as tf \n",
        "import tensorflow_probability as tfp\n",
        "import numpy as np \n",
        "from sklearn.neural_network import BernoulliRBM\n",
        "from matplotlib import pyplot as plt\n",
        "import seaborn as sns\n",
        "import pandas as pd\n",
        "import imageio\n",
        "from datetime import datetime\n",
        "import os\n",
        "from qiskit.quantum_info import Statevector, Pauli\n",
        "from qiskit.visualization import plot_bloch_multivector, plot_bloch_vector, plot_histogram, plot_state_paulivec\n",
        "from qiskit.visualization.utils import _bloch_multivector_data\n",
        "from tqdm.keras import TqdmCallback"
      ],
      "execution_count": 785,
      "outputs": []
    },
    {
      "cell_type": "markdown",
      "metadata": {
        "id": "ZogXIPJPPtpP"
      },
      "source": [
        "# Real RBM"
      ]
    },
    {
      "cell_type": "code",
      "metadata": {
        "id": "iMlzfYznvBfV"
      },
      "source": [
        "class RBM(tf.keras.models.Model):\n",
        "    def __init__(self, nv=2, nh=20, **kwargs):\n",
        "        super(RBM, self).__init__(**kwargs)\n",
        "        self.nv, self.nh = nv, nh\n",
        "        self.W = tf.Variable(tf.random.normal((nv, nh)), trainable=True)\n",
        "        self.bv = tf.Variable(tf.random.normal((nv, 1)), trainable=True) \n",
        "        self.bh = tf.Variable(tf.random.normal((nh, 1)), trainable=True)\n",
        "        \n",
        "    def bernoulli(self, p):\n",
        "        return tf.nn.relu(tf.sign(p - tf.random.uniform(p.shape)))\n",
        "    \n",
        "    def energy(self, v):\n",
        "        b_term = tf.squeeze(tf.matmul(v, self.bv))\n",
        "        linear_tranform = tf.matmul(v, self.W) + tf.squeeze(self.bh)\n",
        "        h_term = tf.reduce_sum(tf.math.log(tf.exp(linear_tranform) + 1), axis=1) \n",
        "        return tf.reduce_mean(-h_term -b_term)\n",
        "    \n",
        "    def sample_h(self, v):\n",
        "        ph_given_v = tf.sigmoid(tf.matmul(v, self.W) + tf.squeeze(self.bh))\n",
        "        return self.bernoulli(ph_given_v)\n",
        "    \n",
        "    def sample_v(self, h):\n",
        "        pv_given_h = tf.sigmoid(tf.matmul(h, tf.transpose(self.W)) + tf.squeeze(self.bv))\n",
        "        return self.bernoulli(pv_given_h)\n",
        "    \n",
        "    def gibbs_step(self, i, vk):\n",
        "        hk = self.sample_h(vk)\n",
        "        vk = self.sample_v(hk)\n",
        "        return i+1, vk\n",
        "    \n",
        "    def gibbs_sample(self, n_samples, n_steps=3):\n",
        "        init = tf.cast(tf.random.uniform(shape=(n_samples, self.nv), maxval=1) <= 0.5, tf.float32)\n",
        "        _, x_samples = tf.while_loop(cond=lambda i, _: i <= n_steps, body = rbm.gibbs_step, \n",
        "                              loop_vars = [0, init], parallel_iterations=1,)\n",
        "        return x_samples\n",
        "    \n",
        "    def call(self, x):\n",
        "        x_samples = self.gibbs_sample(100*len(x))\n",
        "        self.add_loss(self.energy(x) - self.energy(tf.stop_gradient(x_samples)))"
      ],
      "execution_count": null,
      "outputs": []
    },
    {
      "cell_type": "code",
      "metadata": {
        "id": "LiRTH627u_pm"
      },
      "source": [
        "def to_freq(data):\n",
        "    data = np.packbits(data.astype(np.int), axis=1, bitorder='little').flatten()\n",
        "    vals, freq = np.unique(data, return_counts=True)\n",
        "    return freq/freq.sum()"
      ],
      "execution_count": null,
      "outputs": []
    },
    {
      "cell_type": "code",
      "metadata": {
        "colab": {
          "base_uri": "https://localhost:8080/"
        },
        "id": "6sckGt9Ju_pm",
        "outputId": "a6740231-13be-485c-9645-3ddcba3f5d00"
      },
      "source": [
        "from tqdm import trange\n",
        "data_vals = []\n",
        "weights = np.random.normal(size=4)\n",
        "probs = np.abs(np.random.normal(size=4))\n",
        "probs = probs/probs.sum()\n",
        "for _ in trange(1000):\n",
        "    tmp = np.random.choice(4, p=probs, size=5000)\n",
        "    options = np.array([[0,0],[0,1],[1,0],[1,1]])\n",
        "    X = options[tmp].astype(np.float32)\n",
        "    data_vals.append(weights @ (to_freq(X)))"
      ],
      "execution_count": null,
      "outputs": [
        {
          "output_type": "stream",
          "text": [
            "100%|██████████| 1000/1000 [00:00<00:00, 1522.73it/s]\n"
          ],
          "name": "stderr"
        }
      ]
    },
    {
      "cell_type": "code",
      "metadata": {
        "colab": {
          "base_uri": "https://localhost:8080/"
        },
        "id": "T5nrbl0ku_pn",
        "outputId": "99f9c020-d9d9-4f36-8597-b6ff13400de0"
      },
      "source": [
        "X.shape"
      ],
      "execution_count": null,
      "outputs": [
        {
          "output_type": "execute_result",
          "data": {
            "text/plain": [
              "(5000, 2)"
            ]
          },
          "metadata": {
            "tags": []
          },
          "execution_count": 5
        }
      ]
    },
    {
      "cell_type": "code",
      "metadata": {
        "id": "In9FrgJUu_pn"
      },
      "source": [
        "rbm = RBM(nh=20)\n",
        "rbm_vals = []\n",
        "rbm.compile(optimizer=tf.optimizers.SGD(0.1))\n",
        "callbacks=[\n",
        "    tf.keras.callbacks.EarlyStopping(monitor='loss', patience=20),\n",
        "    tf.keras.callbacks.ModelCheckpoint('model.h5', monitor='loss'),\n",
        "    tf.keras.callbacks.ReduceLROnPlateau(monitor='loss', factor=0.1, patience=5)\n",
        "]\n",
        "rbm.fit(X, batch_size=10, verbose=2, epochs=200, callbacks=callbacks)\n",
        "rbm.load_weights('model.h5')\n",
        "to_freq(rbm.gibbs_sample(100000, n_steps=3).numpy()), to_freq(X)\n",
        "for _ in trange(100):\n",
        "    rbm_vals.append(weights @ (to_freq(rbm.gibbs_sample(100000).numpy())))"
      ],
      "execution_count": null,
      "outputs": []
    },
    {
      "cell_type": "code",
      "metadata": {
        "colab": {
          "base_uri": "https://localhost:8080/"
        },
        "id": "t3efQpkzu_pn",
        "outputId": "2f8f33a9-082f-439e-879e-985bdcd027eb"
      },
      "source": [
        "np.round(to_freq(rbm.gibbs_sample(100000).numpy()),3), np.round(to_freq(X),3)"
      ],
      "execution_count": null,
      "outputs": [
        {
          "output_type": "execute_result",
          "data": {
            "text/plain": [
              "(array([0.326, 0.147, 0.162, 0.365]), array([0.325, 0.146, 0.164, 0.366]))"
            ]
          },
          "metadata": {
            "tags": []
          },
          "execution_count": 7
        }
      ]
    },
    {
      "cell_type": "code",
      "metadata": {
        "colab": {
          "base_uri": "https://localhost:8080/",
          "height": 297
        },
        "id": "tf1EYF10u_pn",
        "outputId": "b7167875-7dba-49e0-a325-938220123444"
      },
      "source": [
        "sns.kdeplot(data_vals, fill=True)\n",
        "plt.axvline(np.percentile(np.array(rbm_vals), 5), c='black', ls='--', lw=1)\n",
        "plt.axvline(np.percentile(np.array(rbm_vals), 95), c='black', ls='--', lw=1)\n",
        "plt.axvline(np.percentile(np.array(rbm_vals), 50), c='red', lw=3)\n",
        "plt.axvline(weights@to_freq(X), c='green')\n",
        "plt.tight_layout()"
      ],
      "execution_count": null,
      "outputs": [
        {
          "output_type": "display_data",
          "data": {
            "image/png": "[encoded data removed]",
            "text/plain": [
              "<Figure size 432x288 with 1 Axes>"
            ]
          },
          "metadata": {
            "tags": [],
            "needs_background": "light"
          }
        }
      ]
    },
    {
      "cell_type": "markdown",
      "metadata": {
        "id": "V6Kok_QwPv2r"
      },
      "source": [
        "# Complex RBM"
      ]
    },
    {
      "cell_type": "code",
      "metadata": {
        "colab": {
          "base_uri": "https://localhost:8080/"
        },
        "id": "fnMET6SiPw5y",
        "outputId": "18902987-2101-45f3-c42f-fb7122c0702a"
      },
      "source": [
        "N = 4\n",
        "psi_z = np.random.normal(size=2**N) + np.random.normal(size=2**N) * 1j\n",
        "psi_z = psi_z/np.linalg.norm(psi_z)\n",
        "psi_z.round(2)"
      ],
      "execution_count": 911,
      "outputs": [
        {
          "output_type": "execute_result",
          "data": {
            "text/plain": [
              "array([ 0.41-0.11j, -0.24+0.18j, -0.09+0.27j,  0.19-0.02j, -0.4 -0.05j,\n",
              "       -0.15-0.08j,  0.12-0.21j,  0.01-0.08j, -0.09+0.17j,  0.1 +0.21j,\n",
              "       -0.01+0.28j,  0.15+0.14j, -0.08-0.13j,  0.02+0.06j, -0.23+0.j  ,\n",
              "        0.19+0.16j])"
            ]
          },
          "metadata": {
            "tags": []
          },
          "execution_count": 911
        }
      ]
    },
    {
      "cell_type": "code",
      "metadata": {
        "id": "hxGt_2MiQMiy"
      },
      "source": [
        "COBS = np.array([\n",
        "    [\n",
        "     [-1/np.sqrt(2), 1/np.sqrt(2)], # complex conjugate of 1st x vector in z basis\n",
        "     [ 1/np.sqrt(2), 1/np.sqrt(2)]\n",
        "    ],\n",
        "    [\n",
        "     [1j/np.sqrt(2), 1/np.sqrt(2)], # complex conjugate of 1st y vector\n",
        "     [-1j/np.sqrt(2), 1/np.sqrt(2)]\n",
        "    ],\n",
        "    [\n",
        "     [1, 0],\n",
        "     [0, 1]\n",
        "    ]\n",
        "])\n",
        "\n",
        "def kron(matrices):\n",
        "    ret = np.array([[1]])    \n",
        "    for mat in reversed(matrices):\n",
        "        ret = np.kron(mat, ret)\n",
        "    return ret\n",
        "\n",
        "def draw_from_psi(psi_z, N, basis):\n",
        "    sigma = kron(np.take(COBS, basis, axis=0))\n",
        "    psi_proj = (sigma @ psi_z[:,np.newaxis]).flatten()\n",
        "    probs = (psi_proj * np.conj(psi_proj)).real\n",
        "    res = np.random.multinomial(n=1, pvals=probs, size=N)\n",
        "    return np.argwhere(res)[:,1]\n",
        "\n",
        "X_samples = draw_from_psi(psi_z, N=20000, basis=[0]*N)\n",
        "Z_samples = draw_from_psi(psi_z, N=20000, basis=[2]*N)"
      ],
      "execution_count": 912,
      "outputs": []
    },
    {
      "cell_type": "code",
      "metadata": {
        "id": "4puvIMAYY7SA"
      },
      "source": [
        "import itertools\n",
        "\n",
        "class CRBM(tf.keras.models.Model):\n",
        "    def __init__(self, nv=1, nh=5):\n",
        "        super(CRBM, self).__init__()\n",
        "        self.nv, self.nh = nv, nh\n",
        "        self.bv = tf.Variable(initial_value=CRBM.random_normal((nv,1)), dtype=tf.dtypes.complex64)\n",
        "        self.bh = tf.Variable(initial_value=CRBM.random_normal((nh,1)), dtype=tf.dtypes.complex64)\n",
        "        self.W = tf.Variable(initial_value=CRBM.random_normal((nv, nh)), dtype=tf.dtypes.complex64)\n",
        "        v_vecs = np.array([list(\"{0:b}\".format(x).zfill(nv)) for x in np.arange(2**nv)]).astype(np.int)\n",
        "        self.v_vecs = tf.cast(tf.convert_to_tensor(v_vecs), tf.dtypes.complex64)\n",
        "        self.COBS = np.zeros(shape=[3]*nv + [2**nv,2**nv]).astype(np.complex64)\n",
        "        for coord in itertools.product([0,1,2], repeat=nv):\n",
        "            self.COBS[coord] = kron(np.take(COBS, coord, axis=0))\n",
        "\n",
        "    \n",
        "    @staticmethod\n",
        "    def random_normal(shape):\n",
        "        return np.random.normal(size=shape) + 1j*np.random.normal(size=shape)\n",
        "    \n",
        "    def psi(self, v):\n",
        "        \"\"\"\n",
        "        Accepts only length N binary strings\n",
        "        \"\"\"\n",
        "        if tf.rank(v) == 1:\n",
        "            v = tf.expand_dims(v, axis=-1)\n",
        "        elif tf.rank(v) == 2:\n",
        "            v = tf.transpose(v)\n",
        "        ret = tf.linalg.adjoint(self.bv) @ v + tf.reduce_sum(tf.math.log(tf.math.conj(tf.exp(self.bh + tf.linalg.adjoint(self.W) @ v)) + 1), axis=0)\n",
        "        return tf.transpose(tf.exp(ret))\n",
        "\n",
        "    def prob(self, spins, basis):\n",
        "        basis = tf.cast(basis, tf.int64)\n",
        "        indexing = tf.concat((basis, spins), axis=-1)\n",
        "        sigma = tf.math.conj(tf.cast(tf.gather_nd(self.COBS, indexing), tf.dtypes.complex64)) # sigma = <v_i | measured state vector>\n",
        "        psi_vec = self.psi(self.v_vecs)\n",
        "        psi_proj = sigma @ psi_vec\n",
        "        return tf.cast(psi_proj*tf.math.conj(psi_proj)/tf.linalg.norm(psi_vec)**2, tf.float32)\n",
        "\n",
        "    def call(self, measurement):\n",
        "        spins = measurement[0]\n",
        "        basis = measurement[1]\n",
        "        probs = self.prob(spins, basis=basis)\n",
        "        loss = -tf.math.reduce_mean(tf.math.log(probs))\n",
        "        self.add_loss(loss)"
      ],
      "execution_count": 913,
      "outputs": []
    },
    {
      "cell_type": "code",
      "metadata": {
        "id": "GGBzuVZ2dKa6"
      },
      "source": [
        "bs = 100\n",
        "measurements = np.concatenate((X_samples, Z_samples), axis=0)\n",
        "bases = np.concatenate((np.zeros((len(X_samples), N)), 2*np.ones((len(Z_samples), N))), axis=0)"
      ],
      "execution_count": 914,
      "outputs": []
    },
    {
      "cell_type": "code",
      "metadata": {
        "colab": {
          "base_uri": "https://localhost:8080/",
          "height": 66,
          "referenced_widgets": [
            "ad559fbb55cc41088ff8817b88acb7db",
            "a60b0bfedc214cf1ba657eb1ade342c7",
            "9f2fab6718c343bc8134e42ded3783b3",
            "bd8e666066c44b3787fc68679cc70093",
            "d0e39179099c47e58bb8077f211f133e",
            "3410afc7c75347feb6bf065253890678",
            "3875c430c6cc4b0fb282d7d47f652519",
            "61ce77ac188d46489fc77a67c552c316",
            "0f84757e597e460d85b10308c14fe274",
            "76541c2c3f764466909abc87c469ccbc",
            "f6df8d8a588b4f2a9d6c4b4a11cdf902",
            "467791d7a3db413cb890fddaf6da3a7b",
            "3da74b9531734769a0bb7770bb3fad3e",
            "e91d57a8ddde47a9853b88ec4b7e8352",
            "2b72673e6200418daf64f8f404dadb36",
            "d39c3c612bde4a418c70bcd0423128d6"
          ]
        },
        "id": "zLNAhPYG0Dlm",
        "outputId": "b3702624-17df-4bfc-f2ab-fad3a6f6cf0d"
      },
      "source": [
        "!rm -rf imgs\n",
        "!mkdir imgs\n",
        "\n",
        "class Visualize(tf.keras.callbacks.Callback):\n",
        "    def on_epoch_begin(self, epoch, logs):\n",
        "        if epoch <= 20 or epoch % 5 == 0:\n",
        "            bloch_data = _bloch_multivector_data(qiskit.quantum_info.Statevector(psi_z))\n",
        "            psi = self.model.psi(self.model.v_vecs).numpy()\n",
        "            psi = psi/np.linalg.norm(psi)\n",
        "            bloch_data2 = _bloch_multivector_data(qiskit.quantum_info.Statevector(psi))\n",
        "            num = len(bloch_data)\n",
        "            width, height = plt.figaspect(1/num)\n",
        "            fig = plt.figure(figsize=(width, height))\n",
        "            for i in range(num):\n",
        "                ax = fig.add_subplot(1, num, i + 1, projection='3d')\n",
        "                plot_bloch_vector(bloch_data[i], \"qubit \" + str(i), ax=ax)\n",
        "                plot_bloch_vector(bloch_data2[i], \"qubit \" + str(i), ax=ax)\n",
        "            fig.suptitle(f\"Epoch {epoch}\", fontsize=16)\n",
        "            fig.savefig(f\"imgs/epoch-{str(epoch).zfill(3)}.png\", bbox_inches='tight')\n",
        "            plt.close(fig)\n",
        "    \n",
        "    def on_train_end(self, logs):\n",
        "        images = []\n",
        "        for filename in sorted(os.listdir(\"imgs/\"), key=lambda x: int(x.split('.')[0][-3:])):\n",
        "            images.append(imageio.imread(f\"imgs/{filename}\"))\n",
        "        for _ in range(10):\n",
        "            images.append(imageio.imread(f\"imgs/{filename}\"))\n",
        "        date = datetime.now().strftime(\"%d-%m-%Y %H:%M:%S\")\n",
        "        imageio.mimsave(f'{date}.gif', images)\n",
        "        self.model.load_weights(\"model.h5\")\n",
        "\n",
        "bs = len(measurements)//50\n",
        "crbm = CRBM(nv=N, nh=N*5)\n",
        "crbm.compile(optimizer=tf.optimizers.Adam(0.1))\n",
        "callbacks=[\n",
        "    tf.keras.callbacks.EarlyStopping(monitor='loss', patience=30),\n",
        "    tf.keras.callbacks.ModelCheckpoint('model.h5', monitor='loss', verbose=False, save_best_only=True),\n",
        "    tf.keras.callbacks.ReduceLROnPlateau(monitor='loss', factor=0.1, patience=10, verbose=False, min_lr=1e-5),\n",
        "    tf.keras.callbacks.CSVLogger(\"training.csv\"),\n",
        "    # Visualize(),\n",
        "    TqdmCallback(batch_size=bs)\n",
        "]\n",
        "hist = crbm.fit(x=(measurements, bases), verbose=False, epochs=200, callbacks=callbacks, batch_size=bs, shuffle=True)"
      ],
      "execution_count": 919,
      "outputs": [
        {
          "output_type": "display_data",
          "data": {
            "application/vnd.jupyter.widget-view+json": {
              "model_id": "ad559fbb55cc41088ff8817b88acb7db",
              "version_minor": 0,
              "version_major": 2
            },
            "text/plain": [
              "HBox(children=(FloatProgress(value=1.0, bar_style='info', max=1.0), HTML(value='')))"
            ]
          },
          "metadata": {
            "tags": []
          }
        },
        {
          "output_type": "display_data",
          "data": {
            "application/vnd.jupyter.widget-view+json": {
              "model_id": "0f84757e597e460d85b10308c14fe274",
              "version_minor": 0,
              "version_major": 2
            },
            "text/plain": [
              "HBox(children=(FloatProgress(value=1.0, bar_style='info', max=1.0), HTML(value='')))"
            ]
          },
          "metadata": {
            "tags": []
          }
        },
        {
          "output_type": "stream",
          "text": [
            "\n"
          ],
          "name": "stdout"
        }
      ]
    },
    {
      "cell_type": "code",
      "metadata": {
        "colab": {
          "base_uri": "https://localhost:8080/",
          "height": 507
        },
        "id": "hFseqVggc4w3",
        "outputId": "cb203b89-9cd0-4891-8311-d47da4dde7ea"
      },
      "source": [
        "fig, (ax1,ax2) = plt.subplots(1, 2, figsize=(14,5), sharey=True, dpi=100)\n",
        "psi = crbm.psi(crbm.v_vecs).numpy()\n",
        "psi = psi/np.linalg.norm(psi)\n",
        "\n",
        "plot_histogram([Statevector(crbm.COBS[2][2][2][2] @ np.expand_dims(psi_z, axis=-1)).probabilities_dict(),\n",
        "                Statevector(crbm.COBS[2][2][2][2] @ psi).probabilities_dict()], ax=ax1, bar_labels=False)\n",
        "ax1.set_xlabel(\"Measurement\")\n",
        "ax1.set_title(\"ZZ Basis\", fontsize=20)\n",
        "plot_histogram([Statevector(crbm.COBS[0][0][0][0] @ np.expand_dims(psi_z, axis=-1)).probabilities_dict(),\n",
        "                Statevector(crbm.COBS[0][0][0][0] @ psi).probabilities_dict()], ax=ax2, legend=['RBM', 'Ground Truth'], bar_labels=False)\n",
        "ax2.set_xlabel(\"Measurement\")\n",
        "ax2.set_title(\"XX Basis\", fontsize=20)\n",
        "ax2.set_ylabel(None)\n",
        "ax1.grid(axis='y', linestyle='--')\n",
        "fig.tight_layout()\n",
        "fig.savefig(\"measurements.png\")"
      ],
      "execution_count": 920,
      "outputs": [
        {
          "output_type": "display_data",
          "data": {
            "image/png": "[encoded data removed]",
            "text/plain": [
              "<Figure size 1400x500 with 2 Axes>"
            ]
          },
          "metadata": {
            "tags": [],
            "needs_background": "light"
          }
        }
      ]
    },
    {
      "cell_type": "code",
      "metadata": {
        "id": "N0EihInLLVhU"
      },
      "source": [
        ""
      ],
      "execution_count": null,
      "outputs": []
    }
  ]
}