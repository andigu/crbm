{
  "nbformat": 4,
  "nbformat_minor": 0,
  "metadata": {
    "kernelspec": {
      "display_name": "Python 3",
      "language": "python",
      "name": "python3"
    },
    "language_info": {
      "codemirror_mode": {
        "name": "ipython",
        "version": 3
      },
      "file_extension": ".py",
      "mimetype": "text/x-python",
      "name": "python",
      "nbconvert_exporter": "python",
      "pygments_lexer": "ipython3",
      "version": "3.8.6"
    },
    "colab": {
      "name": "RBM.ipynb",
      "provenance": [],
      "include_colab_link": true
    }
  },
  "cells": [
    {
      "cell_type": "markdown",
      "metadata": {
        "id": "view-in-github",
        "colab_type": "text"
      },
      "source": [
        "<a href=\"https://colab.research.google.com/github/andigu/crbm/blob/main/RBM.ipynb\" target=\"_parent\"><img src=\"https://colab.research.google.com/assets/colab-badge.svg\" alt=\"Open In Colab\"/></a>"
      ]
    },
    {
      "cell_type": "code",
      "metadata": {
        "id": "s780vxyBu_pm"
      },
      "source": [
        "import tensorflow as tf \n",
        "import tensorflow_probability as tfp\n",
        "import numpy as np \n",
        "from sklearn.neural_network import BernoulliRBM\n",
        "from matplotlib import pyplot as plt\n",
        "import seaborn as sns"
      ],
      "execution_count": 1,
      "outputs": []
    },
    {
      "cell_type": "code",
      "metadata": {
        "id": "iMlzfYznvBfV"
      },
      "source": [
        "class RBM(tf.keras.models.Model):\n",
        "    def __init__(self, nv=2, nh=20, **kwargs):\n",
        "        super(RBM, self).__init__(**kwargs)\n",
        "        self.nv, self.nh = nv, nh\n",
        "        self.W = tf.Variable(tf.random.normal((nv, nh)), trainable=True)\n",
        "        self.bv = tf.Variable(tf.random.normal((nv, 1)), trainable=True) \n",
        "        self.bh = tf.Variable(tf.random.normal((nh, 1)), trainable=True)\n",
        "        \n",
        "    def bernoulli(self, p):\n",
        "        return tf.nn.relu(tf.sign(p - tf.random.uniform(p.shape)))\n",
        "    \n",
        "    def energy(self, v):\n",
        "        b_term = tf.squeeze(tf.matmul(v, self.bv))\n",
        "        linear_tranform = tf.matmul(v, self.W) + tf.squeeze(self.bh)\n",
        "        h_term = tf.reduce_sum(tf.math.log(tf.exp(linear_tranform) + 1), axis=1) \n",
        "        return tf.reduce_mean(-h_term -b_term)\n",
        "    \n",
        "    def sample_h(self, v):\n",
        "        ph_given_v = tf.sigmoid(tf.matmul(v, self.W) + tf.squeeze(self.bh))\n",
        "        return self.bernoulli(ph_given_v)\n",
        "    \n",
        "    def sample_v(self, h):\n",
        "        pv_given_h = tf.sigmoid(tf.matmul(h, tf.transpose(self.W)) + tf.squeeze(self.bv))\n",
        "        return self.bernoulli(pv_given_h)\n",
        "    \n",
        "    def gibbs_step(self, i, vk):\n",
        "        hk = self.sample_h(vk)\n",
        "        vk = self.sample_v(hk)\n",
        "        return i+1, vk\n",
        "    \n",
        "    def gibbs_sample(self, n_samples, n_steps=3):\n",
        "        init = tf.cast(tf.random.uniform(shape=(n_samples, self.nv), maxval=1) <= 0.5, tf.float32)\n",
        "        _, x_samples = tf.while_loop(cond=lambda i, _: i <= n_steps, body = rbm.gibbs_step, \n",
        "                              loop_vars = [0, init], parallel_iterations=1,)\n",
        "        return x_samples\n",
        "    \n",
        "    def call(self, x):\n",
        "        x_samples = self.gibbs_sample(100*len(x))\n",
        "        self.add_loss(self.energy(x) - self.energy(tf.stop_gradient(x_samples)))"
      ],
      "execution_count": 2,
      "outputs": []
    },
    {
      "cell_type": "code",
      "metadata": {
        "id": "LiRTH627u_pm"
      },
      "source": [
        "def to_freq(data):\n",
        "    data = np.packbits(data.astype(np.int), axis=1, bitorder='little').flatten()\n",
        "    vals, freq = np.unique(data, return_counts=True)\n",
        "    return freq/freq.sum()"
      ],
      "execution_count": 3,
      "outputs": []
    },
    {
      "cell_type": "code",
      "metadata": {
        "colab": {
          "base_uri": "https://localhost:8080/"
        },
        "id": "6sckGt9Ju_pm",
        "outputId": "a6740231-13be-485c-9645-3ddcba3f5d00"
      },
      "source": [
        "from tqdm import trange\n",
        "data_vals = []\n",
        "weights = np.random.normal(size=4)\n",
        "probs = np.abs(np.random.normal(size=4))\n",
        "probs = probs/probs.sum()\n",
        "for _ in trange(1000):\n",
        "    tmp = np.random.choice(4, p=probs, size=5000)\n",
        "    options = np.array([[0,0],[0,1],[1,0],[1,1]])\n",
        "    X = options[tmp].astype(np.float32)\n",
        "    data_vals.append(weights @ (to_freq(X)))"
      ],
      "execution_count": 4,
      "outputs": [
        {
          "output_type": "stream",
          "text": [
            "100%|██████████| 1000/1000 [00:00<00:00, 1522.73it/s]\n"
          ],
          "name": "stderr"
        }
      ]
    },
    {
      "cell_type": "code",
      "metadata": {
        "colab": {
          "base_uri": "https://localhost:8080/"
        },
        "id": "T5nrbl0ku_pn",
        "outputId": "99f9c020-d9d9-4f36-8597-b6ff13400de0"
      },
      "source": [
        "X.shape"
      ],
      "execution_count": 5,
      "outputs": [
        {
          "output_type": "execute_result",
          "data": {
            "text/plain": [
              "(5000, 2)"
            ]
          },
          "metadata": {
            "tags": []
          },
          "execution_count": 5
        }
      ]
    },
    {
      "cell_type": "code",
      "metadata": {
        "colab": {
          "base_uri": "https://localhost:8080/"
        },
        "id": "In9FrgJUu_pn",
        "outputId": "2a5266a0-93d9-4e32-9dce-a9102ccc80dd"
      },
      "source": [
        "rbm = RBM(nh=20)\n",
        "rbm_vals = []\n",
        "rbm.compile(optimizer=tf.optimizers.SGD(0.1))\n",
        "callbacks=[\n",
        "    tf.keras.callbacks.EarlyStopping(monitor='loss', patience=20),\n",
        "    tf.keras.callbacks.ModelCheckpoint('model.h5', monitor='loss'),\n",
        "    tf.keras.callbacks.ReduceLROnPlateau(monitor='loss', factor=0.1, patience=5)\n",
        "]\n",
        "rbm.fit(X, batch_size=10, verbose=2, epochs=200, callbacks=callbacks)\n",
        "rbm.load_weights('model.h5')\n",
        "to_freq(rbm.gibbs_sample(100000, n_steps=3).numpy()), to_freq(X)\n",
        "for _ in trange(100):\n",
        "    rbm_vals.append(weights @ (to_freq(rbm.gibbs_sample(100000).numpy())))"
      ],
      "execution_count": 6,
      "outputs": [
        {
          "output_type": "stream",
          "text": [
            "Epoch 1/200\n",
            "500/500 - 1s - loss: 0.0129\n",
            "Epoch 2/200\n",
            "500/500 - 1s - loss: 0.0137\n",
            "Epoch 3/200\n",
            "500/500 - 1s - loss: 0.0232\n",
            "Epoch 4/200\n",
            "500/500 - 1s - loss: 0.0185\n",
            "Epoch 5/200\n",
            "500/500 - 1s - loss: 0.0193\n",
            "Epoch 6/200\n",
            "500/500 - 1s - loss: 0.0185\n",
            "Epoch 7/200\n",
            "500/500 - 1s - loss: 0.0088\n",
            "Epoch 8/200\n",
            "500/500 - 1s - loss: 0.0045\n",
            "Epoch 9/200\n",
            "500/500 - 1s - loss: 0.0046\n",
            "Epoch 10/200\n",
            "500/500 - 1s - loss: 0.0018\n",
            "Epoch 11/200\n",
            "500/500 - 1s - loss: 0.0022\n",
            "Epoch 12/200\n",
            "500/500 - 1s - loss: 0.0035\n",
            "Epoch 13/200\n",
            "500/500 - 1s - loss: 0.0018\n",
            "Epoch 14/200\n",
            "500/500 - 1s - loss: 0.0034\n",
            "Epoch 15/200\n",
            "500/500 - 1s - loss: 0.0014\n",
            "Epoch 16/200\n",
            "500/500 - 1s - loss: 0.0034\n",
            "Epoch 17/200\n",
            "500/500 - 1s - loss: 0.0027\n",
            "Epoch 18/200\n",
            "500/500 - 1s - loss: 5.7491e-04\n",
            "Epoch 19/200\n",
            "500/500 - 1s - loss: 0.0021\n",
            "Epoch 20/200\n",
            "500/500 - 1s - loss: 0.0014\n",
            "Epoch 21/200\n",
            "500/500 - 1s - loss: 0.0019\n",
            "Epoch 22/200\n",
            "500/500 - 1s - loss: 0.0027\n",
            "Epoch 23/200\n",
            "500/500 - 1s - loss: 0.0017\n",
            "Epoch 24/200\n",
            "500/500 - 1s - loss: 0.0014\n",
            "Epoch 25/200\n",
            "500/500 - 1s - loss: 4.3101e-04\n",
            "Epoch 26/200\n",
            "500/500 - 1s - loss: 7.6196e-04\n",
            "Epoch 27/200\n",
            "500/500 - 1s - loss: -6.1760e-04\n",
            "Epoch 28/200\n",
            "500/500 - 1s - loss: 3.0844e-04\n",
            "Epoch 29/200\n",
            "500/500 - 1s - loss: 7.6702e-04\n",
            "Epoch 30/200\n",
            "500/500 - 1s - loss: -1.2450e-04\n",
            "Epoch 31/200\n",
            "500/500 - 1s - loss: 3.3098e-04\n",
            "Epoch 32/200\n",
            "500/500 - 1s - loss: -2.6669e-04\n",
            "Epoch 33/200\n",
            "500/500 - 1s - loss: -4.3352e-04\n",
            "Epoch 34/200\n",
            "500/500 - 1s - loss: 2.7970e-04\n",
            "Epoch 35/200\n",
            "500/500 - 1s - loss: -8.9136e-04\n",
            "Epoch 36/200\n",
            "500/500 - 1s - loss: 3.0175e-04\n",
            "Epoch 37/200\n",
            "500/500 - 1s - loss: -6.3159e-04\n",
            "Epoch 38/200\n",
            "500/500 - 1s - loss: -2.8392e-04\n",
            "Epoch 39/200\n",
            "500/500 - 1s - loss: -2.1548e-04\n",
            "Epoch 40/200\n",
            "500/500 - 1s - loss: -5.9087e-04\n",
            "Epoch 41/200\n",
            "500/500 - 2s - loss: -1.2098e-03\n",
            "Epoch 42/200\n",
            "500/500 - 2s - loss: 3.2624e-04\n",
            "Epoch 43/200\n",
            "500/500 - 2s - loss: 8.1980e-05\n",
            "Epoch 44/200\n",
            "500/500 - 2s - loss: -9.4823e-04\n",
            "Epoch 45/200\n",
            "500/500 - 2s - loss: -8.9752e-04\n",
            "Epoch 46/200\n",
            "500/500 - 2s - loss: -4.0876e-05\n",
            "Epoch 47/200\n",
            "500/500 - 2s - loss: -9.5293e-05\n",
            "Epoch 48/200\n",
            "500/500 - 1s - loss: -4.3792e-04\n",
            "Epoch 49/200\n",
            "500/500 - 1s - loss: -8.5187e-04\n",
            "Epoch 50/200\n",
            "500/500 - 1s - loss: -1.8871e-04\n",
            "Epoch 51/200\n",
            "500/500 - 1s - loss: -2.7232e-04\n",
            "Epoch 52/200\n",
            "500/500 - 1s - loss: 5.1786e-04\n",
            "Epoch 53/200\n",
            "500/500 - 1s - loss: 2.9272e-04\n",
            "Epoch 54/200\n",
            "500/500 - 1s - loss: 2.8448e-05\n",
            "Epoch 55/200\n",
            "500/500 - 1s - loss: 8.2754e-05\n",
            "Epoch 56/200\n",
            "500/500 - 1s - loss: -7.2518e-04\n",
            "Epoch 57/200\n",
            "500/500 - 1s - loss: 3.4234e-04\n",
            "Epoch 58/200\n",
            "500/500 - 1s - loss: -2.4080e-04\n",
            "Epoch 59/200\n",
            "500/500 - 1s - loss: -5.8845e-04\n",
            "Epoch 60/200\n",
            "500/500 - 1s - loss: -4.2219e-04\n",
            "Epoch 61/200\n",
            "500/500 - 1s - loss: 6.5264e-05\n"
          ],
          "name": "stdout"
        },
        {
          "output_type": "stream",
          "text": [
            "100%|██████████| 100/100 [00:13<00:00,  7.17it/s]\n"
          ],
          "name": "stderr"
        }
      ]
    },
    {
      "cell_type": "code",
      "metadata": {
        "colab": {
          "base_uri": "https://localhost:8080/"
        },
        "id": "t3efQpkzu_pn",
        "outputId": "2f8f33a9-082f-439e-879e-985bdcd027eb"
      },
      "source": [
        "np.round(to_freq(rbm.gibbs_sample(100000).numpy()),3), np.round(to_freq(X),3)"
      ],
      "execution_count": 7,
      "outputs": [
        {
          "output_type": "execute_result",
          "data": {
            "text/plain": [
              "(array([0.326, 0.147, 0.162, 0.365]), array([0.325, 0.146, 0.164, 0.366]))"
            ]
          },
          "metadata": {
            "tags": []
          },
          "execution_count": 7
        }
      ]
    },
    {
      "cell_type": "code",
      "metadata": {
        "colab": {
          "base_uri": "https://localhost:8080/",
          "height": 297
        },
        "id": "tf1EYF10u_pn",
        "outputId": "b7167875-7dba-49e0-a325-938220123444"
      },
      "source": [
        "sns.kdeplot(data_vals, fill=True)\n",
        "plt.axvline(np.percentile(np.array(rbm_vals), 5), c='black', ls='--', lw=1)\n",
        "plt.axvline(np.percentile(np.array(rbm_vals), 95), c='black', ls='--', lw=1)\n",
        "plt.axvline(np.percentile(np.array(rbm_vals), 50), c='red', lw=3)\n",
        "plt.axvline(weights@to_freq(X), c='green')\n",
        "plt.tight_layout()"
      ],
      "execution_count": 8,
      "outputs": [
        {
          "output_type": "display_data",
          "data": {
            "image/png": "[encoded data removed]",
            "text/plain": [
              "<Figure size 432x288 with 1 Axes>"
            ]
          },
          "metadata": {
            "tags": [],
            "needs_background": "light"
          }
        }
      ]
    },
    {
      "cell_type": "code",
      "metadata": {
        "id": "GRKZqcZ8u_pn"
      },
      "source": [
        ""
      ],
      "execution_count": 8,
      "outputs": []
    }
  ]
}