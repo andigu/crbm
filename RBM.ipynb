{
  "nbformat": 4,
  "nbformat_minor": 0,
  "metadata": {
    "kernelspec": {
      "display_name": "Python 3",
      "language": "python",
      "name": "python3"
    },
    "language_info": {
      "codemirror_mode": {
        "name": "ipython",
        "version": 3
      },
      "file_extension": ".py",
      "mimetype": "text/x-python",
      "name": "python",
      "nbconvert_exporter": "python",
      "pygments_lexer": "ipython3",
      "version": "3.8.6"
    },
    "colab": {
      "name": "RBM.ipynb",
      "provenance": [],
      "collapsed_sections": [
        "ZogXIPJPPtpP"
      ],
      "toc_visible": true,
      "include_colab_link": true
    }
  },
  "cells": [
    {
      "cell_type": "markdown",
      "metadata": {
        "id": "view-in-github",
        "colab_type": "text"
      },
      "source": [
        "<a href=\"https://colab.research.google.com/github/andigu/crbm/blob/main/RBM.ipynb\" target=\"_parent\"><img src=\"https://colab.research.google.com/assets/colab-badge.svg\" alt=\"Open In Colab\"/></a>"
      ]
    },
    {
      "cell_type": "code",
      "metadata": {
        "id": "s780vxyBu_pm"
      },
      "source": [
        "import tensorflow as tf \n",
        "import tensorflow_probability as tfp\n",
        "import numpy as np \n",
        "from sklearn.neural_network import BernoulliRBM\n",
        "from matplotlib import pyplot as plt\n",
        "import seaborn as sns\n",
        "import pandas as pd"
      ],
      "execution_count": 1,
      "outputs": []
    },
    {
      "cell_type": "markdown",
      "metadata": {
        "id": "ZogXIPJPPtpP"
      },
      "source": [
        "# Real RBM"
      ]
    },
    {
      "cell_type": "code",
      "metadata": {
        "id": "iMlzfYznvBfV"
      },
      "source": [
        "class RBM(tf.keras.models.Model):\n",
        "    def __init__(self, nv=2, nh=20, **kwargs):\n",
        "        super(RBM, self).__init__(**kwargs)\n",
        "        self.nv, self.nh = nv, nh\n",
        "        self.W = tf.Variable(tf.random.normal((nv, nh)), trainable=True)\n",
        "        self.bv = tf.Variable(tf.random.normal((nv, 1)), trainable=True) \n",
        "        self.bh = tf.Variable(tf.random.normal((nh, 1)), trainable=True)\n",
        "        \n",
        "    def bernoulli(self, p):\n",
        "        return tf.nn.relu(tf.sign(p - tf.random.uniform(p.shape)))\n",
        "    \n",
        "    def energy(self, v):\n",
        "        b_term = tf.squeeze(tf.matmul(v, self.bv))\n",
        "        linear_tranform = tf.matmul(v, self.W) + tf.squeeze(self.bh)\n",
        "        h_term = tf.reduce_sum(tf.math.log(tf.exp(linear_tranform) + 1), axis=1) \n",
        "        return tf.reduce_mean(-h_term -b_term)\n",
        "    \n",
        "    def sample_h(self, v):\n",
        "        ph_given_v = tf.sigmoid(tf.matmul(v, self.W) + tf.squeeze(self.bh))\n",
        "        return self.bernoulli(ph_given_v)\n",
        "    \n",
        "    def sample_v(self, h):\n",
        "        pv_given_h = tf.sigmoid(tf.matmul(h, tf.transpose(self.W)) + tf.squeeze(self.bv))\n",
        "        return self.bernoulli(pv_given_h)\n",
        "    \n",
        "    def gibbs_step(self, i, vk):\n",
        "        hk = self.sample_h(vk)\n",
        "        vk = self.sample_v(hk)\n",
        "        return i+1, vk\n",
        "    \n",
        "    def gibbs_sample(self, n_samples, n_steps=3):\n",
        "        init = tf.cast(tf.random.uniform(shape=(n_samples, self.nv), maxval=1) <= 0.5, tf.float32)\n",
        "        _, x_samples = tf.while_loop(cond=lambda i, _: i <= n_steps, body = rbm.gibbs_step, \n",
        "                              loop_vars = [0, init], parallel_iterations=1,)\n",
        "        return x_samples\n",
        "    \n",
        "    def call(self, x):\n",
        "        x_samples = self.gibbs_sample(100*len(x))\n",
        "        self.add_loss(self.energy(x) - self.energy(tf.stop_gradient(x_samples)))"
      ],
      "execution_count": null,
      "outputs": []
    },
    {
      "cell_type": "code",
      "metadata": {
        "id": "LiRTH627u_pm"
      },
      "source": [
        "def to_freq(data):\n",
        "    data = np.packbits(data.astype(np.int), axis=1, bitorder='little').flatten()\n",
        "    vals, freq = np.unique(data, return_counts=True)\n",
        "    return freq/freq.sum()"
      ],
      "execution_count": null,
      "outputs": []
    },
    {
      "cell_type": "code",
      "metadata": {
        "colab": {
          "base_uri": "https://localhost:8080/"
        },
        "id": "6sckGt9Ju_pm",
        "outputId": "a6740231-13be-485c-9645-3ddcba3f5d00"
      },
      "source": [
        "from tqdm import trange\n",
        "data_vals = []\n",
        "weights = np.random.normal(size=4)\n",
        "probs = np.abs(np.random.normal(size=4))\n",
        "probs = probs/probs.sum()\n",
        "for _ in trange(1000):\n",
        "    tmp = np.random.choice(4, p=probs, size=5000)\n",
        "    options = np.array([[0,0],[0,1],[1,0],[1,1]])\n",
        "    X = options[tmp].astype(np.float32)\n",
        "    data_vals.append(weights @ (to_freq(X)))"
      ],
      "execution_count": null,
      "outputs": [
        {
          "output_type": "stream",
          "text": [
            "100%|██████████| 1000/1000 [00:00<00:00, 1522.73it/s]\n"
          ],
          "name": "stderr"
        }
      ]
    },
    {
      "cell_type": "code",
      "metadata": {
        "colab": {
          "base_uri": "https://localhost:8080/"
        },
        "id": "T5nrbl0ku_pn",
        "outputId": "99f9c020-d9d9-4f36-8597-b6ff13400de0"
      },
      "source": [
        "X.shape"
      ],
      "execution_count": null,
      "outputs": [
        {
          "output_type": "execute_result",
          "data": {
            "text/plain": [
              "(5000, 2)"
            ]
          },
          "metadata": {
            "tags": []
          },
          "execution_count": 5
        }
      ]
    },
    {
      "cell_type": "code",
      "metadata": {
        "colab": {
          "base_uri": "https://localhost:8080/"
        },
        "id": "In9FrgJUu_pn",
        "outputId": "2a5266a0-93d9-4e32-9dce-a9102ccc80dd"
      },
      "source": [
        "rbm = RBM(nh=20)\n",
        "rbm_vals = []\n",
        "rbm.compile(optimizer=tf.optimizers.SGD(0.1))\n",
        "callbacks=[\n",
        "    tf.keras.callbacks.EarlyStopping(monitor='loss', patience=20),\n",
        "    tf.keras.callbacks.ModelCheckpoint('model.h5', monitor='loss'),\n",
        "    tf.keras.callbacks.ReduceLROnPlateau(monitor='loss', factor=0.1, patience=5)\n",
        "]\n",
        "rbm.fit(X, batch_size=10, verbose=2, epochs=200, callbacks=callbacks)\n",
        "rbm.load_weights('model.h5')\n",
        "to_freq(rbm.gibbs_sample(100000, n_steps=3).numpy()), to_freq(X)\n",
        "for _ in trange(100):\n",
        "    rbm_vals.append(weights @ (to_freq(rbm.gibbs_sample(100000).numpy())))"
      ],
      "execution_count": null,
      "outputs": [
        {
          "output_type": "stream",
          "text": [
            "Epoch 1/200\n",
            "500/500 - 1s - loss: 0.0129\n",
            "Epoch 2/200\n",
            "500/500 - 1s - loss: 0.0137\n",
            "Epoch 3/200\n",
            "500/500 - 1s - loss: 0.0232\n",
            "Epoch 4/200\n",
            "500/500 - 1s - loss: 0.0185\n",
            "Epoch 5/200\n",
            "500/500 - 1s - loss: 0.0193\n",
            "Epoch 6/200\n",
            "500/500 - 1s - loss: 0.0185\n",
            "Epoch 7/200\n",
            "500/500 - 1s - loss: 0.0088\n",
            "Epoch 8/200\n",
            "500/500 - 1s - loss: 0.0045\n",
            "Epoch 9/200\n",
            "500/500 - 1s - loss: 0.0046\n",
            "Epoch 10/200\n",
            "500/500 - 1s - loss: 0.0018\n",
            "Epoch 11/200\n",
            "500/500 - 1s - loss: 0.0022\n",
            "Epoch 12/200\n",
            "500/500 - 1s - loss: 0.0035\n",
            "Epoch 13/200\n",
            "500/500 - 1s - loss: 0.0018\n",
            "Epoch 14/200\n",
            "500/500 - 1s - loss: 0.0034\n",
            "Epoch 15/200\n",
            "500/500 - 1s - loss: 0.0014\n",
            "Epoch 16/200\n",
            "500/500 - 1s - loss: 0.0034\n",
            "Epoch 17/200\n",
            "500/500 - 1s - loss: 0.0027\n",
            "Epoch 18/200\n",
            "500/500 - 1s - loss: 5.7491e-04\n",
            "Epoch 19/200\n",
            "500/500 - 1s - loss: 0.0021\n",
            "Epoch 20/200\n",
            "500/500 - 1s - loss: 0.0014\n",
            "Epoch 21/200\n",
            "500/500 - 1s - loss: 0.0019\n",
            "Epoch 22/200\n",
            "500/500 - 1s - loss: 0.0027\n",
            "Epoch 23/200\n",
            "500/500 - 1s - loss: 0.0017\n",
            "Epoch 24/200\n",
            "500/500 - 1s - loss: 0.0014\n",
            "Epoch 25/200\n",
            "500/500 - 1s - loss: 4.3101e-04\n",
            "Epoch 26/200\n",
            "500/500 - 1s - loss: 7.6196e-04\n",
            "Epoch 27/200\n",
            "500/500 - 1s - loss: -6.1760e-04\n",
            "Epoch 28/200\n",
            "500/500 - 1s - loss: 3.0844e-04\n",
            "Epoch 29/200\n",
            "500/500 - 1s - loss: 7.6702e-04\n",
            "Epoch 30/200\n",
            "500/500 - 1s - loss: -1.2450e-04\n",
            "Epoch 31/200\n",
            "500/500 - 1s - loss: 3.3098e-04\n",
            "Epoch 32/200\n",
            "500/500 - 1s - loss: -2.6669e-04\n",
            "Epoch 33/200\n",
            "500/500 - 1s - loss: -4.3352e-04\n",
            "Epoch 34/200\n",
            "500/500 - 1s - loss: 2.7970e-04\n",
            "Epoch 35/200\n",
            "500/500 - 1s - loss: -8.9136e-04\n",
            "Epoch 36/200\n",
            "500/500 - 1s - loss: 3.0175e-04\n",
            "Epoch 37/200\n",
            "500/500 - 1s - loss: -6.3159e-04\n",
            "Epoch 38/200\n",
            "500/500 - 1s - loss: -2.8392e-04\n",
            "Epoch 39/200\n",
            "500/500 - 1s - loss: -2.1548e-04\n",
            "Epoch 40/200\n",
            "500/500 - 1s - loss: -5.9087e-04\n",
            "Epoch 41/200\n",
            "500/500 - 2s - loss: -1.2098e-03\n",
            "Epoch 42/200\n",
            "500/500 - 2s - loss: 3.2624e-04\n",
            "Epoch 43/200\n",
            "500/500 - 2s - loss: 8.1980e-05\n",
            "Epoch 44/200\n",
            "500/500 - 2s - loss: -9.4823e-04\n",
            "Epoch 45/200\n",
            "500/500 - 2s - loss: -8.9752e-04\n",
            "Epoch 46/200\n",
            "500/500 - 2s - loss: -4.0876e-05\n",
            "Epoch 47/200\n",
            "500/500 - 2s - loss: -9.5293e-05\n",
            "Epoch 48/200\n",
            "500/500 - 1s - loss: -4.3792e-04\n",
            "Epoch 49/200\n",
            "500/500 - 1s - loss: -8.5187e-04\n",
            "Epoch 50/200\n",
            "500/500 - 1s - loss: -1.8871e-04\n",
            "Epoch 51/200\n",
            "500/500 - 1s - loss: -2.7232e-04\n",
            "Epoch 52/200\n",
            "500/500 - 1s - loss: 5.1786e-04\n",
            "Epoch 53/200\n",
            "500/500 - 1s - loss: 2.9272e-04\n",
            "Epoch 54/200\n",
            "500/500 - 1s - loss: 2.8448e-05\n",
            "Epoch 55/200\n",
            "500/500 - 1s - loss: 8.2754e-05\n",
            "Epoch 56/200\n",
            "500/500 - 1s - loss: -7.2518e-04\n",
            "Epoch 57/200\n",
            "500/500 - 1s - loss: 3.4234e-04\n",
            "Epoch 58/200\n",
            "500/500 - 1s - loss: -2.4080e-04\n",
            "Epoch 59/200\n",
            "500/500 - 1s - loss: -5.8845e-04\n",
            "Epoch 60/200\n",
            "500/500 - 1s - loss: -4.2219e-04\n",
            "Epoch 61/200\n",
            "500/500 - 1s - loss: 6.5264e-05\n"
          ],
          "name": "stdout"
        },
        {
          "output_type": "stream",
          "text": [
            "100%|██████████| 100/100 [00:13<00:00,  7.17it/s]\n"
          ],
          "name": "stderr"
        }
      ]
    },
    {
      "cell_type": "code",
      "metadata": {
        "colab": {
          "base_uri": "https://localhost:8080/"
        },
        "id": "t3efQpkzu_pn",
        "outputId": "2f8f33a9-082f-439e-879e-985bdcd027eb"
      },
      "source": [
        "np.round(to_freq(rbm.gibbs_sample(100000).numpy()),3), np.round(to_freq(X),3)"
      ],
      "execution_count": null,
      "outputs": [
        {
          "output_type": "execute_result",
          "data": {
            "text/plain": [
              "(array([0.326, 0.147, 0.162, 0.365]), array([0.325, 0.146, 0.164, 0.366]))"
            ]
          },
          "metadata": {
            "tags": []
          },
          "execution_count": 7
        }
      ]
    },
    {
      "cell_type": "code",
      "metadata": {
        "colab": {
          "base_uri": "https://localhost:8080/",
          "height": 297
        },
        "id": "tf1EYF10u_pn",
        "outputId": "b7167875-7dba-49e0-a325-938220123444"
      },
      "source": [
        "sns.kdeplot(data_vals, fill=True)\n",
        "plt.axvline(np.percentile(np.array(rbm_vals), 5), c='black', ls='--', lw=1)\n",
        "plt.axvline(np.percentile(np.array(rbm_vals), 95), c='black', ls='--', lw=1)\n",
        "plt.axvline(np.percentile(np.array(rbm_vals), 50), c='red', lw=3)\n",
        "plt.axvline(weights@to_freq(X), c='green')\n",
        "plt.tight_layout()"
      ],
      "execution_count": null,
      "outputs": [
        {
          "output_type": "display_data",
          "data": {
            "image/png": "[encoded data removed]",
            "text/plain": [
              "<Figure size 432x288 with 1 Axes>"
            ]
          },
          "metadata": {
            "tags": [],
            "needs_background": "light"
          }
        }
      ]
    },
    {
      "cell_type": "markdown",
      "metadata": {
        "id": "V6Kok_QwPv2r"
      },
      "source": [
        "# Complex RBM"
      ]
    },
    {
      "cell_type": "code",
      "metadata": {
        "colab": {
          "base_uri": "https://localhost:8080/"
        },
        "id": "fnMET6SiPw5y",
        "outputId": "f79841e7-480a-42e5-fd93-df8af1898b32"
      },
      "source": [
        "psi_z = np.random.normal(size=2) + np.random.normal(size=2) * 1j\n",
        "psi_z = psi_z/np.linalg.norm(psi_z)\n",
        "psi_z"
      ],
      "execution_count": 356,
      "outputs": [
        {
          "output_type": "execute_result",
          "data": {
            "text/plain": [
              "array([0.0962174 +0.8060157j , 0.46011337-0.35968959j])"
            ]
          },
          "metadata": {
            "tags": []
          },
          "execution_count": 356
        }
      ]
    },
    {
      "cell_type": "code",
      "metadata": {
        "id": "hxGt_2MiQMiy"
      },
      "source": [
        "COBS = np.array([\n",
        "    [\n",
        "     [-1/np.sqrt(2), 1/np.sqrt(2)], # complex conjugate of 1st x vector in z basis\n",
        "     [ 1/np.sqrt(2), 1/np.sqrt(2)]\n",
        "    ],\n",
        "    [\n",
        "     [1j/np.sqrt(2), 1/np.sqrt(2)], # complex conjugate of 1st y vector\n",
        "     [-1j/np.sqrt(2), 1/np.sqrt(2)]\n",
        "    ],\n",
        "    [\n",
        "     [1, 0],\n",
        "     [0, 1]\n",
        "    ]\n",
        "])\n",
        "def draw_from_psi(psi_z, N=10000, basis=2):\n",
        "    sigma = np.take(COBS, basis, axis=0)\n",
        "    psi_proj = (sigma @ psi_z[:,np.newaxis]).flatten()\n",
        "    probs = psi_proj * np.conj(psi_proj)\n",
        "    res = np.random.multinomial(n=1, pvals=np.real(probs), size=N)\n",
        "    return np.argwhere(res)[:,1]\n",
        "\n",
        "Z_samples = draw_from_psi(psi_z, N=5000, basis=2)\n",
        "X_samples = draw_from_psi(psi_z, N=5000, basis=0)"
      ],
      "execution_count": 357,
      "outputs": []
    },
    {
      "cell_type": "code",
      "metadata": {
        "id": "4puvIMAYY7SA"
      },
      "source": [
        "class CRBM(tf.keras.models.Model):\n",
        "    def __init__(self, nv=1, nh=5):\n",
        "        super(CRBM, self).__init__()\n",
        "        self.nv, self.nh = nv, nh\n",
        "        self.bv = tf.Variable(initial_value=CRBM.random_normal((nv,1)), dtype=tf.dtypes.complex64)\n",
        "        self.bh = tf.Variable(initial_value=CRBM.random_normal((nh,1)), dtype=tf.dtypes.complex64)\n",
        "        self.W = tf.Variable(initial_value=CRBM.random_normal((nv, nh)), dtype=tf.dtypes.complex64)\n",
        "        v_vecs = np.array([list(\"{0:b}\".format(x).zfill(nv)) for x in np.arange(2**nv)]).astype(np.int)\n",
        "        self.v_vecs = tf.cast(tf.convert_to_tensor(v_vecs), tf.dtypes.complex64)\n",
        "        self.COBS = tf.cast(tf.convert_to_tensor(COBS), tf.dtypes.complex64)\n",
        "    \n",
        "    @staticmethod\n",
        "    def random_normal(shape):\n",
        "        return np.random.normal(size=shape) + 1j*np.random.normal(size=shape)\n",
        "    \n",
        "    def psi(self, v):\n",
        "        \"\"\"\n",
        "        Accepts only length N binary strings\n",
        "        \"\"\"\n",
        "        if tf.rank(v) == 1:\n",
        "            v = tf.expand_dims(v, axis=-1)\n",
        "        elif tf.rank(v) == 2:\n",
        "            v = tf.transpose(v)\n",
        "        ret = tf.linalg.adjoint(self.bv) @ v + tf.reduce_sum(tf.math.log(tf.math.conj(tf.exp(self.bh + tf.linalg.adjoint(self.W) @ v)) + 1), axis=0)\n",
        "        return tf.transpose(tf.exp(ret))\n",
        "\n",
        "    def prob(self, spins, basis):\n",
        "        basis = tf.cast(basis, tf.int64)\n",
        "        indexing = tf.concat((basis, spins), axis=-1)\n",
        "        sigma = tf.math.conj(tf.cast(tf.gather_nd(self.COBS, indexing), tf.dtypes.complex64)) # sigma = <v_i | measured state vector>\n",
        "        psi_vec = self.psi(self.v_vecs)\n",
        "        psi_proj = sigma @ psi_vec\n",
        "        return tf.cast(psi_proj*tf.math.conj(psi_proj)/tf.linalg.norm(psi_vec)**2, tf.float32)\n",
        "\n",
        "    def call(self, measurement):\n",
        "        spins = measurement[0]\n",
        "        basis = measurement[1]\n",
        "        probs = self.prob(spins, basis=basis)\n",
        "        self.add_loss(-tf.math.reduce_mean(tf.math.log(probs)))"
      ],
      "execution_count": 358,
      "outputs": []
    },
    {
      "cell_type": "code",
      "metadata": {
        "id": "GGBzuVZ2dKa6"
      },
      "source": [
        "bs = 100\n",
        "measurements = np.expand_dims(np.concatenate((X_samples, Z_samples), axis=0), axis=-1)\n",
        "bases = np.expand_dims(np.concatenate((np.zeros(len(X_samples)), 2*np.ones(len(Z_samples))), axis=0), axis=-1)"
      ],
      "execution_count": 359,
      "outputs": []
    },
    {
      "cell_type": "code",
      "metadata": {
        "colab": {
          "base_uri": "https://localhost:8080/"
        },
        "id": "zLNAhPYG0Dlm",
        "outputId": "aba555f8-ce8e-4226-d753-79bc65ad2264"
      },
      "source": [
        "!rm -rf imgs\n",
        "!mkdir imgs\n",
        "import imageio\n",
        "from datetime import datetime\n",
        "import os\n",
        "from qiskit.visualization import plot_bloch_vector\n",
        "class Visualize(tf.keras.callbacks.Callback):\n",
        "    def on_epoch_begin(self, epoch, logs):\n",
        "        if epoch <= 20:\n",
        "            tmp = psi_z/psi_z[0]\n",
        "            tmp = tmp/np.linalg.norm(tmp)\n",
        "            theta = np.arccos(tmp[0].real)*2\n",
        "            phi = np.angle(tmp[1])\n",
        "\n",
        "            fig = plot_bloch_vector([1,theta,phi], coord_type='spherical', title=f'Epoch {epoch}')\n",
        "            psi = self.model.psi(self.model.v_vecs)\n",
        "            psi = (psi/np.linalg.norm(psi)).numpy().flatten()\n",
        "            tmp = psi/psi[0]\n",
        "            tmp = tmp/np.linalg.norm(tmp)\n",
        "            theta = np.arccos(tmp[0].real)*2\n",
        "            phi = np.angle(tmp[1])\n",
        "            plot_bloch_vector([1,theta,phi], coord_type='spherical', ax=fig.gca(), title=f'Epoch {epoch}')\n",
        "            fig.savefig(f\"imgs/epoch-{str(epoch).zfill(3)}.png\", bbox_inches='tight')\n",
        "    \n",
        "    def on_train_end(self, logs):\n",
        "        images = []\n",
        "        for filename in sorted(os.listdir(\"imgs/\"), key=lambda x: int(x.split('.')[0][-3:])):\n",
        "            images.append(imageio.imread(f\"imgs/{filename}\"))\n",
        "        for _ in range(10):\n",
        "            images.append(imageio.imread(f\"imgs/{filename}\"))\n",
        "        date = datetime.now().strftime(\"%d-%m-%Y %H:%M:%S\")\n",
        "        imageio.mimsave(f'{date}.gif', images)\n",
        "        self.model.load_weights(\"model.h5\")\n",
        "\n",
        "crbm = CRBM(nv=1, nh=5)\n",
        "crbm.compile(optimizer=tf.optimizers.Adam(0.1))\n",
        "callbacks=[\n",
        "    tf.keras.callbacks.EarlyStopping(monitor='loss', patience=30),\n",
        "    tf.keras.callbacks.ModelCheckpoint('model.h5', monitor='loss', verbose=True, save_best_only=True),\n",
        "    tf.keras.callbacks.ReduceLROnPlateau(monitor='loss', factor=0.1, patience=5, verbose=True, min_lr=1e-5),\n",
        "    tf.keras.callbacks.CSVLogger(\"training.csv\"),\n",
        "    Visualize()\n",
        "]\n",
        "hist = crbm.fit(x=(measurements, bases), verbose=2, epochs=200, callbacks=callbacks, batch_size=200, shuffle=True)"
      ],
      "execution_count": 412,
      "outputs": [
        {
          "output_type": "stream",
          "text": [
            "Epoch 1/200\n",
            "\n",
            "Epoch 00001: loss improved from inf to 0.71612, saving model to model.h5\n",
            "50/50 - 0s - loss: 0.7161\n",
            "Epoch 2/200\n",
            "\n",
            "Epoch 00002: loss improved from 0.71612 to 0.61793, saving model to model.h5\n",
            "50/50 - 0s - loss: 0.6179\n",
            "Epoch 3/200\n",
            "\n",
            "Epoch 00003: loss improved from 0.61793 to 0.61299, saving model to model.h5\n",
            "50/50 - 0s - loss: 0.6130\n",
            "Epoch 4/200\n",
            "\n",
            "Epoch 00004: loss improved from 0.61299 to 0.61030, saving model to model.h5\n",
            "50/50 - 0s - loss: 0.6103\n",
            "Epoch 5/200\n",
            "\n",
            "Epoch 00005: loss improved from 0.61030 to 0.60696, saving model to model.h5\n",
            "50/50 - 0s - loss: 0.6070\n",
            "Epoch 6/200\n",
            "\n",
            "Epoch 00006: loss did not improve from 0.60696\n",
            "50/50 - 0s - loss: 0.6074\n",
            "Epoch 7/200\n",
            "\n",
            "Epoch 00007: loss did not improve from 0.60696\n",
            "50/50 - 0s - loss: 0.6082\n",
            "Epoch 8/200\n",
            "\n",
            "Epoch 00008: loss did not improve from 0.60696\n",
            "50/50 - 0s - loss: 0.6102\n",
            "Epoch 9/200\n",
            "\n",
            "Epoch 00009: loss did not improve from 0.60696\n",
            "50/50 - 0s - loss: 0.6196\n",
            "Epoch 10/200\n",
            "\n",
            "Epoch 00010: loss did not improve from 0.60696\n",
            "\n",
            "Epoch 00010: ReduceLROnPlateau reducing learning rate to 0.010000000149011612.\n",
            "50/50 - 0s - loss: 0.6207\n",
            "Epoch 11/200\n",
            "\n",
            "Epoch 00011: loss did not improve from 0.60696\n",
            "50/50 - 0s - loss: 0.6082\n",
            "Epoch 12/200\n",
            "\n",
            "Epoch 00012: loss improved from 0.60696 to 0.60633, saving model to model.h5\n",
            "50/50 - 0s - loss: 0.6063\n",
            "Epoch 13/200\n",
            "\n",
            "Epoch 00013: loss did not improve from 0.60633\n",
            "50/50 - 0s - loss: 0.6067\n",
            "Epoch 14/200\n",
            "\n",
            "Epoch 00014: loss did not improve from 0.60633\n",
            "50/50 - 0s - loss: 0.6063\n",
            "Epoch 15/200\n",
            "\n",
            "Epoch 00015: loss did not improve from 0.60633\n",
            "50/50 - 0s - loss: 0.6067\n",
            "Epoch 16/200\n",
            "\n",
            "Epoch 00016: loss did not improve from 0.60633\n",
            "50/50 - 0s - loss: 0.6064\n",
            "Epoch 17/200\n",
            "\n",
            "Epoch 00017: loss did not improve from 0.60633\n",
            "\n",
            "Epoch 00017: ReduceLROnPlateau reducing learning rate to 0.0009999999776482583.\n",
            "50/50 - 0s - loss: 0.6064\n",
            "Epoch 18/200\n",
            "\n",
            "Epoch 00018: loss improved from 0.60633 to 0.60630, saving model to model.h5\n",
            "50/50 - 0s - loss: 0.6063\n",
            "Epoch 19/200\n",
            "\n",
            "Epoch 00019: loss improved from 0.60630 to 0.60623, saving model to model.h5\n",
            "50/50 - 0s - loss: 0.6062\n",
            "Epoch 20/200\n",
            "\n",
            "Epoch 00020: loss improved from 0.60623 to 0.60620, saving model to model.h5\n",
            "50/50 - 0s - loss: 0.6062\n",
            "Epoch 21/200\n",
            "\n",
            "Epoch 00021: loss did not improve from 0.60620\n",
            "50/50 - 0s - loss: 0.6062\n",
            "Epoch 22/200\n",
            "\n",
            "Epoch 00022: loss did not improve from 0.60620\n",
            "50/50 - 0s - loss: 0.6062\n",
            "Epoch 23/200\n",
            "\n",
            "Epoch 00023: loss improved from 0.60620 to 0.60620, saving model to model.h5\n",
            "50/50 - 0s - loss: 0.6062\n",
            "Epoch 24/200\n",
            "\n",
            "Epoch 00024: loss did not improve from 0.60620\n",
            "\n",
            "Epoch 00024: ReduceLROnPlateau reducing learning rate to 9.999999310821295e-05.\n",
            "50/50 - 0s - loss: 0.6062\n",
            "Epoch 25/200\n",
            "\n",
            "Epoch 00025: loss improved from 0.60620 to 0.60618, saving model to model.h5\n",
            "50/50 - 0s - loss: 0.6062\n",
            "Epoch 26/200\n",
            "\n",
            "Epoch 00026: loss did not improve from 0.60618\n",
            "50/50 - 0s - loss: 0.6062\n",
            "Epoch 27/200\n",
            "\n",
            "Epoch 00027: loss did not improve from 0.60618\n",
            "50/50 - 0s - loss: 0.6062\n",
            "Epoch 28/200\n",
            "\n",
            "Epoch 00028: loss did not improve from 0.60618\n",
            "50/50 - 0s - loss: 0.6062\n",
            "Epoch 29/200\n",
            "\n",
            "Epoch 00029: loss improved from 0.60618 to 0.60617, saving model to model.h5\n",
            "\n",
            "Epoch 00029: ReduceLROnPlateau reducing learning rate to 1e-05.\n",
            "50/50 - 0s - loss: 0.6062\n",
            "Epoch 30/200\n",
            "\n",
            "Epoch 00030: loss improved from 0.60617 to 0.60617, saving model to model.h5\n",
            "50/50 - 0s - loss: 0.6062\n",
            "Epoch 31/200\n",
            "\n",
            "Epoch 00031: loss did not improve from 0.60617\n",
            "50/50 - 0s - loss: 0.6062\n",
            "Epoch 32/200\n",
            "\n",
            "Epoch 00032: loss did not improve from 0.60617\n",
            "50/50 - 0s - loss: 0.6062\n",
            "Epoch 33/200\n",
            "\n",
            "Epoch 00033: loss did not improve from 0.60617\n",
            "50/50 - 0s - loss: 0.6062\n",
            "Epoch 34/200\n",
            "\n",
            "Epoch 00034: loss improved from 0.60617 to 0.60617, saving model to model.h5\n",
            "50/50 - 0s - loss: 0.6062\n",
            "Epoch 35/200\n",
            "\n",
            "Epoch 00035: loss improved from 0.60617 to 0.60617, saving model to model.h5\n",
            "50/50 - 0s - loss: 0.6062\n",
            "Epoch 36/200\n",
            "\n",
            "Epoch 00036: loss did not improve from 0.60617\n",
            "50/50 - 0s - loss: 0.6062\n",
            "Epoch 37/200\n",
            "\n",
            "Epoch 00037: loss did not improve from 0.60617\n",
            "50/50 - 0s - loss: 0.6062\n",
            "Epoch 38/200\n",
            "\n",
            "Epoch 00038: loss did not improve from 0.60617\n",
            "50/50 - 0s - loss: 0.6062\n",
            "Epoch 39/200\n",
            "\n",
            "Epoch 00039: loss did not improve from 0.60617\n",
            "50/50 - 0s - loss: 0.6062\n",
            "Epoch 40/200\n",
            "\n",
            "Epoch 00040: loss did not improve from 0.60617\n",
            "50/50 - 0s - loss: 0.6062\n",
            "Epoch 41/200\n",
            "\n",
            "Epoch 00041: loss did not improve from 0.60617\n",
            "50/50 - 0s - loss: 0.6062\n",
            "Epoch 42/200\n",
            "\n",
            "Epoch 00042: loss did not improve from 0.60617\n",
            "50/50 - 0s - loss: 0.6062\n",
            "Epoch 43/200\n",
            "\n",
            "Epoch 00043: loss did not improve from 0.60617\n",
            "50/50 - 0s - loss: 0.6062\n",
            "Epoch 44/200\n",
            "\n",
            "Epoch 00044: loss did not improve from 0.60617\n",
            "50/50 - 0s - loss: 0.6062\n",
            "Epoch 45/200\n",
            "\n",
            "Epoch 00045: loss did not improve from 0.60617\n",
            "50/50 - 0s - loss: 0.6062\n",
            "Epoch 46/200\n",
            "\n",
            "Epoch 00046: loss did not improve from 0.60617\n",
            "50/50 - 0s - loss: 0.6062\n",
            "Epoch 47/200\n",
            "\n",
            "Epoch 00047: loss did not improve from 0.60617\n",
            "50/50 - 0s - loss: 0.6062\n",
            "Epoch 48/200\n",
            "\n",
            "Epoch 00048: loss did not improve from 0.60617\n",
            "50/50 - 0s - loss: 0.6062\n",
            "Epoch 49/200\n",
            "\n",
            "Epoch 00049: loss did not improve from 0.60617\n",
            "50/50 - 0s - loss: 0.6062\n",
            "Epoch 50/200\n",
            "\n",
            "Epoch 00050: loss did not improve from 0.60617\n",
            "50/50 - 0s - loss: 0.6062\n",
            "Epoch 51/200\n",
            "\n",
            "Epoch 00051: loss improved from 0.60617 to 0.60617, saving model to model.h5\n",
            "50/50 - 0s - loss: 0.6062\n",
            "Epoch 52/200\n",
            "\n",
            "Epoch 00052: loss did not improve from 0.60617\n",
            "50/50 - 0s - loss: 0.6062\n",
            "Epoch 53/200\n",
            "\n",
            "Epoch 00053: loss did not improve from 0.60617\n",
            "50/50 - 0s - loss: 0.6062\n",
            "Epoch 54/200\n",
            "\n",
            "Epoch 00054: loss did not improve from 0.60617\n",
            "50/50 - 0s - loss: 0.6062\n",
            "Epoch 55/200\n",
            "\n",
            "Epoch 00055: loss did not improve from 0.60617\n",
            "50/50 - 0s - loss: 0.6062\n",
            "Epoch 56/200\n",
            "\n",
            "Epoch 00056: loss did not improve from 0.60617\n",
            "50/50 - 0s - loss: 0.6062\n",
            "Epoch 57/200\n",
            "\n",
            "Epoch 00057: loss improved from 0.60617 to 0.60617, saving model to model.h5\n",
            "50/50 - 0s - loss: 0.6062\n",
            "Epoch 58/200\n",
            "\n",
            "Epoch 00058: loss did not improve from 0.60617\n",
            "50/50 - 0s - loss: 0.6062\n",
            "Epoch 59/200\n",
            "\n",
            "Epoch 00059: loss did not improve from 0.60617\n",
            "50/50 - 0s - loss: 0.6062\n",
            "Epoch 60/200\n",
            "\n",
            "Epoch 00060: loss did not improve from 0.60617\n",
            "50/50 - 0s - loss: 0.6062\n",
            "Epoch 61/200\n",
            "\n",
            "Epoch 00061: loss did not improve from 0.60617\n",
            "50/50 - 0s - loss: 0.6062\n",
            "Epoch 62/200\n",
            "\n",
            "Epoch 00062: loss did not improve from 0.60617\n",
            "50/50 - 0s - loss: 0.6062\n",
            "Epoch 63/200\n",
            "\n",
            "Epoch 00063: loss did not improve from 0.60617\n",
            "50/50 - 0s - loss: 0.6062\n",
            "Epoch 64/200\n",
            "\n",
            "Epoch 00064: loss did not improve from 0.60617\n",
            "50/50 - 0s - loss: 0.6062\n",
            "Epoch 65/200\n",
            "\n",
            "Epoch 00065: loss did not improve from 0.60617\n",
            "50/50 - 0s - loss: 0.6062\n",
            "Epoch 66/200\n",
            "\n",
            "Epoch 00066: loss did not improve from 0.60617\n",
            "50/50 - 0s - loss: 0.6062\n",
            "Epoch 67/200\n",
            "\n",
            "Epoch 00067: loss did not improve from 0.60617\n",
            "50/50 - 0s - loss: 0.6062\n",
            "Epoch 68/200\n",
            "\n",
            "Epoch 00068: loss did not improve from 0.60617\n",
            "50/50 - 0s - loss: 0.6062\n",
            "Epoch 69/200\n",
            "\n",
            "Epoch 00069: loss did not improve from 0.60617\n",
            "50/50 - 0s - loss: 0.6062\n",
            "Epoch 70/200\n",
            "\n",
            "Epoch 00070: loss did not improve from 0.60617\n",
            "50/50 - 0s - loss: 0.6062\n",
            "Epoch 71/200\n",
            "\n",
            "Epoch 00071: loss did not improve from 0.60617\n",
            "50/50 - 0s - loss: 0.6062\n",
            "Epoch 72/200\n",
            "\n",
            "Epoch 00072: loss did not improve from 0.60617\n",
            "50/50 - 0s - loss: 0.6062\n",
            "Epoch 73/200\n",
            "\n",
            "Epoch 00073: loss did not improve from 0.60617\n",
            "50/50 - 0s - loss: 0.6062\n",
            "Epoch 74/200\n",
            "\n",
            "Epoch 00074: loss did not improve from 0.60617\n",
            "50/50 - 0s - loss: 0.6062\n",
            "Epoch 75/200\n",
            "\n",
            "Epoch 00075: loss did not improve from 0.60617\n",
            "50/50 - 0s - loss: 0.6062\n",
            "Epoch 76/200\n",
            "\n",
            "Epoch 00076: loss did not improve from 0.60617\n",
            "50/50 - 0s - loss: 0.6062\n",
            "Epoch 77/200\n",
            "\n",
            "Epoch 00077: loss did not improve from 0.60617\n",
            "50/50 - 0s - loss: 0.6062\n",
            "Epoch 78/200\n",
            "\n",
            "Epoch 00078: loss did not improve from 0.60617\n",
            "50/50 - 0s - loss: 0.6062\n",
            "Epoch 79/200\n",
            "\n",
            "Epoch 00079: loss did not improve from 0.60617\n",
            "50/50 - 0s - loss: 0.6062\n",
            "Epoch 80/200\n",
            "\n",
            "Epoch 00080: loss did not improve from 0.60617\n",
            "50/50 - 0s - loss: 0.6062\n",
            "Epoch 81/200\n",
            "\n",
            "Epoch 00081: loss did not improve from 0.60617\n",
            "50/50 - 0s - loss: 0.6062\n",
            "Epoch 82/200\n",
            "\n",
            "Epoch 00082: loss did not improve from 0.60617\n",
            "50/50 - 0s - loss: 0.6062\n",
            "Epoch 83/200\n",
            "\n",
            "Epoch 00083: loss did not improve from 0.60617\n",
            "50/50 - 0s - loss: 0.6062\n",
            "Epoch 84/200\n",
            "\n",
            "Epoch 00084: loss did not improve from 0.60617\n",
            "50/50 - 0s - loss: 0.6062\n",
            "Epoch 85/200\n",
            "\n",
            "Epoch 00085: loss did not improve from 0.60617\n",
            "50/50 - 0s - loss: 0.6062\n",
            "Epoch 86/200\n",
            "\n",
            "Epoch 00086: loss did not improve from 0.60617\n",
            "50/50 - 0s - loss: 0.6062\n",
            "Epoch 87/200\n",
            "\n",
            "Epoch 00087: loss did not improve from 0.60617\n",
            "50/50 - 0s - loss: 0.6062\n"
          ],
          "name": "stdout"
        }
      ]
    },
    {
      "cell_type": "code",
      "metadata": {
        "colab": {
          "base_uri": "https://localhost:8080/",
          "height": 369
        },
        "id": "zQZ8RBZhk2zv",
        "outputId": "c7c59c60-eb37-432d-957b-471b1998bb24"
      },
      "source": [
        "plt.figure(figsize=(8,5))\n",
        "grnd_truth = [np.abs(psi_z[0] - psi_z[1])**2/2, np.abs(psi_z[0] + psi_z[1])**2/2, np.abs(psi_z[0] + 1j* psi_z[1])**2/2, np.abs(psi_z[0] - 1j* psi_z[1])**2/2, np.abs(psi_z[0])**2, np.abs(psi_z[1])**2]\n",
        "psi = crbm.psi(crbm.v_vecs)\n",
        "psi = (psi/np.linalg.norm(psi)).numpy().flatten()\n",
        "rbm_pred = [np.abs(psi[0] - psi[1])**2/2, np.abs(psi[0] + psi[1])**2/2, np.abs(psi[0] + 1j* psi[1])**2/2, np.abs(psi[0] - 1j* psi[1])**2/2, np.abs(psi[0])**2, np.abs(psi[1])**2]\n",
        "labels = [r'$\\psi_{x-}$','$\\psi_{x+}$','$\\psi_{y-}$','$\\psi_{y+}$','$\\psi_{z-}$','$\\psi_{z+}$',]\n",
        "x = np.arange(len(labels))\n",
        "width=0.35\n",
        "plt.bar(x-width/2, grnd_truth, width=width, label='Ground Truth')\n",
        "plt.bar(x+width/2, rbm_pred, width=width, label='RBM Predictions')\n",
        "plt.legend()\n",
        "plt.xticks(ticks=x, labels=labels);\n",
        "plt.tight_layout()"
      ],
      "execution_count": 437,
      "outputs": [
        {
          "output_type": "display_data",
          "data": {
            "image/png": "[encoded data removed]",
            "text/plain": [
              "<Figure size 576x360 with 1 Axes>"
            ]
          },
          "metadata": {
            "tags": [],
            "needs_background": "light"
          }
        }
      ]
    },
    {
      "cell_type": "code",
      "metadata": {
        "colab": {
          "base_uri": "https://localhost:8080/"
        },
        "id": "vwrDkLZOVdRo",
        "outputId": "2c8a09a2-2191-4f44-f2dc-9de5a423035a"
      },
      "source": [
        "sv = qiskit.quantum_info.Statevector(psi)\n",
        "sv.expectation_value(qiskit.quantum_info.Pauli.from_label(\"Z\"))"
      ],
      "execution_count": 443,
      "outputs": [
        {
          "output_type": "execute_result",
          "data": {
            "text/plain": [
              "(0.31409029204352784+0j)"
            ]
          },
          "metadata": {
            "tags": []
          },
          "execution_count": 443
        }
      ]
    },
    {
      "cell_type": "code",
      "metadata": {
        "colab": {
          "base_uri": "https://localhost:8080/"
        },
        "id": "rAjB6iPSasyr",
        "outputId": "bb451e76-9854-4c12-e0c5-337602d74314"
      },
      "source": [
        "rbm_pred"
      ],
      "execution_count": 441,
      "outputs": [
        {
          "output_type": "execute_result",
          "data": {
            "text/plain": [
              "[0.7435589486295342,\n",
              " 0.256441035638888,\n",
              " 0.0925495574242188,\n",
              " 0.9074504418976822,\n",
              " 0.6570451789716714,\n",
              " 0.34295488695130416]"
            ]
          },
          "metadata": {
            "tags": []
          },
          "execution_count": 441
        }
      ]
    },
    {
      "cell_type": "code",
      "metadata": {
        "id": "YfJJbyT0b6Rb"
      },
      "source": [
        ""
      ],
      "execution_count": null,
      "outputs": []
    }
  ]
}