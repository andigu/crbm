{
  "nbformat": 4,
  "nbformat_minor": 0,
  "metadata": {
    "colab": {
      "name": "H2 CRBM.ipynb",
      "provenance": [],
      "collapsed_sections": [],
      "toc_visible": true,
      "authorship_tag": "ABX9TyOWiXfzdN0TbhOIkztoWzSX",
      "include_colab_link": true
    },
    "kernelspec": {
      "display_name": "Python 3",
      "name": "python3"
    },
    "widgets": {
      "application/vnd.jupyter.widget-state+json": {
        "bceaf7d51476474480d6ade439446476": {
          "model_module": "@jupyter-widgets/controls",
          "model_name": "HBoxModel",
          "state": {
            "_view_name": "HBoxView",
            "_dom_classes": [],
            "_model_name": "HBoxModel",
            "_view_module": "@jupyter-widgets/controls",
            "_model_module_version": "1.5.0",
            "_view_count": null,
            "_view_module_version": "1.5.0",
            "box_style": "",
            "layout": "IPY_MODEL_d6b9f495d21d40699964b8adedf28413",
            "_model_module": "@jupyter-widgets/controls",
            "children": [
              "IPY_MODEL_22eb1cd73870431c8485817afa54192a",
              "IPY_MODEL_ff6276956d44451ca9c2648aca4332b2"
            ]
          }
        },
        "d6b9f495d21d40699964b8adedf28413": {
          "model_module": "@jupyter-widgets/base",
          "model_name": "LayoutModel",
          "state": {
            "_view_name": "LayoutView",
            "grid_template_rows": null,
            "right": null,
            "justify_content": null,
            "_view_module": "@jupyter-widgets/base",
            "overflow": null,
            "_model_module_version": "1.2.0",
            "_view_count": null,
            "flex_flow": null,
            "width": null,
            "min_width": null,
            "border": null,
            "align_items": null,
            "bottom": null,
            "_model_module": "@jupyter-widgets/base",
            "top": null,
            "grid_column": null,
            "overflow_y": null,
            "overflow_x": null,
            "grid_auto_flow": null,
            "grid_area": null,
            "grid_template_columns": null,
            "flex": null,
            "_model_name": "LayoutModel",
            "justify_items": null,
            "grid_row": null,
            "max_height": null,
            "align_content": null,
            "visibility": null,
            "align_self": null,
            "height": null,
            "min_height": null,
            "padding": null,
            "grid_auto_rows": null,
            "grid_gap": null,
            "max_width": null,
            "order": null,
            "_view_module_version": "1.2.0",
            "grid_template_areas": null,
            "object_position": null,
            "object_fit": null,
            "grid_auto_columns": null,
            "margin": null,
            "display": null,
            "left": null
          }
        },
        "22eb1cd73870431c8485817afa54192a": {
          "model_module": "@jupyter-widgets/controls",
          "model_name": "FloatProgressModel",
          "state": {
            "_view_name": "ProgressView",
            "style": "IPY_MODEL_e11847ae14c349328e0119808802502d",
            "_dom_classes": [],
            "description": " 28%",
            "_model_name": "FloatProgressModel",
            "bar_style": "danger",
            "max": 1000,
            "_view_module": "@jupyter-widgets/controls",
            "_model_module_version": "1.5.0",
            "value": 276,
            "_view_count": null,
            "_view_module_version": "1.5.0",
            "orientation": "horizontal",
            "min": 0,
            "description_tooltip": null,
            "_model_module": "@jupyter-widgets/controls",
            "layout": "IPY_MODEL_fd61ac7ebeeb42e39cede8f7a7b65800"
          }
        },
        "ff6276956d44451ca9c2648aca4332b2": {
          "model_module": "@jupyter-widgets/controls",
          "model_name": "HTMLModel",
          "state": {
            "_view_name": "HTMLView",
            "style": "IPY_MODEL_659d2e623cec4082b47a70719f785e64",
            "_dom_classes": [],
            "description": "",
            "_model_name": "HTMLModel",
            "placeholder": "​",
            "_view_module": "@jupyter-widgets/controls",
            "_model_module_version": "1.5.0",
            "value": " 276/1000 [00:26&lt;01:10, 10.23epoch/s, loss=3.46, best_loss=0.333, val_loss=3.46, val_best_loss=0.342, lr=0.0003]",
            "_view_count": null,
            "_view_module_version": "1.5.0",
            "description_tooltip": null,
            "_model_module": "@jupyter-widgets/controls",
            "layout": "IPY_MODEL_45941a07889343bc8b971231071a2c86"
          }
        },
        "e11847ae14c349328e0119808802502d": {
          "model_module": "@jupyter-widgets/controls",
          "model_name": "ProgressStyleModel",
          "state": {
            "_view_name": "StyleView",
            "_model_name": "ProgressStyleModel",
            "description_width": "initial",
            "_view_module": "@jupyter-widgets/base",
            "_model_module_version": "1.5.0",
            "_view_count": null,
            "_view_module_version": "1.2.0",
            "bar_color": null,
            "_model_module": "@jupyter-widgets/controls"
          }
        },
        "fd61ac7ebeeb42e39cede8f7a7b65800": {
          "model_module": "@jupyter-widgets/base",
          "model_name": "LayoutModel",
          "state": {
            "_view_name": "LayoutView",
            "grid_template_rows": null,
            "right": null,
            "justify_content": null,
            "_view_module": "@jupyter-widgets/base",
            "overflow": null,
            "_model_module_version": "1.2.0",
            "_view_count": null,
            "flex_flow": null,
            "width": null,
            "min_width": null,
            "border": null,
            "align_items": null,
            "bottom": null,
            "_model_module": "@jupyter-widgets/base",
            "top": null,
            "grid_column": null,
            "overflow_y": null,
            "overflow_x": null,
            "grid_auto_flow": null,
            "grid_area": null,
            "grid_template_columns": null,
            "flex": null,
            "_model_name": "LayoutModel",
            "justify_items": null,
            "grid_row": null,
            "max_height": null,
            "align_content": null,
            "visibility": null,
            "align_self": null,
            "height": null,
            "min_height": null,
            "padding": null,
            "grid_auto_rows": null,
            "grid_gap": null,
            "max_width": null,
            "order": null,
            "_view_module_version": "1.2.0",
            "grid_template_areas": null,
            "object_position": null,
            "object_fit": null,
            "grid_auto_columns": null,
            "margin": null,
            "display": null,
            "left": null
          }
        },
        "659d2e623cec4082b47a70719f785e64": {
          "model_module": "@jupyter-widgets/controls",
          "model_name": "DescriptionStyleModel",
          "state": {
            "_view_name": "StyleView",
            "_model_name": "DescriptionStyleModel",
            "description_width": "",
            "_view_module": "@jupyter-widgets/base",
            "_model_module_version": "1.5.0",
            "_view_count": null,
            "_view_module_version": "1.2.0",
            "_model_module": "@jupyter-widgets/controls"
          }
        },
        "45941a07889343bc8b971231071a2c86": {
          "model_module": "@jupyter-widgets/base",
          "model_name": "LayoutModel",
          "state": {
            "_view_name": "LayoutView",
            "grid_template_rows": null,
            "right": null,
            "justify_content": null,
            "_view_module": "@jupyter-widgets/base",
            "overflow": null,
            "_model_module_version": "1.2.0",
            "_view_count": null,
            "flex_flow": null,
            "width": null,
            "min_width": null,
            "border": null,
            "align_items": null,
            "bottom": null,
            "_model_module": "@jupyter-widgets/base",
            "top": null,
            "grid_column": null,
            "overflow_y": null,
            "overflow_x": null,
            "grid_auto_flow": null,
            "grid_area": null,
            "grid_template_columns": null,
            "flex": null,
            "_model_name": "LayoutModel",
            "justify_items": null,
            "grid_row": null,
            "max_height": null,
            "align_content": null,
            "visibility": null,
            "align_self": null,
            "height": null,
            "min_height": null,
            "padding": null,
            "grid_auto_rows": null,
            "grid_gap": null,
            "max_width": null,
            "order": null,
            "_view_module_version": "1.2.0",
            "grid_template_areas": null,
            "object_position": null,
            "object_fit": null,
            "grid_auto_columns": null,
            "margin": null,
            "display": null,
            "left": null
          }
        },
        "13427a2dd8bc43b5bf490d5ee5e73a8a": {
          "model_module": "@jupyter-widgets/controls",
          "model_name": "HBoxModel",
          "state": {
            "_view_name": "HBoxView",
            "_dom_classes": [],
            "_model_name": "HBoxModel",
            "_view_module": "@jupyter-widgets/controls",
            "_model_module_version": "1.5.0",
            "_view_count": null,
            "_view_module_version": "1.5.0",
            "box_style": "",
            "layout": "IPY_MODEL_d4298c9facf140c4b000840094005561",
            "_model_module": "@jupyter-widgets/controls",
            "children": [
              "IPY_MODEL_cff7bffc622c4ce4ad394cdd34d13ace",
              "IPY_MODEL_87747e81b7e6467ea9927782e9580e93"
            ]
          }
        },
        "d4298c9facf140c4b000840094005561": {
          "model_module": "@jupyter-widgets/base",
          "model_name": "LayoutModel",
          "state": {
            "_view_name": "LayoutView",
            "grid_template_rows": null,
            "right": null,
            "justify_content": null,
            "_view_module": "@jupyter-widgets/base",
            "overflow": null,
            "_model_module_version": "1.2.0",
            "_view_count": null,
            "flex_flow": null,
            "width": null,
            "min_width": null,
            "border": null,
            "align_items": null,
            "bottom": null,
            "_model_module": "@jupyter-widgets/base",
            "top": null,
            "grid_column": null,
            "overflow_y": null,
            "overflow_x": null,
            "grid_auto_flow": null,
            "grid_area": null,
            "grid_template_columns": null,
            "flex": null,
            "_model_name": "LayoutModel",
            "justify_items": null,
            "grid_row": null,
            "max_height": null,
            "align_content": null,
            "visibility": null,
            "align_self": null,
            "height": null,
            "min_height": null,
            "padding": null,
            "grid_auto_rows": null,
            "grid_gap": null,
            "max_width": null,
            "order": null,
            "_view_module_version": "1.2.0",
            "grid_template_areas": null,
            "object_position": null,
            "object_fit": null,
            "grid_auto_columns": null,
            "margin": null,
            "display": null,
            "left": null
          }
        },
        "cff7bffc622c4ce4ad394cdd34d13ace": {
          "model_module": "@jupyter-widgets/controls",
          "model_name": "FloatProgressModel",
          "state": {
            "_view_name": "ProgressView",
            "style": "IPY_MODEL_7adb5c97309c48d689493daecb14d0e2",
            "_dom_classes": [],
            "description": "100%",
            "_model_name": "FloatProgressModel",
            "bar_style": "info",
            "max": 5,
            "_view_module": "@jupyter-widgets/controls",
            "_model_module_version": "1.5.0",
            "value": 5,
            "_view_count": null,
            "_view_module_version": "1.5.0",
            "orientation": "horizontal",
            "min": 0,
            "description_tooltip": null,
            "_model_module": "@jupyter-widgets/controls",
            "layout": "IPY_MODEL_30def7dd5ae94f498774217a61e586ae"
          }
        },
        "87747e81b7e6467ea9927782e9580e93": {
          "model_module": "@jupyter-widgets/controls",
          "model_name": "HTMLModel",
          "state": {
            "_view_name": "HTMLView",
            "style": "IPY_MODEL_262835a34aa248998ba33229a8202a83",
            "_dom_classes": [],
            "description": "",
            "_model_name": "HTMLModel",
            "placeholder": "​",
            "_view_module": "@jupyter-widgets/controls",
            "_model_module_version": "1.5.0",
            "value": " 5.00/5.00 [00:00&lt;00:00, 5.43s/batch, loss=3.46, best_loss=0.333]",
            "_view_count": null,
            "_view_module_version": "1.5.0",
            "description_tooltip": null,
            "_model_module": "@jupyter-widgets/controls",
            "layout": "IPY_MODEL_d3f7c803dfce4a62a69bce978624da42"
          }
        },
        "7adb5c97309c48d689493daecb14d0e2": {
          "model_module": "@jupyter-widgets/controls",
          "model_name": "ProgressStyleModel",
          "state": {
            "_view_name": "StyleView",
            "_model_name": "ProgressStyleModel",
            "description_width": "initial",
            "_view_module": "@jupyter-widgets/base",
            "_model_module_version": "1.5.0",
            "_view_count": null,
            "_view_module_version": "1.2.0",
            "bar_color": null,
            "_model_module": "@jupyter-widgets/controls"
          }
        },
        "30def7dd5ae94f498774217a61e586ae": {
          "model_module": "@jupyter-widgets/base",
          "model_name": "LayoutModel",
          "state": {
            "_view_name": "LayoutView",
            "grid_template_rows": null,
            "right": null,
            "justify_content": null,
            "_view_module": "@jupyter-widgets/base",
            "overflow": null,
            "_model_module_version": "1.2.0",
            "_view_count": null,
            "flex_flow": null,
            "width": null,
            "min_width": null,
            "border": null,
            "align_items": null,
            "bottom": null,
            "_model_module": "@jupyter-widgets/base",
            "top": null,
            "grid_column": null,
            "overflow_y": null,
            "overflow_x": null,
            "grid_auto_flow": null,
            "grid_area": null,
            "grid_template_columns": null,
            "flex": null,
            "_model_name": "LayoutModel",
            "justify_items": null,
            "grid_row": null,
            "max_height": null,
            "align_content": null,
            "visibility": null,
            "align_self": null,
            "height": null,
            "min_height": null,
            "padding": null,
            "grid_auto_rows": null,
            "grid_gap": null,
            "max_width": null,
            "order": null,
            "_view_module_version": "1.2.0",
            "grid_template_areas": null,
            "object_position": null,
            "object_fit": null,
            "grid_auto_columns": null,
            "margin": null,
            "display": null,
            "left": null
          }
        },
        "262835a34aa248998ba33229a8202a83": {
          "model_module": "@jupyter-widgets/controls",
          "model_name": "DescriptionStyleModel",
          "state": {
            "_view_name": "StyleView",
            "_model_name": "DescriptionStyleModel",
            "description_width": "",
            "_view_module": "@jupyter-widgets/base",
            "_model_module_version": "1.5.0",
            "_view_count": null,
            "_view_module_version": "1.2.0",
            "_model_module": "@jupyter-widgets/controls"
          }
        },
        "d3f7c803dfce4a62a69bce978624da42": {
          "model_module": "@jupyter-widgets/base",
          "model_name": "LayoutModel",
          "state": {
            "_view_name": "LayoutView",
            "grid_template_rows": null,
            "right": null,
            "justify_content": null,
            "_view_module": "@jupyter-widgets/base",
            "overflow": null,
            "_model_module_version": "1.2.0",
            "_view_count": null,
            "flex_flow": null,
            "width": null,
            "min_width": null,
            "border": null,
            "align_items": null,
            "bottom": null,
            "_model_module": "@jupyter-widgets/base",
            "top": null,
            "grid_column": null,
            "overflow_y": null,
            "overflow_x": null,
            "grid_auto_flow": null,
            "grid_area": null,
            "grid_template_columns": null,
            "flex": null,
            "_model_name": "LayoutModel",
            "justify_items": null,
            "grid_row": null,
            "max_height": null,
            "align_content": null,
            "visibility": null,
            "align_self": null,
            "height": null,
            "min_height": null,
            "padding": null,
            "grid_auto_rows": null,
            "grid_gap": null,
            "max_width": null,
            "order": null,
            "_view_module_version": "1.2.0",
            "grid_template_areas": null,
            "object_position": null,
            "object_fit": null,
            "grid_auto_columns": null,
            "margin": null,
            "display": null,
            "left": null
          }
        },
        "8af97c46ad33406982d96a7ce2641bbc": {
          "model_module": "@jupyter-widgets/controls",
          "model_name": "HBoxModel",
          "state": {
            "_view_name": "HBoxView",
            "_dom_classes": [],
            "_model_name": "HBoxModel",
            "_view_module": "@jupyter-widgets/controls",
            "_model_module_version": "1.5.0",
            "_view_count": null,
            "_view_module_version": "1.5.0",
            "box_style": "",
            "layout": "IPY_MODEL_8c641e517f964119bf0a9a4ecfe39f04",
            "_model_module": "@jupyter-widgets/controls",
            "children": [
              "IPY_MODEL_886ee99ab1fa4550bcef48a8a6ac4f7a",
              "IPY_MODEL_4eb26d9f65db4840912d0bb08e2dc874"
            ]
          }
        },
        "8c641e517f964119bf0a9a4ecfe39f04": {
          "model_module": "@jupyter-widgets/base",
          "model_name": "LayoutModel",
          "state": {
            "_view_name": "LayoutView",
            "grid_template_rows": null,
            "right": null,
            "justify_content": null,
            "_view_module": "@jupyter-widgets/base",
            "overflow": null,
            "_model_module_version": "1.2.0",
            "_view_count": null,
            "flex_flow": null,
            "width": null,
            "min_width": null,
            "border": null,
            "align_items": null,
            "bottom": null,
            "_model_module": "@jupyter-widgets/base",
            "top": null,
            "grid_column": null,
            "overflow_y": null,
            "overflow_x": null,
            "grid_auto_flow": null,
            "grid_area": null,
            "grid_template_columns": null,
            "flex": null,
            "_model_name": "LayoutModel",
            "justify_items": null,
            "grid_row": null,
            "max_height": null,
            "align_content": null,
            "visibility": null,
            "align_self": null,
            "height": null,
            "min_height": null,
            "padding": null,
            "grid_auto_rows": null,
            "grid_gap": null,
            "max_width": null,
            "order": null,
            "_view_module_version": "1.2.0",
            "grid_template_areas": null,
            "object_position": null,
            "object_fit": null,
            "grid_auto_columns": null,
            "margin": null,
            "display": null,
            "left": null
          }
        },
        "886ee99ab1fa4550bcef48a8a6ac4f7a": {
          "model_module": "@jupyter-widgets/controls",
          "model_name": "FloatProgressModel",
          "state": {
            "_view_name": "ProgressView",
            "style": "IPY_MODEL_d0284709cb814632b0c8a0967ca6792a",
            "_dom_classes": [],
            "description": "100%",
            "_model_name": "FloatProgressModel",
            "bar_style": "success",
            "max": 50,
            "_view_module": "@jupyter-widgets/controls",
            "_model_module_version": "1.5.0",
            "value": 50,
            "_view_count": null,
            "_view_module_version": "1.5.0",
            "orientation": "horizontal",
            "min": 0,
            "description_tooltip": null,
            "_model_module": "@jupyter-widgets/controls",
            "layout": "IPY_MODEL_819b0c105ba54e00b25e6720e7bd5153"
          }
        },
        "4eb26d9f65db4840912d0bb08e2dc874": {
          "model_module": "@jupyter-widgets/controls",
          "model_name": "HTMLModel",
          "state": {
            "_view_name": "HTMLView",
            "style": "IPY_MODEL_0a3dcf9a9cf84b0492a145d766945cf4",
            "_dom_classes": [],
            "description": "",
            "_model_name": "HTMLModel",
            "placeholder": "​",
            "_view_module": "@jupyter-widgets/controls",
            "_model_module_version": "1.5.0",
            "value": " 50/50 [47:16&lt;00:00, 56.73s/it]",
            "_view_count": null,
            "_view_module_version": "1.5.0",
            "description_tooltip": null,
            "_model_module": "@jupyter-widgets/controls",
            "layout": "IPY_MODEL_26529df127d64fd281eec8c849f7a35b"
          }
        },
        "d0284709cb814632b0c8a0967ca6792a": {
          "model_module": "@jupyter-widgets/controls",
          "model_name": "ProgressStyleModel",
          "state": {
            "_view_name": "StyleView",
            "_model_name": "ProgressStyleModel",
            "description_width": "initial",
            "_view_module": "@jupyter-widgets/base",
            "_model_module_version": "1.5.0",
            "_view_count": null,
            "_view_module_version": "1.2.0",
            "bar_color": null,
            "_model_module": "@jupyter-widgets/controls"
          }
        },
        "819b0c105ba54e00b25e6720e7bd5153": {
          "model_module": "@jupyter-widgets/base",
          "model_name": "LayoutModel",
          "state": {
            "_view_name": "LayoutView",
            "grid_template_rows": null,
            "right": null,
            "justify_content": null,
            "_view_module": "@jupyter-widgets/base",
            "overflow": null,
            "_model_module_version": "1.2.0",
            "_view_count": null,
            "flex_flow": null,
            "width": null,
            "min_width": null,
            "border": null,
            "align_items": null,
            "bottom": null,
            "_model_module": "@jupyter-widgets/base",
            "top": null,
            "grid_column": null,
            "overflow_y": null,
            "overflow_x": null,
            "grid_auto_flow": null,
            "grid_area": null,
            "grid_template_columns": null,
            "flex": null,
            "_model_name": "LayoutModel",
            "justify_items": null,
            "grid_row": null,
            "max_height": null,
            "align_content": null,
            "visibility": null,
            "align_self": null,
            "height": null,
            "min_height": null,
            "padding": null,
            "grid_auto_rows": null,
            "grid_gap": null,
            "max_width": null,
            "order": null,
            "_view_module_version": "1.2.0",
            "grid_template_areas": null,
            "object_position": null,
            "object_fit": null,
            "grid_auto_columns": null,
            "margin": null,
            "display": null,
            "left": null
          }
        },
        "0a3dcf9a9cf84b0492a145d766945cf4": {
          "model_module": "@jupyter-widgets/controls",
          "model_name": "DescriptionStyleModel",
          "state": {
            "_view_name": "StyleView",
            "_model_name": "DescriptionStyleModel",
            "description_width": "",
            "_view_module": "@jupyter-widgets/base",
            "_model_module_version": "1.5.0",
            "_view_count": null,
            "_view_module_version": "1.2.0",
            "_model_module": "@jupyter-widgets/controls"
          }
        },
        "26529df127d64fd281eec8c849f7a35b": {
          "model_module": "@jupyter-widgets/base",
          "model_name": "LayoutModel",
          "state": {
            "_view_name": "LayoutView",
            "grid_template_rows": null,
            "right": null,
            "justify_content": null,
            "_view_module": "@jupyter-widgets/base",
            "overflow": null,
            "_model_module_version": "1.2.0",
            "_view_count": null,
            "flex_flow": null,
            "width": null,
            "min_width": null,
            "border": null,
            "align_items": null,
            "bottom": null,
            "_model_module": "@jupyter-widgets/base",
            "top": null,
            "grid_column": null,
            "overflow_y": null,
            "overflow_x": null,
            "grid_auto_flow": null,
            "grid_area": null,
            "grid_template_columns": null,
            "flex": null,
            "_model_name": "LayoutModel",
            "justify_items": null,
            "grid_row": null,
            "max_height": null,
            "align_content": null,
            "visibility": null,
            "align_self": null,
            "height": null,
            "min_height": null,
            "padding": null,
            "grid_auto_rows": null,
            "grid_gap": null,
            "max_width": null,
            "order": null,
            "_view_module_version": "1.2.0",
            "grid_template_areas": null,
            "object_position": null,
            "object_fit": null,
            "grid_auto_columns": null,
            "margin": null,
            "display": null,
            "left": null
          }
        },
        "66aae058047e48928f693a3b100e0b6c": {
          "model_module": "@jupyter-widgets/controls",
          "model_name": "HBoxModel",
          "state": {
            "_view_name": "HBoxView",
            "_dom_classes": [],
            "_model_name": "HBoxModel",
            "_view_module": "@jupyter-widgets/controls",
            "_model_module_version": "1.5.0",
            "_view_count": null,
            "_view_module_version": "1.5.0",
            "box_style": "",
            "layout": "IPY_MODEL_c287bf49b1074164ac2f828b8e0b929b",
            "_model_module": "@jupyter-widgets/controls",
            "children": [
              "IPY_MODEL_df7917759c08419287b62e241e1c5c7c",
              "IPY_MODEL_4214a95759a4461bb1de2c70992f542a"
            ]
          }
        },
        "c287bf49b1074164ac2f828b8e0b929b": {
          "model_module": "@jupyter-widgets/base",
          "model_name": "LayoutModel",
          "state": {
            "_view_name": "LayoutView",
            "grid_template_rows": null,
            "right": null,
            "justify_content": null,
            "_view_module": "@jupyter-widgets/base",
            "overflow": null,
            "_model_module_version": "1.2.0",
            "_view_count": null,
            "flex_flow": null,
            "width": null,
            "min_width": null,
            "border": null,
            "align_items": null,
            "bottom": null,
            "_model_module": "@jupyter-widgets/base",
            "top": null,
            "grid_column": null,
            "overflow_y": null,
            "overflow_x": null,
            "grid_auto_flow": null,
            "grid_area": null,
            "grid_template_columns": null,
            "flex": null,
            "_model_name": "LayoutModel",
            "justify_items": null,
            "grid_row": null,
            "max_height": null,
            "align_content": null,
            "visibility": null,
            "align_self": null,
            "height": null,
            "min_height": null,
            "padding": null,
            "grid_auto_rows": null,
            "grid_gap": null,
            "max_width": null,
            "order": null,
            "_view_module_version": "1.2.0",
            "grid_template_areas": null,
            "object_position": null,
            "object_fit": null,
            "grid_auto_columns": null,
            "margin": null,
            "display": null,
            "left": null
          }
        },
        "df7917759c08419287b62e241e1c5c7c": {
          "model_module": "@jupyter-widgets/controls",
          "model_name": "FloatProgressModel",
          "state": {
            "_view_name": "ProgressView",
            "style": "IPY_MODEL_68999b78f70d4f79b33dad7385657224",
            "_dom_classes": [],
            "description": "100%",
            "_model_name": "FloatProgressModel",
            "bar_style": "success",
            "max": 100,
            "_view_module": "@jupyter-widgets/controls",
            "_model_module_version": "1.5.0",
            "value": 100,
            "_view_count": null,
            "_view_module_version": "1.5.0",
            "orientation": "horizontal",
            "min": 0,
            "description_tooltip": null,
            "_model_module": "@jupyter-widgets/controls",
            "layout": "IPY_MODEL_605457e60798424cb83d20e27d259cd0"
          }
        },
        "4214a95759a4461bb1de2c70992f542a": {
          "model_module": "@jupyter-widgets/controls",
          "model_name": "HTMLModel",
          "state": {
            "_view_name": "HTMLView",
            "style": "IPY_MODEL_398afdd9d1284c18acd5a58845562a75",
            "_dom_classes": [],
            "description": "",
            "_model_name": "HTMLModel",
            "placeholder": "​",
            "_view_module": "@jupyter-widgets/controls",
            "_model_module_version": "1.5.0",
            "value": " 100/100 [00:28&lt;00:00,  3.57it/s]",
            "_view_count": null,
            "_view_module_version": "1.5.0",
            "description_tooltip": null,
            "_model_module": "@jupyter-widgets/controls",
            "layout": "IPY_MODEL_59553411b6c1483b9dedc490838606eb"
          }
        },
        "68999b78f70d4f79b33dad7385657224": {
          "model_module": "@jupyter-widgets/controls",
          "model_name": "ProgressStyleModel",
          "state": {
            "_view_name": "StyleView",
            "_model_name": "ProgressStyleModel",
            "description_width": "initial",
            "_view_module": "@jupyter-widgets/base",
            "_model_module_version": "1.5.0",
            "_view_count": null,
            "_view_module_version": "1.2.0",
            "bar_color": null,
            "_model_module": "@jupyter-widgets/controls"
          }
        },
        "605457e60798424cb83d20e27d259cd0": {
          "model_module": "@jupyter-widgets/base",
          "model_name": "LayoutModel",
          "state": {
            "_view_name": "LayoutView",
            "grid_template_rows": null,
            "right": null,
            "justify_content": null,
            "_view_module": "@jupyter-widgets/base",
            "overflow": null,
            "_model_module_version": "1.2.0",
            "_view_count": null,
            "flex_flow": null,
            "width": null,
            "min_width": null,
            "border": null,
            "align_items": null,
            "bottom": null,
            "_model_module": "@jupyter-widgets/base",
            "top": null,
            "grid_column": null,
            "overflow_y": null,
            "overflow_x": null,
            "grid_auto_flow": null,
            "grid_area": null,
            "grid_template_columns": null,
            "flex": null,
            "_model_name": "LayoutModel",
            "justify_items": null,
            "grid_row": null,
            "max_height": null,
            "align_content": null,
            "visibility": null,
            "align_self": null,
            "height": null,
            "min_height": null,
            "padding": null,
            "grid_auto_rows": null,
            "grid_gap": null,
            "max_width": null,
            "order": null,
            "_view_module_version": "1.2.0",
            "grid_template_areas": null,
            "object_position": null,
            "object_fit": null,
            "grid_auto_columns": null,
            "margin": null,
            "display": null,
            "left": null
          }
        },
        "398afdd9d1284c18acd5a58845562a75": {
          "model_module": "@jupyter-widgets/controls",
          "model_name": "DescriptionStyleModel",
          "state": {
            "_view_name": "StyleView",
            "_model_name": "DescriptionStyleModel",
            "description_width": "",
            "_view_module": "@jupyter-widgets/base",
            "_model_module_version": "1.5.0",
            "_view_count": null,
            "_view_module_version": "1.2.0",
            "_model_module": "@jupyter-widgets/controls"
          }
        },
        "59553411b6c1483b9dedc490838606eb": {
          "model_module": "@jupyter-widgets/base",
          "model_name": "LayoutModel",
          "state": {
            "_view_name": "LayoutView",
            "grid_template_rows": null,
            "right": null,
            "justify_content": null,
            "_view_module": "@jupyter-widgets/base",
            "overflow": null,
            "_model_module_version": "1.2.0",
            "_view_count": null,
            "flex_flow": null,
            "width": null,
            "min_width": null,
            "border": null,
            "align_items": null,
            "bottom": null,
            "_model_module": "@jupyter-widgets/base",
            "top": null,
            "grid_column": null,
            "overflow_y": null,
            "overflow_x": null,
            "grid_auto_flow": null,
            "grid_area": null,
            "grid_template_columns": null,
            "flex": null,
            "_model_name": "LayoutModel",
            "justify_items": null,
            "grid_row": null,
            "max_height": null,
            "align_content": null,
            "visibility": null,
            "align_self": null,
            "height": null,
            "min_height": null,
            "padding": null,
            "grid_auto_rows": null,
            "grid_gap": null,
            "max_width": null,
            "order": null,
            "_view_module_version": "1.2.0",
            "grid_template_areas": null,
            "object_position": null,
            "object_fit": null,
            "grid_auto_columns": null,
            "margin": null,
            "display": null,
            "left": null
          }
        },
        "81211dcce30c4d378841e8e6d55185e4": {
          "model_module": "@jupyter-widgets/controls",
          "model_name": "HBoxModel",
          "state": {
            "_view_name": "HBoxView",
            "_dom_classes": [],
            "_model_name": "HBoxModel",
            "_view_module": "@jupyter-widgets/controls",
            "_model_module_version": "1.5.0",
            "_view_count": null,
            "_view_module_version": "1.5.0",
            "box_style": "",
            "layout": "IPY_MODEL_886fcb0f55d84f9e9e00c63fdde868a7",
            "_model_module": "@jupyter-widgets/controls",
            "children": [
              "IPY_MODEL_0e3bd478b08446c399b27f95304223a0",
              "IPY_MODEL_b8bfc01807c14c079bed162aae49fded"
            ]
          }
        },
        "886fcb0f55d84f9e9e00c63fdde868a7": {
          "model_module": "@jupyter-widgets/base",
          "model_name": "LayoutModel",
          "state": {
            "_view_name": "LayoutView",
            "grid_template_rows": null,
            "right": null,
            "justify_content": null,
            "_view_module": "@jupyter-widgets/base",
            "overflow": null,
            "_model_module_version": "1.2.0",
            "_view_count": null,
            "flex_flow": null,
            "width": null,
            "min_width": null,
            "border": null,
            "align_items": null,
            "bottom": null,
            "_model_module": "@jupyter-widgets/base",
            "top": null,
            "grid_column": null,
            "overflow_y": null,
            "overflow_x": null,
            "grid_auto_flow": null,
            "grid_area": null,
            "grid_template_columns": null,
            "flex": null,
            "_model_name": "LayoutModel",
            "justify_items": null,
            "grid_row": null,
            "max_height": null,
            "align_content": null,
            "visibility": null,
            "align_self": null,
            "height": null,
            "min_height": null,
            "padding": null,
            "grid_auto_rows": null,
            "grid_gap": null,
            "max_width": null,
            "order": null,
            "_view_module_version": "1.2.0",
            "grid_template_areas": null,
            "object_position": null,
            "object_fit": null,
            "grid_auto_columns": null,
            "margin": null,
            "display": null,
            "left": null
          }
        },
        "0e3bd478b08446c399b27f95304223a0": {
          "model_module": "@jupyter-widgets/controls",
          "model_name": "FloatProgressModel",
          "state": {
            "_view_name": "ProgressView",
            "style": "IPY_MODEL_860563a2edc04405a4def4829cbb2522",
            "_dom_classes": [],
            "description": "100%",
            "_model_name": "FloatProgressModel",
            "bar_style": "success",
            "max": 100,
            "_view_module": "@jupyter-widgets/controls",
            "_model_module_version": "1.5.0",
            "value": 100,
            "_view_count": null,
            "_view_module_version": "1.5.0",
            "orientation": "horizontal",
            "min": 0,
            "description_tooltip": null,
            "_model_module": "@jupyter-widgets/controls",
            "layout": "IPY_MODEL_136ceff4aeaa45d4b509ae13c2713bd5"
          }
        },
        "b8bfc01807c14c079bed162aae49fded": {
          "model_module": "@jupyter-widgets/controls",
          "model_name": "HTMLModel",
          "state": {
            "_view_name": "HTMLView",
            "style": "IPY_MODEL_357c1cfcbe1b454e9d5660f5d555643f",
            "_dom_classes": [],
            "description": "",
            "_model_name": "HTMLModel",
            "placeholder": "​",
            "_view_module": "@jupyter-widgets/controls",
            "_model_module_version": "1.5.0",
            "value": " 100/100 [08:43&lt;00:00,  5.23s/it]",
            "_view_count": null,
            "_view_module_version": "1.5.0",
            "description_tooltip": null,
            "_model_module": "@jupyter-widgets/controls",
            "layout": "IPY_MODEL_875541a954954e8a9794fb0c9b273d2f"
          }
        },
        "860563a2edc04405a4def4829cbb2522": {
          "model_module": "@jupyter-widgets/controls",
          "model_name": "ProgressStyleModel",
          "state": {
            "_view_name": "StyleView",
            "_model_name": "ProgressStyleModel",
            "description_width": "initial",
            "_view_module": "@jupyter-widgets/base",
            "_model_module_version": "1.5.0",
            "_view_count": null,
            "_view_module_version": "1.2.0",
            "bar_color": null,
            "_model_module": "@jupyter-widgets/controls"
          }
        },
        "136ceff4aeaa45d4b509ae13c2713bd5": {
          "model_module": "@jupyter-widgets/base",
          "model_name": "LayoutModel",
          "state": {
            "_view_name": "LayoutView",
            "grid_template_rows": null,
            "right": null,
            "justify_content": null,
            "_view_module": "@jupyter-widgets/base",
            "overflow": null,
            "_model_module_version": "1.2.0",
            "_view_count": null,
            "flex_flow": null,
            "width": null,
            "min_width": null,
            "border": null,
            "align_items": null,
            "bottom": null,
            "_model_module": "@jupyter-widgets/base",
            "top": null,
            "grid_column": null,
            "overflow_y": null,
            "overflow_x": null,
            "grid_auto_flow": null,
            "grid_area": null,
            "grid_template_columns": null,
            "flex": null,
            "_model_name": "LayoutModel",
            "justify_items": null,
            "grid_row": null,
            "max_height": null,
            "align_content": null,
            "visibility": null,
            "align_self": null,
            "height": null,
            "min_height": null,
            "padding": null,
            "grid_auto_rows": null,
            "grid_gap": null,
            "max_width": null,
            "order": null,
            "_view_module_version": "1.2.0",
            "grid_template_areas": null,
            "object_position": null,
            "object_fit": null,
            "grid_auto_columns": null,
            "margin": null,
            "display": null,
            "left": null
          }
        },
        "357c1cfcbe1b454e9d5660f5d555643f": {
          "model_module": "@jupyter-widgets/controls",
          "model_name": "DescriptionStyleModel",
          "state": {
            "_view_name": "StyleView",
            "_model_name": "DescriptionStyleModel",
            "description_width": "",
            "_view_module": "@jupyter-widgets/base",
            "_model_module_version": "1.5.0",
            "_view_count": null,
            "_view_module_version": "1.2.0",
            "_model_module": "@jupyter-widgets/controls"
          }
        },
        "875541a954954e8a9794fb0c9b273d2f": {
          "model_module": "@jupyter-widgets/base",
          "model_name": "LayoutModel",
          "state": {
            "_view_name": "LayoutView",
            "grid_template_rows": null,
            "right": null,
            "justify_content": null,
            "_view_module": "@jupyter-widgets/base",
            "overflow": null,
            "_model_module_version": "1.2.0",
            "_view_count": null,
            "flex_flow": null,
            "width": null,
            "min_width": null,
            "border": null,
            "align_items": null,
            "bottom": null,
            "_model_module": "@jupyter-widgets/base",
            "top": null,
            "grid_column": null,
            "overflow_y": null,
            "overflow_x": null,
            "grid_auto_flow": null,
            "grid_area": null,
            "grid_template_columns": null,
            "flex": null,
            "_model_name": "LayoutModel",
            "justify_items": null,
            "grid_row": null,
            "max_height": null,
            "align_content": null,
            "visibility": null,
            "align_self": null,
            "height": null,
            "min_height": null,
            "padding": null,
            "grid_auto_rows": null,
            "grid_gap": null,
            "max_width": null,
            "order": null,
            "_view_module_version": "1.2.0",
            "grid_template_areas": null,
            "object_position": null,
            "object_fit": null,
            "grid_auto_columns": null,
            "margin": null,
            "display": null,
            "left": null
          }
        },
        "88dd9f7d62e0454295734003f4d809ea": {
          "model_module": "@jupyter-widgets/controls",
          "model_name": "HBoxModel",
          "state": {
            "_view_name": "HBoxView",
            "_dom_classes": [],
            "_model_name": "HBoxModel",
            "_view_module": "@jupyter-widgets/controls",
            "_model_module_version": "1.5.0",
            "_view_count": null,
            "_view_module_version": "1.5.0",
            "box_style": "",
            "layout": "IPY_MODEL_b249dad2cd9b4306a1f4bdb2ea67f190",
            "_model_module": "@jupyter-widgets/controls",
            "children": [
              "IPY_MODEL_2b253e17d02f4427a23187fdc7d07b25",
              "IPY_MODEL_80fbf09d858a4f1c85b1cc9e88bb1a8a"
            ]
          }
        },
        "b249dad2cd9b4306a1f4bdb2ea67f190": {
          "model_module": "@jupyter-widgets/base",
          "model_name": "LayoutModel",
          "state": {
            "_view_name": "LayoutView",
            "grid_template_rows": null,
            "right": null,
            "justify_content": null,
            "_view_module": "@jupyter-widgets/base",
            "overflow": null,
            "_model_module_version": "1.2.0",
            "_view_count": null,
            "flex_flow": null,
            "width": null,
            "min_width": null,
            "border": null,
            "align_items": null,
            "bottom": null,
            "_model_module": "@jupyter-widgets/base",
            "top": null,
            "grid_column": null,
            "overflow_y": null,
            "overflow_x": null,
            "grid_auto_flow": null,
            "grid_area": null,
            "grid_template_columns": null,
            "flex": null,
            "_model_name": "LayoutModel",
            "justify_items": null,
            "grid_row": null,
            "max_height": null,
            "align_content": null,
            "visibility": null,
            "align_self": null,
            "height": null,
            "min_height": null,
            "padding": null,
            "grid_auto_rows": null,
            "grid_gap": null,
            "max_width": null,
            "order": null,
            "_view_module_version": "1.2.0",
            "grid_template_areas": null,
            "object_position": null,
            "object_fit": null,
            "grid_auto_columns": null,
            "margin": null,
            "display": null,
            "left": null
          }
        },
        "2b253e17d02f4427a23187fdc7d07b25": {
          "model_module": "@jupyter-widgets/controls",
          "model_name": "FloatProgressModel",
          "state": {
            "_view_name": "ProgressView",
            "style": "IPY_MODEL_5fa7013253894531a91c3af4765f3917",
            "_dom_classes": [],
            "description": "100%",
            "_model_name": "FloatProgressModel",
            "bar_style": "success",
            "max": 100,
            "_view_module": "@jupyter-widgets/controls",
            "_model_module_version": "1.5.0",
            "value": 100,
            "_view_count": null,
            "_view_module_version": "1.5.0",
            "orientation": "horizontal",
            "min": 0,
            "description_tooltip": null,
            "_model_module": "@jupyter-widgets/controls",
            "layout": "IPY_MODEL_bb8ede5e7bcc46e894cf38ad1be47b8f"
          }
        },
        "80fbf09d858a4f1c85b1cc9e88bb1a8a": {
          "model_module": "@jupyter-widgets/controls",
          "model_name": "HTMLModel",
          "state": {
            "_view_name": "HTMLView",
            "style": "IPY_MODEL_8ed736a9784743209e6c5fa30a923a67",
            "_dom_classes": [],
            "description": "",
            "_model_name": "HTMLModel",
            "placeholder": "​",
            "_view_module": "@jupyter-widgets/controls",
            "_model_module_version": "1.5.0",
            "value": " 100/100 [08:11&lt;00:00,  4.91s/it]",
            "_view_count": null,
            "_view_module_version": "1.5.0",
            "description_tooltip": null,
            "_model_module": "@jupyter-widgets/controls",
            "layout": "IPY_MODEL_f8ad68a456424085b08783d6bde9c7a7"
          }
        },
        "5fa7013253894531a91c3af4765f3917": {
          "model_module": "@jupyter-widgets/controls",
          "model_name": "ProgressStyleModel",
          "state": {
            "_view_name": "StyleView",
            "_model_name": "ProgressStyleModel",
            "description_width": "initial",
            "_view_module": "@jupyter-widgets/base",
            "_model_module_version": "1.5.0",
            "_view_count": null,
            "_view_module_version": "1.2.0",
            "bar_color": null,
            "_model_module": "@jupyter-widgets/controls"
          }
        },
        "bb8ede5e7bcc46e894cf38ad1be47b8f": {
          "model_module": "@jupyter-widgets/base",
          "model_name": "LayoutModel",
          "state": {
            "_view_name": "LayoutView",
            "grid_template_rows": null,
            "right": null,
            "justify_content": null,
            "_view_module": "@jupyter-widgets/base",
            "overflow": null,
            "_model_module_version": "1.2.0",
            "_view_count": null,
            "flex_flow": null,
            "width": null,
            "min_width": null,
            "border": null,
            "align_items": null,
            "bottom": null,
            "_model_module": "@jupyter-widgets/base",
            "top": null,
            "grid_column": null,
            "overflow_y": null,
            "overflow_x": null,
            "grid_auto_flow": null,
            "grid_area": null,
            "grid_template_columns": null,
            "flex": null,
            "_model_name": "LayoutModel",
            "justify_items": null,
            "grid_row": null,
            "max_height": null,
            "align_content": null,
            "visibility": null,
            "align_self": null,
            "height": null,
            "min_height": null,
            "padding": null,
            "grid_auto_rows": null,
            "grid_gap": null,
            "max_width": null,
            "order": null,
            "_view_module_version": "1.2.0",
            "grid_template_areas": null,
            "object_position": null,
            "object_fit": null,
            "grid_auto_columns": null,
            "margin": null,
            "display": null,
            "left": null
          }
        },
        "8ed736a9784743209e6c5fa30a923a67": {
          "model_module": "@jupyter-widgets/controls",
          "model_name": "DescriptionStyleModel",
          "state": {
            "_view_name": "StyleView",
            "_model_name": "DescriptionStyleModel",
            "description_width": "",
            "_view_module": "@jupyter-widgets/base",
            "_model_module_version": "1.5.0",
            "_view_count": null,
            "_view_module_version": "1.2.0",
            "_model_module": "@jupyter-widgets/controls"
          }
        },
        "f8ad68a456424085b08783d6bde9c7a7": {
          "model_module": "@jupyter-widgets/base",
          "model_name": "LayoutModel",
          "state": {
            "_view_name": "LayoutView",
            "grid_template_rows": null,
            "right": null,
            "justify_content": null,
            "_view_module": "@jupyter-widgets/base",
            "overflow": null,
            "_model_module_version": "1.2.0",
            "_view_count": null,
            "flex_flow": null,
            "width": null,
            "min_width": null,
            "border": null,
            "align_items": null,
            "bottom": null,
            "_model_module": "@jupyter-widgets/base",
            "top": null,
            "grid_column": null,
            "overflow_y": null,
            "overflow_x": null,
            "grid_auto_flow": null,
            "grid_area": null,
            "grid_template_columns": null,
            "flex": null,
            "_model_name": "LayoutModel",
            "justify_items": null,
            "grid_row": null,
            "max_height": null,
            "align_content": null,
            "visibility": null,
            "align_self": null,
            "height": null,
            "min_height": null,
            "padding": null,
            "grid_auto_rows": null,
            "grid_gap": null,
            "max_width": null,
            "order": null,
            "_view_module_version": "1.2.0",
            "grid_template_areas": null,
            "object_position": null,
            "object_fit": null,
            "grid_auto_columns": null,
            "margin": null,
            "display": null,
            "left": null
          }
        },
        "ea64705441a146f9bc945112fc295fd4": {
          "model_module": "@jupyter-widgets/controls",
          "model_name": "HBoxModel",
          "state": {
            "_view_name": "HBoxView",
            "_dom_classes": [],
            "_model_name": "HBoxModel",
            "_view_module": "@jupyter-widgets/controls",
            "_model_module_version": "1.5.0",
            "_view_count": null,
            "_view_module_version": "1.5.0",
            "box_style": "",
            "layout": "IPY_MODEL_915d47b0b7e54d849fcbf21bdea02123",
            "_model_module": "@jupyter-widgets/controls",
            "children": [
              "IPY_MODEL_a2c2d8db1ac7450dacf9f60aa592b3eb",
              "IPY_MODEL_e4acc401467d4268aca671c4714cf4ce"
            ]
          }
        },
        "915d47b0b7e54d849fcbf21bdea02123": {
          "model_module": "@jupyter-widgets/base",
          "model_name": "LayoutModel",
          "state": {
            "_view_name": "LayoutView",
            "grid_template_rows": null,
            "right": null,
            "justify_content": null,
            "_view_module": "@jupyter-widgets/base",
            "overflow": null,
            "_model_module_version": "1.2.0",
            "_view_count": null,
            "flex_flow": null,
            "width": null,
            "min_width": null,
            "border": null,
            "align_items": null,
            "bottom": null,
            "_model_module": "@jupyter-widgets/base",
            "top": null,
            "grid_column": null,
            "overflow_y": null,
            "overflow_x": null,
            "grid_auto_flow": null,
            "grid_area": null,
            "grid_template_columns": null,
            "flex": null,
            "_model_name": "LayoutModel",
            "justify_items": null,
            "grid_row": null,
            "max_height": null,
            "align_content": null,
            "visibility": null,
            "align_self": null,
            "height": null,
            "min_height": null,
            "padding": null,
            "grid_auto_rows": null,
            "grid_gap": null,
            "max_width": null,
            "order": null,
            "_view_module_version": "1.2.0",
            "grid_template_areas": null,
            "object_position": null,
            "object_fit": null,
            "grid_auto_columns": null,
            "margin": null,
            "display": null,
            "left": null
          }
        },
        "a2c2d8db1ac7450dacf9f60aa592b3eb": {
          "model_module": "@jupyter-widgets/controls",
          "model_name": "FloatProgressModel",
          "state": {
            "_view_name": "ProgressView",
            "style": "IPY_MODEL_3a4b35fe6a91420ea438b183a94d024b",
            "_dom_classes": [],
            "description": "100%",
            "_model_name": "FloatProgressModel",
            "bar_style": "success",
            "max": 100,
            "_view_module": "@jupyter-widgets/controls",
            "_model_module_version": "1.5.0",
            "value": 100,
            "_view_count": null,
            "_view_module_version": "1.5.0",
            "orientation": "horizontal",
            "min": 0,
            "description_tooltip": null,
            "_model_module": "@jupyter-widgets/controls",
            "layout": "IPY_MODEL_3d39d14f0b5c4d6bab7c7047b1bfcf88"
          }
        },
        "e4acc401467d4268aca671c4714cf4ce": {
          "model_module": "@jupyter-widgets/controls",
          "model_name": "HTMLModel",
          "state": {
            "_view_name": "HTMLView",
            "style": "IPY_MODEL_422e602f05e645768fd57b46f68d7895",
            "_dom_classes": [],
            "description": "",
            "_model_name": "HTMLModel",
            "placeholder": "​",
            "_view_module": "@jupyter-widgets/controls",
            "_model_module_version": "1.5.0",
            "value": " 100/100 [07:19&lt;00:00,  4.39s/it]",
            "_view_count": null,
            "_view_module_version": "1.5.0",
            "description_tooltip": null,
            "_model_module": "@jupyter-widgets/controls",
            "layout": "IPY_MODEL_bf07ffc058874db4a01719c83e4e83b6"
          }
        },
        "3a4b35fe6a91420ea438b183a94d024b": {
          "model_module": "@jupyter-widgets/controls",
          "model_name": "ProgressStyleModel",
          "state": {
            "_view_name": "StyleView",
            "_model_name": "ProgressStyleModel",
            "description_width": "initial",
            "_view_module": "@jupyter-widgets/base",
            "_model_module_version": "1.5.0",
            "_view_count": null,
            "_view_module_version": "1.2.0",
            "bar_color": null,
            "_model_module": "@jupyter-widgets/controls"
          }
        },
        "3d39d14f0b5c4d6bab7c7047b1bfcf88": {
          "model_module": "@jupyter-widgets/base",
          "model_name": "LayoutModel",
          "state": {
            "_view_name": "LayoutView",
            "grid_template_rows": null,
            "right": null,
            "justify_content": null,
            "_view_module": "@jupyter-widgets/base",
            "overflow": null,
            "_model_module_version": "1.2.0",
            "_view_count": null,
            "flex_flow": null,
            "width": null,
            "min_width": null,
            "border": null,
            "align_items": null,
            "bottom": null,
            "_model_module": "@jupyter-widgets/base",
            "top": null,
            "grid_column": null,
            "overflow_y": null,
            "overflow_x": null,
            "grid_auto_flow": null,
            "grid_area": null,
            "grid_template_columns": null,
            "flex": null,
            "_model_name": "LayoutModel",
            "justify_items": null,
            "grid_row": null,
            "max_height": null,
            "align_content": null,
            "visibility": null,
            "align_self": null,
            "height": null,
            "min_height": null,
            "padding": null,
            "grid_auto_rows": null,
            "grid_gap": null,
            "max_width": null,
            "order": null,
            "_view_module_version": "1.2.0",
            "grid_template_areas": null,
            "object_position": null,
            "object_fit": null,
            "grid_auto_columns": null,
            "margin": null,
            "display": null,
            "left": null
          }
        },
        "422e602f05e645768fd57b46f68d7895": {
          "model_module": "@jupyter-widgets/controls",
          "model_name": "DescriptionStyleModel",
          "state": {
            "_view_name": "StyleView",
            "_model_name": "DescriptionStyleModel",
            "description_width": "",
            "_view_module": "@jupyter-widgets/base",
            "_model_module_version": "1.5.0",
            "_view_count": null,
            "_view_module_version": "1.2.0",
            "_model_module": "@jupyter-widgets/controls"
          }
        },
        "bf07ffc058874db4a01719c83e4e83b6": {
          "model_module": "@jupyter-widgets/base",
          "model_name": "LayoutModel",
          "state": {
            "_view_name": "LayoutView",
            "grid_template_rows": null,
            "right": null,
            "justify_content": null,
            "_view_module": "@jupyter-widgets/base",
            "overflow": null,
            "_model_module_version": "1.2.0",
            "_view_count": null,
            "flex_flow": null,
            "width": null,
            "min_width": null,
            "border": null,
            "align_items": null,
            "bottom": null,
            "_model_module": "@jupyter-widgets/base",
            "top": null,
            "grid_column": null,
            "overflow_y": null,
            "overflow_x": null,
            "grid_auto_flow": null,
            "grid_area": null,
            "grid_template_columns": null,
            "flex": null,
            "_model_name": "LayoutModel",
            "justify_items": null,
            "grid_row": null,
            "max_height": null,
            "align_content": null,
            "visibility": null,
            "align_self": null,
            "height": null,
            "min_height": null,
            "padding": null,
            "grid_auto_rows": null,
            "grid_gap": null,
            "max_width": null,
            "order": null,
            "_view_module_version": "1.2.0",
            "grid_template_areas": null,
            "object_position": null,
            "object_fit": null,
            "grid_auto_columns": null,
            "margin": null,
            "display": null,
            "left": null
          }
        },
        "dbb2bb0c0d4947b494c34eb922842b76": {
          "model_module": "@jupyter-widgets/controls",
          "model_name": "HBoxModel",
          "state": {
            "_view_name": "HBoxView",
            "_dom_classes": [],
            "_model_name": "HBoxModel",
            "_view_module": "@jupyter-widgets/controls",
            "_model_module_version": "1.5.0",
            "_view_count": null,
            "_view_module_version": "1.5.0",
            "box_style": "",
            "layout": "IPY_MODEL_fef2eac7625e480b8054f5b6f6643dab",
            "_model_module": "@jupyter-widgets/controls",
            "children": [
              "IPY_MODEL_cc44be6543ea48daa896230130d2df35",
              "IPY_MODEL_407f0d4d1b014b6babdeb38e3bb20849"
            ]
          }
        },
        "fef2eac7625e480b8054f5b6f6643dab": {
          "model_module": "@jupyter-widgets/base",
          "model_name": "LayoutModel",
          "state": {
            "_view_name": "LayoutView",
            "grid_template_rows": null,
            "right": null,
            "justify_content": null,
            "_view_module": "@jupyter-widgets/base",
            "overflow": null,
            "_model_module_version": "1.2.0",
            "_view_count": null,
            "flex_flow": null,
            "width": null,
            "min_width": null,
            "border": null,
            "align_items": null,
            "bottom": null,
            "_model_module": "@jupyter-widgets/base",
            "top": null,
            "grid_column": null,
            "overflow_y": null,
            "overflow_x": null,
            "grid_auto_flow": null,
            "grid_area": null,
            "grid_template_columns": null,
            "flex": null,
            "_model_name": "LayoutModel",
            "justify_items": null,
            "grid_row": null,
            "max_height": null,
            "align_content": null,
            "visibility": null,
            "align_self": null,
            "height": null,
            "min_height": null,
            "padding": null,
            "grid_auto_rows": null,
            "grid_gap": null,
            "max_width": null,
            "order": null,
            "_view_module_version": "1.2.0",
            "grid_template_areas": null,
            "object_position": null,
            "object_fit": null,
            "grid_auto_columns": null,
            "margin": null,
            "display": null,
            "left": null
          }
        },
        "cc44be6543ea48daa896230130d2df35": {
          "model_module": "@jupyter-widgets/controls",
          "model_name": "FloatProgressModel",
          "state": {
            "_view_name": "ProgressView",
            "style": "IPY_MODEL_67d937f064c94f1698de00c599615708",
            "_dom_classes": [],
            "description": "100%",
            "_model_name": "FloatProgressModel",
            "bar_style": "success",
            "max": 100,
            "_view_module": "@jupyter-widgets/controls",
            "_model_module_version": "1.5.0",
            "value": 100,
            "_view_count": null,
            "_view_module_version": "1.5.0",
            "orientation": "horizontal",
            "min": 0,
            "description_tooltip": null,
            "_model_module": "@jupyter-widgets/controls",
            "layout": "IPY_MODEL_bf1b6a12ccaa4409a5af37d266f9b21d"
          }
        },
        "407f0d4d1b014b6babdeb38e3bb20849": {
          "model_module": "@jupyter-widgets/controls",
          "model_name": "HTMLModel",
          "state": {
            "_view_name": "HTMLView",
            "style": "IPY_MODEL_8a55e5b819a443cd923a07d554364a72",
            "_dom_classes": [],
            "description": "",
            "_model_name": "HTMLModel",
            "placeholder": "​",
            "_view_module": "@jupyter-widgets/controls",
            "_model_module_version": "1.5.0",
            "value": " 100/100 [05:38&lt;00:00,  3.38s/it]",
            "_view_count": null,
            "_view_module_version": "1.5.0",
            "description_tooltip": null,
            "_model_module": "@jupyter-widgets/controls",
            "layout": "IPY_MODEL_6d017a189cc14c1f92d8982ca0938dad"
          }
        },
        "67d937f064c94f1698de00c599615708": {
          "model_module": "@jupyter-widgets/controls",
          "model_name": "ProgressStyleModel",
          "state": {
            "_view_name": "StyleView",
            "_model_name": "ProgressStyleModel",
            "description_width": "initial",
            "_view_module": "@jupyter-widgets/base",
            "_model_module_version": "1.5.0",
            "_view_count": null,
            "_view_module_version": "1.2.0",
            "bar_color": null,
            "_model_module": "@jupyter-widgets/controls"
          }
        },
        "bf1b6a12ccaa4409a5af37d266f9b21d": {
          "model_module": "@jupyter-widgets/base",
          "model_name": "LayoutModel",
          "state": {
            "_view_name": "LayoutView",
            "grid_template_rows": null,
            "right": null,
            "justify_content": null,
            "_view_module": "@jupyter-widgets/base",
            "overflow": null,
            "_model_module_version": "1.2.0",
            "_view_count": null,
            "flex_flow": null,
            "width": null,
            "min_width": null,
            "border": null,
            "align_items": null,
            "bottom": null,
            "_model_module": "@jupyter-widgets/base",
            "top": null,
            "grid_column": null,
            "overflow_y": null,
            "overflow_x": null,
            "grid_auto_flow": null,
            "grid_area": null,
            "grid_template_columns": null,
            "flex": null,
            "_model_name": "LayoutModel",
            "justify_items": null,
            "grid_row": null,
            "max_height": null,
            "align_content": null,
            "visibility": null,
            "align_self": null,
            "height": null,
            "min_height": null,
            "padding": null,
            "grid_auto_rows": null,
            "grid_gap": null,
            "max_width": null,
            "order": null,
            "_view_module_version": "1.2.0",
            "grid_template_areas": null,
            "object_position": null,
            "object_fit": null,
            "grid_auto_columns": null,
            "margin": null,
            "display": null,
            "left": null
          }
        },
        "8a55e5b819a443cd923a07d554364a72": {
          "model_module": "@jupyter-widgets/controls",
          "model_name": "DescriptionStyleModel",
          "state": {
            "_view_name": "StyleView",
            "_model_name": "DescriptionStyleModel",
            "description_width": "",
            "_view_module": "@jupyter-widgets/base",
            "_model_module_version": "1.5.0",
            "_view_count": null,
            "_view_module_version": "1.2.0",
            "_model_module": "@jupyter-widgets/controls"
          }
        },
        "6d017a189cc14c1f92d8982ca0938dad": {
          "model_module": "@jupyter-widgets/base",
          "model_name": "LayoutModel",
          "state": {
            "_view_name": "LayoutView",
            "grid_template_rows": null,
            "right": null,
            "justify_content": null,
            "_view_module": "@jupyter-widgets/base",
            "overflow": null,
            "_model_module_version": "1.2.0",
            "_view_count": null,
            "flex_flow": null,
            "width": null,
            "min_width": null,
            "border": null,
            "align_items": null,
            "bottom": null,
            "_model_module": "@jupyter-widgets/base",
            "top": null,
            "grid_column": null,
            "overflow_y": null,
            "overflow_x": null,
            "grid_auto_flow": null,
            "grid_area": null,
            "grid_template_columns": null,
            "flex": null,
            "_model_name": "LayoutModel",
            "justify_items": null,
            "grid_row": null,
            "max_height": null,
            "align_content": null,
            "visibility": null,
            "align_self": null,
            "height": null,
            "min_height": null,
            "padding": null,
            "grid_auto_rows": null,
            "grid_gap": null,
            "max_width": null,
            "order": null,
            "_view_module_version": "1.2.0",
            "grid_template_areas": null,
            "object_position": null,
            "object_fit": null,
            "grid_auto_columns": null,
            "margin": null,
            "display": null,
            "left": null
          }
        },
        "86461f9f879744ac8c10908b7ea78fc7": {
          "model_module": "@jupyter-widgets/controls",
          "model_name": "HBoxModel",
          "state": {
            "_view_name": "HBoxView",
            "_dom_classes": [],
            "_model_name": "HBoxModel",
            "_view_module": "@jupyter-widgets/controls",
            "_model_module_version": "1.5.0",
            "_view_count": null,
            "_view_module_version": "1.5.0",
            "box_style": "",
            "layout": "IPY_MODEL_097c5221bf994b808a9a382599f063bd",
            "_model_module": "@jupyter-widgets/controls",
            "children": [
              "IPY_MODEL_335ffeebc0094c54837c8bb24ef0b4f9",
              "IPY_MODEL_56ebc6194aff4da194318daa31ca1e40"
            ]
          }
        },
        "097c5221bf994b808a9a382599f063bd": {
          "model_module": "@jupyter-widgets/base",
          "model_name": "LayoutModel",
          "state": {
            "_view_name": "LayoutView",
            "grid_template_rows": null,
            "right": null,
            "justify_content": null,
            "_view_module": "@jupyter-widgets/base",
            "overflow": null,
            "_model_module_version": "1.2.0",
            "_view_count": null,
            "flex_flow": null,
            "width": null,
            "min_width": null,
            "border": null,
            "align_items": null,
            "bottom": null,
            "_model_module": "@jupyter-widgets/base",
            "top": null,
            "grid_column": null,
            "overflow_y": null,
            "overflow_x": null,
            "grid_auto_flow": null,
            "grid_area": null,
            "grid_template_columns": null,
            "flex": null,
            "_model_name": "LayoutModel",
            "justify_items": null,
            "grid_row": null,
            "max_height": null,
            "align_content": null,
            "visibility": null,
            "align_self": null,
            "height": null,
            "min_height": null,
            "padding": null,
            "grid_auto_rows": null,
            "grid_gap": null,
            "max_width": null,
            "order": null,
            "_view_module_version": "1.2.0",
            "grid_template_areas": null,
            "object_position": null,
            "object_fit": null,
            "grid_auto_columns": null,
            "margin": null,
            "display": null,
            "left": null
          }
        },
        "335ffeebc0094c54837c8bb24ef0b4f9": {
          "model_module": "@jupyter-widgets/controls",
          "model_name": "FloatProgressModel",
          "state": {
            "_view_name": "ProgressView",
            "style": "IPY_MODEL_50535135144c442abad369fb021b94a6",
            "_dom_classes": [],
            "description": "100%",
            "_model_name": "FloatProgressModel",
            "bar_style": "success",
            "max": 100000,
            "_view_module": "@jupyter-widgets/controls",
            "_model_module_version": "1.5.0",
            "value": 100000,
            "_view_count": null,
            "_view_module_version": "1.5.0",
            "orientation": "horizontal",
            "min": 0,
            "description_tooltip": null,
            "_model_module": "@jupyter-widgets/controls",
            "layout": "IPY_MODEL_d2a2de748024466881b8f93d46c4fa7b"
          }
        },
        "56ebc6194aff4da194318daa31ca1e40": {
          "model_module": "@jupyter-widgets/controls",
          "model_name": "HTMLModel",
          "state": {
            "_view_name": "HTMLView",
            "style": "IPY_MODEL_9dc6f545dc7f4a78932579b14e650303",
            "_dom_classes": [],
            "description": "",
            "_model_name": "HTMLModel",
            "placeholder": "​",
            "_view_module": "@jupyter-widgets/controls",
            "_model_module_version": "1.5.0",
            "value": " 100000/100000 [00:49&lt;00:00, 2029.96it/s]",
            "_view_count": null,
            "_view_module_version": "1.5.0",
            "description_tooltip": null,
            "_model_module": "@jupyter-widgets/controls",
            "layout": "IPY_MODEL_5253ccdd40134dddb5b08d5ea7128a7a"
          }
        },
        "50535135144c442abad369fb021b94a6": {
          "model_module": "@jupyter-widgets/controls",
          "model_name": "ProgressStyleModel",
          "state": {
            "_view_name": "StyleView",
            "_model_name": "ProgressStyleModel",
            "description_width": "initial",
            "_view_module": "@jupyter-widgets/base",
            "_model_module_version": "1.5.0",
            "_view_count": null,
            "_view_module_version": "1.2.0",
            "bar_color": null,
            "_model_module": "@jupyter-widgets/controls"
          }
        },
        "d2a2de748024466881b8f93d46c4fa7b": {
          "model_module": "@jupyter-widgets/base",
          "model_name": "LayoutModel",
          "state": {
            "_view_name": "LayoutView",
            "grid_template_rows": null,
            "right": null,
            "justify_content": null,
            "_view_module": "@jupyter-widgets/base",
            "overflow": null,
            "_model_module_version": "1.2.0",
            "_view_count": null,
            "flex_flow": null,
            "width": null,
            "min_width": null,
            "border": null,
            "align_items": null,
            "bottom": null,
            "_model_module": "@jupyter-widgets/base",
            "top": null,
            "grid_column": null,
            "overflow_y": null,
            "overflow_x": null,
            "grid_auto_flow": null,
            "grid_area": null,
            "grid_template_columns": null,
            "flex": null,
            "_model_name": "LayoutModel",
            "justify_items": null,
            "grid_row": null,
            "max_height": null,
            "align_content": null,
            "visibility": null,
            "align_self": null,
            "height": null,
            "min_height": null,
            "padding": null,
            "grid_auto_rows": null,
            "grid_gap": null,
            "max_width": null,
            "order": null,
            "_view_module_version": "1.2.0",
            "grid_template_areas": null,
            "object_position": null,
            "object_fit": null,
            "grid_auto_columns": null,
            "margin": null,
            "display": null,
            "left": null
          }
        },
        "9dc6f545dc7f4a78932579b14e650303": {
          "model_module": "@jupyter-widgets/controls",
          "model_name": "DescriptionStyleModel",
          "state": {
            "_view_name": "StyleView",
            "_model_name": "DescriptionStyleModel",
            "description_width": "",
            "_view_module": "@jupyter-widgets/base",
            "_model_module_version": "1.5.0",
            "_view_count": null,
            "_view_module_version": "1.2.0",
            "_model_module": "@jupyter-widgets/controls"
          }
        },
        "5253ccdd40134dddb5b08d5ea7128a7a": {
          "model_module": "@jupyter-widgets/base",
          "model_name": "LayoutModel",
          "state": {
            "_view_name": "LayoutView",
            "grid_template_rows": null,
            "right": null,
            "justify_content": null,
            "_view_module": "@jupyter-widgets/base",
            "overflow": null,
            "_model_module_version": "1.2.0",
            "_view_count": null,
            "flex_flow": null,
            "width": null,
            "min_width": null,
            "border": null,
            "align_items": null,
            "bottom": null,
            "_model_module": "@jupyter-widgets/base",
            "top": null,
            "grid_column": null,
            "overflow_y": null,
            "overflow_x": null,
            "grid_auto_flow": null,
            "grid_area": null,
            "grid_template_columns": null,
            "flex": null,
            "_model_name": "LayoutModel",
            "justify_items": null,
            "grid_row": null,
            "max_height": null,
            "align_content": null,
            "visibility": null,
            "align_self": null,
            "height": null,
            "min_height": null,
            "padding": null,
            "grid_auto_rows": null,
            "grid_gap": null,
            "max_width": null,
            "order": null,
            "_view_module_version": "1.2.0",
            "grid_template_areas": null,
            "object_position": null,
            "object_fit": null,
            "grid_auto_columns": null,
            "margin": null,
            "display": null,
            "left": null
          }
        }
      }
    }
  },
  "cells": [
    {
      "cell_type": "markdown",
      "metadata": {
        "id": "view-in-github",
        "colab_type": "text"
      },
      "source": [
        "<a href=\"https://colab.research.google.com/github/andigu/crbm/blob/main/H2_CRBM.ipynb\" target=\"_parent\"><img src=\"https://colab.research.google.com/assets/colab-badge.svg\" alt=\"Open In Colab\"/></a>"
      ]
    },
    {
      "cell_type": "code",
      "metadata": {
        "id": "brwTFxp_tcSO"
      },
      "source": [
        "!pip install qiskit emcee numdifftools pyscf > /dev/null"
      ],
      "execution_count": null,
      "outputs": []
    },
    {
      "cell_type": "code",
      "metadata": {
        "id": "P_dqRVtqKSKh",
        "colab": {
          "base_uri": "https://localhost:8080/"
        },
        "outputId": "26365bf3-98e0-450c-e076-d90d31489f76"
      },
      "source": [
        "import emcee\n",
        "import tensorflow as tf \n",
        "import tensorflow_probability as tfp\n",
        "import numpy as np \n",
        "from sklearn.neural_network import BernoulliRBM\n",
        "from matplotlib import pyplot as plt\n",
        "import matplotlib as mpl\n",
        "import seaborn as sns\n",
        "import pandas as pd\n",
        "import imageio\n",
        "from datetime import datetime\n",
        "import os\n",
        "from qiskit.quantum_info import Statevector, Pauli, Operator\n",
        "from qiskit.visualization import plot_bloch_multivector, plot_bloch_vector, plot_histogram, plot_state_paulivec\n",
        "from qiskit.visualization.utils import _bloch_multivector_data\n",
        "from tqdm.keras import TqdmCallback\n",
        "from scipy import optimize as opt\n",
        "import numdifftools as nd\n",
        "\n",
        "from qiskit.aqua.algorithms import VQE, NumPyEigensolver\n",
        "import matplotlib.pyplot as plt\n",
        "import numpy as np\n",
        "from qiskit.chemistry.components.variational_forms import UCCSD\n",
        "from qiskit.chemistry.components.initial_states import HartreeFock\n",
        "from qiskit.circuit.library import EfficientSU2\n",
        "from qiskit.aqua.components.optimizers import COBYLA, SPSA, SLSQP\n",
        "from qiskit.aqua.operators import Z2Symmetries\n",
        "from qiskit import IBMQ, BasicAer, Aer\n",
        "from qiskit.chemistry.drivers import PySCFDriver, UnitsType\n",
        "from qiskit.chemistry import FermionicOperator\n",
        "from qiskit import IBMQ\n",
        "from qiskit.aqua.operators import Z2Symmetries\n",
        "import gc\n",
        "gc.collect()"
      ],
      "execution_count": null,
      "outputs": [
        {
          "output_type": "stream",
          "text": [
            "/usr/local/lib/python3.7/dist-packages/qiskit/chemistry/__init__.py:170: DeprecationWarning: The package qiskit.chemistry is deprecated. It was moved/refactored to qiskit_nature (pip install qiskit-nature). For more information see <https://github.com/Qiskit/qiskit-aqua/blob/master/README.md#migration-guide>\n",
            "  warn_package('chemistry', 'qiskit_nature', 'qiskit-nature')\n"
          ],
          "name": "stderr"
        },
        {
          "output_type": "execute_result",
          "data": {
            "text/plain": [
              "0"
            ]
          },
          "metadata": {
            "tags": []
          },
          "execution_count": 2
        }
      ]
    },
    {
      "cell_type": "code",
      "metadata": {
        "id": "uZZJr1g1pGmY",
        "colab": {
          "base_uri": "https://localhost:8080/"
        },
        "outputId": "4dc1619b-8e25-4a59-a50c-3a17b1747834"
      },
      "source": [
        "# def get_qubit_op(dist):\n",
        "#     driver = PySCFDriver(atom=f'H .0 .0 {-dist/2}; H .0 .0 {dist/2}', unit=UnitsType.ANGSTROM, charge=0, spin=0, basis='631g')\n",
        "#     molecule = driver.run()\n",
        "#     num_particles = molecule.num_alpha + molecule.num_beta\n",
        "#     qubitOp = FermionicOperator(h1=molecule.one_body_integrals, h2=molecule.two_body_integrals).mapping(map_type='parity')\n",
        "#     # qubitOp = Z2Symmetries.two_qubit_reduction(qubitOp, num_particles)\n",
        "#     return qubitOp.to_opflow(), molecule.nuclear_repulsion_energy\n",
        "\n",
        "def get_qubit_op(dist):\n",
        "    atom=f'H .0 .0 {-dist/2}; H .0 .0 {dist/2}'\n",
        "    driver = PySCFDriver(atom=atom, unit=UnitsType.ANGSTROM, \n",
        "                         charge=0, spin=0, basis='sto3g')\n",
        "    molecule = driver.run()\n",
        "    num_particles = molecule.num_alpha + molecule.num_beta\n",
        "    qubitOp = FermionicOperator(h1=molecule.one_body_integrals, h2=molecule.two_body_integrals).mapping(map_type='parity')\n",
        "    qubitOp = Z2Symmetries.two_qubit_reduction(qubitOp, num_particles)\n",
        "    return qubitOp.to_opflow(), molecule.nuclear_repulsion_energy\n",
        "\n",
        "tmp = []\n",
        "var = []\n",
        "ds = np.arange(0.5,1,0.1)\n",
        "for dist in ds:\n",
        "    op, repulsion = get_qubit_op(dist)\n",
        "    sv = Statevector(np.linalg.eigh(op.to_matrix())[1][:,0])\n",
        "    tmp.append(np.linalg.eigvalsh(op.to_matrix()).min() + repulsion)\n",
        "    expect = np.real(np.array([sv.expectation_value(o.to_matrix())/o.coeff for o in op]))\n",
        "    coeffs = np.array([o.coeff for o in op])\n",
        "    var.append(np.sum(coeffs**2 * (1-expect**2)))"
      ],
      "execution_count": null,
      "outputs": [
        {
          "output_type": "stream",
          "text": [
            "/usr/local/lib/python3.7/dist-packages/qiskit/chemistry/fermionic_operator.py:386: DeprecationWarning: The package qiskit.aqua.operators is deprecated. It was moved/refactored to qiskit.opflow (pip install qiskit-terra). For more information see <https://github.com/Qiskit/qiskit-aqua/blob/master/README.md#migration-guide>\n",
            "  pauli_list = WeightedPauliOperator(paulis=[])\n",
            "/usr/local/lib/python3.7/dist-packages/qiskit/chemistry/fermionic_operator.py:394: DeprecationWarning: The variable qiskit.aqua.aqua_globals is deprecated. It was moved/refactored to qiskit.utils.algorithm_globals (pip install qiskit-terra). For more information see <https://github.com/Qiskit/qiskit-aqua/blob/master/README.md#migration-guide>\n",
            "  task_args=(threshold,), num_processes=aqua_globals.num_processes)\n"
          ],
          "name": "stderr"
        }
      ]
    },
    {
      "cell_type": "code",
      "metadata": {
        "colab": {
          "base_uri": "https://localhost:8080/",
          "height": 225
        },
        "id": "rQ5viW8ugr4q",
        "outputId": "1e419fc3-cb3a-4fd2-a765-a6cc4cfd63f3"
      },
      "source": [
        "fig = plt.figure(figsize=(8,3))\n",
        "\n",
        "tmp, std = np.array(tmp), np.sqrt(np.array(var))/30\n",
        "plt.fill_between(ds, y1=tmp-std/2, y2=tmp+std/2, alpha=0.2, color='#003262', lw=0)\n",
        "eps = 0.001\n",
        "plt.fill_between(ds, y1=tmp-eps/2, y2=tmp+eps/2, color='red', lw=0)\n",
        "plt.xlabel('Bond distance [Å]', fontsize=12)\n",
        "plt.ylabel('Energy [Ha]', fontsize=12)\n",
        "plt.tight_layout()\n",
        "plt.savefig('lih-curve.png', transparent=True)"
      ],
      "execution_count": null,
      "outputs": [
        {
          "output_type": "display_data",
          "data": {
            "image/png": "[encoded data removed]",
            "text/plain": [
              "<Figure size 576x216 with 1 Axes>"
            ]
          },
          "metadata": {
            "tags": [],
            "needs_background": "light"
          }
        }
      ]
    },
    {
      "cell_type": "code",
      "metadata": {
        "id": "m4DxsXLXM_wM"
      },
      "source": [
        "import itertools\n",
        "\n",
        "class CRBM(tf.keras.models.Model):\n",
        "    def __init__(self, nv=1, nh=5, seed=0, W=None, bv=None, bh=None, n_particles=10):\n",
        "        np.random.seed(seed)\n",
        "        tf.random.set_seed(seed)\n",
        "        super(CRBM, self).__init__()\n",
        "        self.nv, self.nh = nv, nh\n",
        "        bv = CRBM.random_normal((n_particles,nv,1)) if bv is None else bv\n",
        "        bh = CRBM.random_normal((n_particles,nh,1), loc=-0.5) if bh is None else bh\n",
        "        W = CRBM.random_normal((n_particles,nv,nh)) if W is None else W\n",
        "        self.bv = tf.Variable(initial_value=bv, dtype=tf.dtypes.complex64, trainable=True)\n",
        "        self.bh = tf.Variable(initial_value=bh, dtype=tf.dtypes.complex64, trainable=True)\n",
        "        self.W = tf.Variable(initial_value=W, dtype=tf.dtypes.complex64, trainable=True)\n",
        "        self.n_particles = n_particles\n",
        "        v_vecs = np.array([list(\"{0:b}\".format(x).zfill(nv)) for x in np.arange(2**nv)]).astype(np.int)\n",
        "        self.v_vecs = tf.cast(tf.convert_to_tensor(v_vecs), tf.dtypes.complex64)\n",
        "    \n",
        "    @staticmethod\n",
        "    def random_normal(shape, scale=0.5, loc=0):\n",
        "        return np.random.normal(size=shape, scale=scale, loc=loc) + 1j*np.random.normal(size=shape, scale=scale, loc=loc)\n",
        "    \n",
        "    def psi(self, v, pid=0):\n",
        "        \"\"\"\n",
        "        Accepts only length N binary strings\n",
        "        \"\"\"\n",
        "        if tf.rank(v) == 1:\n",
        "            v = tf.expand_dims(v, axis=-1)\n",
        "        elif tf.rank(v) == 2:\n",
        "            v = tf.transpose(v)\n",
        "        bv, bh, W = self.bv[pid], self.bh[pid], self.W[pid]\n",
        "        ret = tf.linalg.adjoint(bv) @ v + tf.reduce_sum(tf.math.log(tf.math.conj(tf.exp(bh + tf.linalg.adjoint(W) @ v)) + 1), axis=0)\n",
        "        return tf.transpose(tf.exp(ret))\n",
        "    \n",
        "    def statevector(self):\n",
        "        scores = []\n",
        "        for i in range(self.n_particles):\n",
        "            scores.append(tf.math.reduce_mean(tf.math.log(self.prob(measurements, pid=i))).numpy())\n",
        "        pid = np.argmax(scores)\n",
        "        psi2 = self.psi(self.v_vecs, pid=pid).numpy().flatten()\n",
        "        psi2 = psi2/psi2[0]\n",
        "        psi2 = psi2/np.linalg.norm(psi2)\n",
        "        return Statevector(psi2)\n",
        "\n",
        "    def prob(self, measurements, pid=0):\n",
        "        psi_vec = self.psi(self.v_vecs, pid=pid)\n",
        "        psi_vec = psi_vec / tf.linalg.norm(psi_vec)\n",
        "        psi_proj = tf.math.conj(measurements) @ psi_vec\n",
        "        return tf.math.abs(psi_proj) ** 2\n",
        "\n",
        "    def call(self, measurements):\n",
        "        losses = []\n",
        "        for i in range(self.n_particles):\n",
        "            loss = -tf.math.reduce_mean(tf.math.log(self.prob(measurements, pid=i)))\n",
        "            self.add_loss(loss)\n",
        "            losses.append(loss)\n",
        "        self.add_metric(tf.math.reduce_min(losses), name='best_loss')"
      ],
      "execution_count": null,
      "outputs": []
    },
    {
      "cell_type": "code",
      "metadata": {
        "id": "jqY6OHN-NuOc"
      },
      "source": [
        "operator = get_qubit_op(0.7)[0].to_matrix()\n",
        "paulis = [x.primitive.to_label() for x in get_qubit_op(0.7)[0]]\n",
        "N = 2\n",
        "psi = np.linalg.eigh(operator)[1][:,0]\n",
        "sv = Statevector(psi)\n",
        "\n",
        "def measure(psi, n_sample=100, basis='Z'*N):\n",
        "    mat = Pauli.from_label(basis).to_matrix()\n",
        "    eigs, basis = np.linalg.eigh(mat) # basis[:,i] is ith basis vec\n",
        "    probs = np.abs(np.conj(basis.T) @ psi)**2\n",
        "    basis = basis.astype(np.complex64)\n",
        "    idx = np.random.choice(2**N, size=n_sample, p=probs)\n",
        "    return basis.T[idx]"
      ],
      "execution_count": null,
      "outputs": []
    },
    {
      "cell_type": "code",
      "metadata": {
        "colab": {
          "base_uri": "https://localhost:8080/",
          "height": 137,
          "referenced_widgets": [
            "bceaf7d51476474480d6ade439446476",
            "d6b9f495d21d40699964b8adedf28413",
            "22eb1cd73870431c8485817afa54192a",
            "ff6276956d44451ca9c2648aca4332b2",
            "e11847ae14c349328e0119808802502d",
            "fd61ac7ebeeb42e39cede8f7a7b65800",
            "659d2e623cec4082b47a70719f785e64",
            "45941a07889343bc8b971231071a2c86",
            "13427a2dd8bc43b5bf490d5ee5e73a8a",
            "d4298c9facf140c4b000840094005561",
            "cff7bffc622c4ce4ad394cdd34d13ace",
            "87747e81b7e6467ea9927782e9580e93",
            "7adb5c97309c48d689493daecb14d0e2",
            "30def7dd5ae94f498774217a61e586ae",
            "262835a34aa248998ba33229a8202a83",
            "d3f7c803dfce4a62a69bce978624da42"
          ]
        },
        "id": "P6XnP1UrcH_r",
        "outputId": "f7fb9062-3832-4dba-d3a0-ce403814c2ed"
      },
      "source": [
        "n_sample = 10\n",
        "labels = ['XX', 'ZZ']\n",
        "np.random.seed(42)\n",
        "measurements = np.concatenate([measure(psi, n_sample, label) for label in labels], axis=0)\n",
        "master = CRBM(nv=N, nh=4, seed=0, n_particles=10)\n",
        "bs = len(measurements)//5\n",
        "master.compile(optimizer=tf.optimizers.Adam(3e-2))\n",
        "callbacks=[\n",
        "    tf.keras.callbacks.ModelCheckpoint('master.h5', monitor='val_loss', verbose=False, save_best_only=True),\n",
        "    tf.keras.callbacks.ReduceLROnPlateau(patience=10, monitor='val_loss', factor=0.1, verbose=False),\n",
        "    TqdmCallback(),\n",
        "    tf.keras.callbacks.EarlyStopping(monitor='val_loss', patience=25),\n",
        "]\n",
        "master.fit(measurements, epochs=1000, callbacks=callbacks, batch_size=bs, shuffle=True,\n",
        "                validation_data=(measurements,), validation_batch_size=len(measurements), verbose=False)\n",
        "master.load_weights(\"master.h5\")\n",
        "print(master.statevector().expectation_value(operator), np.linalg.eigvalsh(operator).min())"
      ],
      "execution_count": null,
      "outputs": [
        {
          "output_type": "stream",
          "text": [
            "/usr/local/lib/python3.7/dist-packages/ipykernel_launcher.py:8: DeprecationWarning: `from_label` is deprecated and will be removed no earlier than 3 months after the release date. Use Pauli(label) instead.\n",
            "  \n"
          ],
          "name": "stderr"
        },
        {
          "output_type": "display_data",
          "data": {
            "application/vnd.jupyter.widget-view+json": {
              "model_id": "bceaf7d51476474480d6ade439446476",
              "version_minor": 0,
              "version_major": 2
            },
            "text/plain": [
              "HBox(children=(FloatProgress(value=1.0, bar_style='info', max=1.0), HTML(value='')))"
            ]
          },
          "metadata": {
            "tags": []
          }
        },
        {
          "output_type": "display_data",
          "data": {
            "application/vnd.jupyter.widget-view+json": {
              "model_id": "13427a2dd8bc43b5bf490d5ee5e73a8a",
              "version_minor": 0,
              "version_major": 2
            },
            "text/plain": [
              "HBox(children=(FloatProgress(value=1.0, bar_style='info', max=1.0), HTML(value='')))"
            ]
          },
          "metadata": {
            "tags": []
          }
        },
        {
          "output_type": "stream",
          "text": [
            "\n",
            "(-1.8836388889873676+0j) -1.8921568982373498\n"
          ],
          "name": "stdout"
        }
      ]
    },
    {
      "cell_type": "code",
      "metadata": {
        "id": "Vsx9Jlb2NnNz"
      },
      "source": [
        "from tensorflow.keras.callbacks import Callback\n",
        "from scipy.optimize import minimize\n",
        "\n",
        "def train(psi, n_sample, seed=0):\n",
        "    np.random.seed(seed)\n",
        "    measurements = np.concatenate([measure(psi, n_sample, label) for label in labels], axis=0)\n",
        "    bs = len(measurements)//5\n",
        "    crbm = CRBM(nv=N, nh=4, n_particles=10)#, W=master.W.numpy(), bv=master.bv.numpy(), bh=master.bh.numpy())\n",
        "    crbm.compile(optimizer=tf.optimizers.Adam(1e-2))\n",
        "    callbacks=[\n",
        "        tf.keras.callbacks.ModelCheckpoint('model.h5', monitor='val_best_loss', verbose=False, save_best_only=True),\n",
        "        tf.keras.callbacks.ReduceLROnPlateau(patience=10, monitor='val_loss', factor=0.1),\n",
        "        tf.keras.callbacks.EarlyStopping(monitor='val_loss', patience=35),\n",
        "        # TqdmCallback(batch_size=bs),\n",
        "    ]\n",
        "    hist = crbm.fit(measurements, verbose=False, epochs=20000, callbacks=callbacks, batch_size=bs, shuffle=True,\n",
        "                    validation_data=(measurements,), validation_batch_size=len(measurements))\n",
        "    crbm.load_weights(\"model.h5\")\n",
        "    # print(crbm.evaluate(measurements, batch_size=len(measurements), verbose=0))\n",
        "    return crbm.statevector()"
      ],
      "execution_count": null,
      "outputs": []
    },
    {
      "cell_type": "code",
      "metadata": {
        "colab": {
          "base_uri": "https://localhost:8080/",
          "height": 933,
          "referenced_widgets": [
            "8af97c46ad33406982d96a7ce2641bbc",
            "8c641e517f964119bf0a9a4ecfe39f04",
            "886ee99ab1fa4550bcef48a8a6ac4f7a",
            "4eb26d9f65db4840912d0bb08e2dc874",
            "d0284709cb814632b0c8a0967ca6792a",
            "819b0c105ba54e00b25e6720e7bd5153",
            "0a3dcf9a9cf84b0492a145d766945cf4",
            "26529df127d64fd281eec8c849f7a35b"
          ]
        },
        "id": "uwA68ZChdDFQ",
        "outputId": "51c4e281-f70b-4be8-9376-284184de1c4e"
      },
      "source": [
        "from tqdm.notebook import trange\n",
        "rbms = []\n",
        "for i in trange(50):\n",
        "    rbm = train(psi, 100, seed=i)\n",
        "    e1 = np.real(rbm.expectation_value(operator))\n",
        "    rbms.append(e1)\n",
        "    print(e1.round(5))\n",
        "print('overall var:', np.var(np.real(rbms[-1])))"
      ],
      "execution_count": null,
      "outputs": [
        {
          "output_type": "display_data",
          "data": {
            "application/vnd.jupyter.widget-view+json": {
              "model_id": "8af97c46ad33406982d96a7ce2641bbc",
              "version_minor": 0,
              "version_major": 2
            },
            "text/plain": [
              "HBox(children=(FloatProgress(value=0.0, max=50.0), HTML(value='')))"
            ]
          },
          "metadata": {
            "tags": []
          }
        },
        {
          "output_type": "stream",
          "text": [
            "-1.8919\n",
            "-1.89208\n",
            "-1.87358\n",
            "-1.89214\n",
            "-1.89208\n",
            "-1.8866\n",
            "-1.88481\n",
            "-1.89207\n",
            "-1.89192\n",
            "-1.89176\n",
            "-1.89211\n",
            "-1.87844\n",
            "-1.88896\n",
            "-1.89211\n",
            "-1.89167\n",
            "-1.88745\n",
            "-1.88858\n",
            "-1.88743\n",
            "-1.8443\n",
            "-1.88868\n",
            "-1.86535\n",
            "-1.88765\n",
            "-1.86908\n",
            "-1.8884\n",
            "-1.88173\n",
            "-1.88871\n",
            "-1.88939\n",
            "-1.88928\n",
            "-1.87407\n",
            "-1.87837\n",
            "-1.88478\n",
            "-1.88846\n",
            "-1.89167\n",
            "-1.89169\n",
            "-1.85422\n",
            "-1.8921\n",
            "-1.89125\n",
            "-1.88759\n",
            "-1.87227\n",
            "-1.85438\n",
            "-1.89212\n",
            "-1.88571\n",
            "-1.89193\n",
            "-1.86521\n",
            "-1.88763\n",
            "-1.8724\n",
            "-1.88361\n",
            "-1.89085\n",
            "-1.88718\n",
            "-1.86344\n",
            "\n",
            "overall var: 0.0\n"
          ],
          "name": "stdout"
        }
      ]
    },
    {
      "cell_type": "code",
      "metadata": {
        "colab": {
          "base_uri": "https://localhost:8080/"
        },
        "id": "DfyEbzTtOeJy",
        "outputId": "efc5dab9-9582-425d-f20f-265d26e2c52d"
      },
      "source": [
        "print(get_qubit_op(0.7)[0])"
      ],
      "execution_count": null,
      "outputs": [
        {
          "output_type": "stream",
          "text": [
            "SummedOp([\n",
            "  -1.0439125217729268 * II,\n",
            "  0.42045567978280396 * IZ,\n",
            "  -0.42045567978280385 * ZI,\n",
            "  -0.011507402176827275 * ZZ,\n",
            "  0.17900057606140635 * XX\n",
            "])\n"
          ],
          "name": "stdout"
        }
      ]
    },
    {
      "cell_type": "code",
      "metadata": {
        "id": "wE4dIkHvMacw"
      },
      "source": [
        "dat = []\n",
        "for _ in range(1000):\n",
        "    zs = measure(psi, 100, 'ZZ').T\n",
        "    zi = np.diag(zs.T @ Pauli('ZI').to_matrix() @ zs) * -0.42045567978280385\n",
        "    iz = np.diag(zs.T @ Pauli('IZ').to_matrix() @ zs) * 0.42045567978280396\n",
        "    zz = np.diag(zs.T @ Pauli('ZZ').to_matrix() @ zs) * -0.011507402176827275\n",
        "    zs = measure(psi, 100, 'XX').T\n",
        "    ii = np.diag(zs.T @ Pauli('II').to_matrix() @ zs) * -1.0439125217729268\n",
        "    xx = np.diag(zs.T @ Pauli('XX').to_matrix() @ zs) * 0.17900057606140635\n",
        "    dat.append(ii.mean()+iz.mean()+zi.mean()+zz.mean()+xx.mean())"
      ],
      "execution_count": null,
      "outputs": []
    },
    {
      "cell_type": "code",
      "metadata": {
        "id": "6MNkUmXuqVpl",
        "colab": {
          "base_uri": "https://localhost:8080/"
        },
        "outputId": "fc883150-b6b4-4251-b3bc-f31aa6c2da7a"
      },
      "source": [
        "ops = get_qubit_op(0.7)[0]\n",
        "expect = np.real(np.array([sv.expectation_value(op.to_matrix())/op.coeff for op in ops]))\n",
        "coeffs = np.array([op.coeff for op in ops])\n",
        "print(coeffs * expect)\n",
        "vars = np.sum(coeffs**2 * (1-expect**2))"
      ],
      "execution_count": null,
      "outputs": [
        {
          "output_type": "stream",
          "text": [
            "[-1.04391252 -0.4112419  -0.4112419   0.0115074  -0.03726797]\n"
          ],
          "name": "stdout"
        }
      ]
    },
    {
      "cell_type": "code",
      "metadata": {
        "id": "uXYHYWMThYD1",
        "colab": {
          "base_uri": "https://localhost:8080/",
          "height": 338
        },
        "outputId": "6016cb38-c66d-4e38-f40e-035c05cd9e09"
      },
      "source": [
        "rbms = np.load('lih2-result.npy')\n",
        "n_samples = np.logspace(1, 3, num=5).astype(np.int)\n",
        "\n",
        "plt.figure(figsize=(8,5))\n",
        "y = np.var(np.real(rbms), axis=1)\n",
        "plt.loglog(n_samples,y, 'o', label='RBM')\n",
        "plt.loglog(n_samples,vars/n_samples, 'o', label='Averaging (QC)')\n",
        "# plt.loglog(n_samples, np.real(np.mean((data - np.linalg.eigh(operator)[0].min())**2, axis=1)))\n",
        "plt.xlabel(\"Number of Samples\")\n",
        "plt.ylabel(\"Variance of observable\")\n",
        "plt.legend()\n",
        "plt.grid()\n",
        "plt.grid(which='minor', ls='--', alpha=0.5)\n",
        "plt.savefig(\"var-results.png\")"
      ],
      "execution_count": null,
      "outputs": [
        {
          "output_type": "display_data",
          "data": {
            "image/png": "[encoded data removed]",
            "text/plain": [
              "<Figure size 576x360 with 1 Axes>"
            ]
          },
          "metadata": {
            "tags": [],
            "needs_background": "light"
          }
        }
      ]
    },
    {
      "cell_type": "code",
      "metadata": {
        "id": "vFGhdvUpyWnM",
        "colab": {
          "base_uri": "https://localhost:8080/",
          "height": 506
        },
        "outputId": "dc4bbc34-51d7-4d4b-d210-e98cd87ac8f1"
      },
      "source": [
        "plt.figure(figsize=(8,5), dpi=100)\n",
        "y1 = np.mean((np.real(rbms) - np.linalg.eigvalsh(operator)[0])**2, axis=1)\n",
        "# y2 = np.mean((np.real(bayesians) - np.linalg.eigvalsh(operator)[0])**2, axis=1)\n",
        "eps = 0.0016\n",
        "plt.loglog(n_samples,y1/eps**2, 'o', label='RBM')\n",
        "# plt.loglog(n_samples,y2, 'o', label='Bayesian')\n",
        "plt.loglog(n_samples,(vars/n_samples)/eps**2, 'o', label='Naive Averaging')\n",
        "plt.xlabel(\"Number of Samples\")\n",
        "plt.ylabel(r\"Mean squared error $\\left\\langle \\frac{(\\tilde{O} - O)^2}{\\epsilon^2} \\right\\rangle$\")\n",
        "plt.legend()\n",
        "plt.grid()\n",
        "plt.grid(which='minor', ls='--', alpha=0.5)\n",
        "plt.tight_layout()\n",
        "plt.savefig(\"mse-results.png\")"
      ],
      "execution_count": null,
      "outputs": [
        {
          "output_type": "display_data",
          "data": {
            "image/png": "[encoded data removed]",
            "text/plain": [
              "<Figure size 800x500 with 1 Axes>"
            ]
          },
          "metadata": {
            "tags": [],
            "needs_background": "light"
          }
        }
      ]
    },
    {
      "cell_type": "markdown",
      "metadata": {
        "id": "M3e_U0y4P1pT"
      },
      "source": [
        "# Full Bayesian"
      ]
    },
    {
      "cell_type": "code",
      "metadata": {
        "id": "ynEil1uRP2hj"
      },
      "source": [
        "from scipy.optimize import *\n",
        "\n",
        "N = 4\n",
        "operator = get_qubit_op(1.5)[0]\n",
        "def param_2_psi(param):\n",
        "    ampl = param[:len(param)//2+1]\n",
        "    phase = np.insert(param[len(param)//2+1:], 0, 0)\n",
        "    return ampl * np.exp(1j* phase)\n",
        "def nll(param, measurements):\n",
        "    psi = param_2_psi(param)[:,np.newaxis]\n",
        "    probs = np.abs(np.conjugate(measurements) @ psi)**2\n",
        "    return -np.mean(np.log(probs))"
      ],
      "execution_count": null,
      "outputs": []
    },
    {
      "cell_type": "code",
      "metadata": {
        "id": "l_2vlAg7REwn"
      },
      "source": [
        "constr = NonlinearConstraint(lambda param: np.linalg.norm(param[:len(param)//2+1]), 1, 1, jac='cs')\n",
        "measurements = np.concatenate([measure(psi, 250, label) for label in paulis], axis=0)\n",
        "x0 = np.random.normal(size=2**N*2-1)\n",
        "x0[:len(x0)//2+1] = x0[:len(x0)//2+1]/np.linalg.norm(x0[:len(x0)//2+1])\n",
        "ret = minimize(nll, x0=x0, args=(measurements,), constraints=(constr,))"
      ],
      "execution_count": null,
      "outputs": []
    },
    {
      "cell_type": "code",
      "metadata": {
        "colab": {
          "base_uri": "https://localhost:8080/"
        },
        "id": "keX-9ehJTWIg",
        "outputId": "393658b1-1a2e-45c3-b991-479b5d881930"
      },
      "source": [
        "print(Statevector(param_2_psi(ret['x'])).expectation_value(operator.to_matrix()))\n",
        "start = ret['x']"
      ],
      "execution_count": null,
      "outputs": [
        {
          "output_type": "stream",
          "text": [
            "(-1.0890731173357489+5.551115123125783e-17j)\n"
          ],
          "name": "stdout"
        }
      ]
    },
    {
      "cell_type": "code",
      "metadata": {
        "colab": {
          "base_uri": "https://localhost:8080/",
          "height": 1000,
          "referenced_widgets": [
            "66aae058047e48928f693a3b100e0b6c",
            "c287bf49b1074164ac2f828b8e0b929b",
            "df7917759c08419287b62e241e1c5c7c",
            "4214a95759a4461bb1de2c70992f542a",
            "68999b78f70d4f79b33dad7385657224",
            "605457e60798424cb83d20e27d259cd0",
            "398afdd9d1284c18acd5a58845562a75",
            "59553411b6c1483b9dedc490838606eb",
            "81211dcce30c4d378841e8e6d55185e4",
            "886fcb0f55d84f9e9e00c63fdde868a7",
            "0e3bd478b08446c399b27f95304223a0",
            "b8bfc01807c14c079bed162aae49fded",
            "860563a2edc04405a4def4829cbb2522",
            "136ceff4aeaa45d4b509ae13c2713bd5",
            "357c1cfcbe1b454e9d5660f5d555643f",
            "875541a954954e8a9794fb0c9b273d2f",
            "88dd9f7d62e0454295734003f4d809ea",
            "b249dad2cd9b4306a1f4bdb2ea67f190",
            "2b253e17d02f4427a23187fdc7d07b25",
            "80fbf09d858a4f1c85b1cc9e88bb1a8a",
            "5fa7013253894531a91c3af4765f3917",
            "bb8ede5e7bcc46e894cf38ad1be47b8f",
            "8ed736a9784743209e6c5fa30a923a67",
            "f8ad68a456424085b08783d6bde9c7a7",
            "ea64705441a146f9bc945112fc295fd4",
            "915d47b0b7e54d849fcbf21bdea02123",
            "a2c2d8db1ac7450dacf9f60aa592b3eb",
            "e4acc401467d4268aca671c4714cf4ce",
            "3a4b35fe6a91420ea438b183a94d024b",
            "3d39d14f0b5c4d6bab7c7047b1bfcf88",
            "422e602f05e645768fd57b46f68d7895",
            "bf07ffc058874db4a01719c83e4e83b6",
            "dbb2bb0c0d4947b494c34eb922842b76",
            "fef2eac7625e480b8054f5b6f6643dab",
            "cc44be6543ea48daa896230130d2df35",
            "407f0d4d1b014b6babdeb38e3bb20849",
            "67d937f064c94f1698de00c599615708",
            "bf1b6a12ccaa4409a5af37d266f9b21d",
            "8a55e5b819a443cd923a07d554364a72",
            "6d017a189cc14c1f92d8982ca0938dad"
          ]
        },
        "id": "F-1BWggCUBw6",
        "outputId": "27a3ad03-c2e8-49f2-f746-9998c9d33301"
      },
      "source": [
        "from tqdm.notebook import trange\n",
        "bayesians = []\n",
        "n_samples = np.logspace(1, 3, num=5).astype(np.int)\n",
        "# x0 = np.random.normal(size=2**N*2-1)\n",
        "# x0[:len(x0)//2+1] = x0[:len(x0)//2+1]/np.linalg.norm(x0[:len(x0)//2+1])\n",
        "for n_sample in n_samples:\n",
        "    bayesians.append([])\n",
        "    for i in trange(100):\n",
        "        x0 = start + np.random.normal(scale=1e-3, size=len(start))\n",
        "        measurements = np.concatenate([measure(psi, n_sample, label) for label in paulis], axis=0)\n",
        "        ret = minimize(nll, x0=x0, args=(measurements,), constraints=(constr,),)\n",
        "        energy = np.real(Statevector(param_2_psi(ret['x'])).expectation_value(operator.to_matrix()))\n",
        "        bayesians[-1].append(energy)\n",
        "        print(energy.round(3), ret['nfev'])"
      ],
      "execution_count": null,
      "outputs": [
        {
          "output_type": "display_data",
          "data": {
            "application/vnd.jupyter.widget-view+json": {
              "model_id": "66aae058047e48928f693a3b100e0b6c",
              "version_minor": 0,
              "version_major": 2
            },
            "text/plain": [
              "HBox(children=(FloatProgress(value=0.0), HTML(value='')))"
            ]
          },
          "metadata": {
            "tags": []
          }
        },
        {
          "output_type": "stream",
          "text": [
            "-1.094 568\n",
            "-1.072 1924\n",
            "-1.077 863\n",
            "-1.092 599\n",
            "-1.059 1390\n",
            "-1.096 497\n",
            "-1.098 203\n",
            "-1.09 963\n",
            "-1.097 236\n",
            "-1.082 829\n",
            "-1.095 500\n",
            "-1.096 1194\n",
            "-1.097 268\n",
            "-1.096 632\n",
            "-1.09 1524\n",
            "-1.083 664\n",
            "-1.096 796\n",
            "-1.089 962\n",
            "-1.097 500\n",
            "-1.093 634\n",
            "-1.097 269\n",
            "-1.097 268\n",
            "-1.084 862\n",
            "-1.084 1555\n",
            "-1.094 236\n",
            "-1.097 598\n",
            "-1.093 1522\n",
            "-1.097 597\n",
            "-1.092 931\n",
            "-1.097 269\n",
            "-1.097 203\n",
            "-1.063 1196\n",
            "-1.085 932\n",
            "-1.092 961\n",
            "-1.096 335\n",
            "-1.098 234\n",
            "-1.063 1228\n",
            "-1.072 1257\n",
            "-1.051 929\n",
            "-1.095 568\n",
            "-1.098 203\n",
            "-1.098 367\n",
            "-1.095 565\n",
            "-1.095 466\n",
            "-1.097 269\n",
            "-1.097 236\n",
            "-1.096 565\n",
            "-1.096 270\n",
            "-1.097 236\n",
            "\n",
            "-1.096 366\n",
            "-1.091 597\n",
            "-1.094 1329\n",
            "-1.097 302\n",
            "-1.096 203\n",
            "-1.074 898\n",
            "-1.089 730\n",
            "-1.097 236\n",
            "-1.093 996\n",
            "-1.096 268\n",
            "-1.085 599\n",
            "-1.095 235\n",
            "-1.097 234\n",
            "-1.095 500\n",
            "-1.089 1129\n",
            "-1.095 664\n",
            "-1.072 2287\n",
            "-1.074 865\n",
            "-1.098 235\n",
            "-1.093 1228\n",
            "-1.068 1686\n",
            "-1.092 666\n",
            "-1.097 565\n",
            "-1.083 1293\n",
            "-1.097 332\n",
            "-1.09 895\n",
            "-1.071 1425\n",
            "-1.097 235\n",
            "-1.095 533\n",
            "-1.095 828\n",
            "-1.098 366\n",
            "-1.094 632\n",
            "-1.095 830\n",
            "-1.098 236\n",
            "-1.087 928\n",
            "-1.095 301\n",
            "-1.097 266\n",
            "-1.067 1325\n",
            "-1.094 897\n",
            "-1.097 302\n",
            "-1.093 531\n",
            "-1.063 795\n",
            "-1.098 236\n",
            "-1.096 567\n",
            "-1.079 932\n",
            "-1.091 834\n",
            "-1.058 1721\n",
            "-1.094 699\n",
            "-1.082 930\n",
            "-1.079 894\n",
            "-1.09 1462\n",
            "\n"
          ],
          "name": "stdout"
        },
        {
          "output_type": "display_data",
          "data": {
            "application/vnd.jupyter.widget-view+json": {
              "model_id": "81211dcce30c4d378841e8e6d55185e4",
              "version_minor": 0,
              "version_major": 2
            },
            "text/plain": [
              "HBox(children=(FloatProgress(value=0.0), HTML(value='')))"
            ]
          },
          "metadata": {
            "tags": []
          }
        },
        {
          "output_type": "stream",
          "text": [
            "-1.098 598\n",
            "-1.098 399\n",
            "-1.096 501\n",
            "-1.098 237\n",
            "-1.098 236\n",
            "-1.098 268\n",
            "-1.097 269\n",
            "-1.098 233\n",
            "-1.099 236\n",
            "-1.098 270\n",
            "-1.098 302\n",
            "-1.097 535\n",
            "-1.098 268\n",
            "-1.098 234\n",
            "-1.098 236\n",
            "-1.098 202\n",
            "-1.098 235\n",
            "-1.098 300\n",
            "-1.098 202\n",
            "-1.098 269\n",
            "-1.098 203\n",
            "-1.098 202\n",
            "-1.098 365\n",
            "-1.097 765\n",
            "-1.098 202\n",
            "-1.098 268\n",
            "-1.097 601\n",
            "-1.098 203\n",
            "-1.098 202\n",
            "-1.098 235\n",
            "-1.098 302\n",
            "-1.098 366\n",
            "-1.098 235\n",
            "-1.098 301\n",
            "-1.098 235\n",
            "-1.096 602\n",
            "-1.099 202\n",
            "-1.098 202\n",
            "-1.098 333\n",
            "-1.097 400\n",
            "-1.098 202\n",
            "-1.098 269\n",
            "-1.097 695\n",
            "-1.098 268\n",
            "-1.098 236\n",
            "-1.098 236\n",
            "-1.098 271\n",
            "-1.098 303\n",
            "-1.098 236\n",
            "-1.089 701\n",
            "-1.098 270\n",
            "-1.098 302\n",
            "-1.098 466\n",
            "-1.098 234\n",
            "-1.081 1526\n",
            "-1.098 269\n",
            "-1.099 236\n",
            "-1.097 501\n",
            "-1.098 236\n",
            "-1.098 236\n",
            "-1.098 236\n",
            "-1.098 236\n",
            "-1.098 268\n",
            "-1.098 500\n",
            "-1.096 568\n",
            "-1.098 367\n",
            "-1.098 368\n",
            "-1.09 896\n",
            "-1.098 301\n",
            "-1.098 269\n",
            "-1.098 300\n",
            "-1.098 365\n",
            "-1.097 236\n",
            "-1.099 237\n",
            "-1.099 267\n",
            "-1.098 368\n",
            "-1.098 237\n",
            "-1.098 237\n",
            "-1.098 202\n",
            "-1.098 236\n",
            "-1.098 300\n",
            "-1.099 234\n",
            "-1.098 202\n",
            "-1.098 236\n",
            "-1.098 400\n",
            "-1.098 367\n",
            "-1.096 569\n",
            "-1.098 235\n",
            "-1.098 203\n",
            "-1.098 169\n",
            "-1.097 235\n",
            "-1.077 997\n",
            "-1.098 204\n",
            "-1.098 236\n",
            "-1.097 567\n",
            "-1.098 236\n",
            "-1.098 269\n",
            "-1.098 335\n",
            "-1.098 236\n",
            "-1.094 931\n",
            "\n"
          ],
          "name": "stdout"
        },
        {
          "output_type": "display_data",
          "data": {
            "application/vnd.jupyter.widget-view+json": {
              "model_id": "88dd9f7d62e0454295734003f4d809ea",
              "version_minor": 0,
              "version_major": 2
            },
            "text/plain": [
              "HBox(children=(FloatProgress(value=0.0), HTML(value='')))"
            ]
          },
          "metadata": {
            "tags": []
          }
        },
        {
          "output_type": "stream",
          "text": [
            "-1.099 201\n",
            "-1.099 236\n",
            "-1.099 236\n",
            "-1.099 202\n",
            "-1.099 202\n",
            "-1.099 335\n",
            "-1.099 202\n",
            "-1.099 669\n",
            "-1.099 236\n",
            "-1.099 268\n",
            "-1.099 299\n",
            "-1.099 235\n",
            "-1.099 235\n",
            "-1.099 236\n",
            "-1.099 234\n",
            "-1.099 269\n",
            "-1.099 234\n",
            "-1.099 202\n",
            "-1.099 267\n",
            "-1.099 236\n",
            "-1.098 236\n",
            "-1.097 337\n",
            "-1.099 270\n",
            "-1.099 269\n",
            "-1.099 202\n",
            "-1.099 236\n",
            "-1.099 266\n",
            "-1.099 236\n",
            "-1.099 236\n",
            "-1.092 702\n",
            "-1.099 234\n",
            "-1.099 236\n",
            "-1.099 270\n",
            "-1.099 203\n",
            "-1.099 236\n",
            "-1.099 236\n",
            "-1.099 234\n",
            "-1.099 570\n",
            "-1.098 372\n",
            "-1.098 302\n",
            "-1.098 303\n",
            "-1.099 236\n",
            "-1.099 234\n",
            "-1.099 236\n",
            "-1.099 269\n",
            "-1.099 302\n",
            "-1.099 236\n",
            "-1.099 269\n",
            "-1.099 236\n",
            "-1.099 202\n",
            "-1.099 204\n",
            "-1.099 301\n",
            "-1.099 203\n",
            "-1.098 366\n",
            "-1.099 267\n",
            "-1.099 202\n",
            "-1.099 234\n",
            "-1.099 301\n",
            "-1.099 302\n",
            "-1.099 236\n",
            "-1.099 301\n",
            "-1.099 202\n",
            "-1.099 235\n",
            "-1.098 202\n",
            "-1.099 202\n",
            "-1.099 367\n",
            "-1.099 236\n",
            "-1.099 202\n",
            "-1.099 236\n",
            "-1.098 269\n",
            "-1.099 202\n",
            "-1.099 300\n",
            "-1.099 202\n",
            "-1.099 270\n",
            "-1.098 335\n",
            "-1.098 236\n",
            "-1.099 402\n",
            "-1.099 268\n",
            "-1.099 268\n",
            "-1.099 201\n",
            "-1.099 233\n",
            "-1.098 303\n",
            "-1.099 269\n",
            "-1.099 268\n",
            "-1.099 236\n",
            "-1.099 302\n",
            "-1.099 203\n",
            "-1.099 301\n",
            "-1.099 236\n",
            "-1.099 201\n",
            "-1.099 236\n",
            "-1.099 537\n",
            "-1.099 268\n",
            "-1.099 267\n",
            "-1.099 202\n",
            "-1.099 202\n",
            "-1.099 236\n",
            "-1.099 270\n",
            "-1.099 236\n",
            "-1.099 269\n",
            "\n"
          ],
          "name": "stdout"
        },
        {
          "output_type": "display_data",
          "data": {
            "application/vnd.jupyter.widget-view+json": {
              "model_id": "ea64705441a146f9bc945112fc295fd4",
              "version_minor": 0,
              "version_major": 2
            },
            "text/plain": [
              "HBox(children=(FloatProgress(value=0.0), HTML(value='')))"
            ]
          },
          "metadata": {
            "tags": []
          }
        },
        {
          "output_type": "stream",
          "text": [
            "-1.099 301\n",
            "-1.099 168\n",
            "-1.099 235\n",
            "-1.099 302\n",
            "-1.099 201\n",
            "-1.099 300\n",
            "-1.099 202\n",
            "-1.099 202\n",
            "-1.099 202\n",
            "-1.099 301\n",
            "-1.099 301\n",
            "-1.099 201\n",
            "-1.099 267\n",
            "-1.099 437\n",
            "-1.099 268\n",
            "-1.099 435\n",
            "-1.099 270\n",
            "-1.099 202\n",
            "-1.099 235\n",
            "-1.099 202\n",
            "-1.099 337\n",
            "-1.099 202\n",
            "-1.099 169\n",
            "-1.099 234\n",
            "-1.099 202\n",
            "-1.099 468\n",
            "-1.099 201\n",
            "-1.099 201\n",
            "-1.099 235\n",
            "-1.099 268\n",
            "-1.099 301\n",
            "-1.099 268\n",
            "-1.099 201\n",
            "-1.099 234\n",
            "-1.099 202\n",
            "-1.099 202\n",
            "-1.099 269\n",
            "-1.099 333\n",
            "-1.099 202\n",
            "-1.099 270\n",
            "-1.099 300\n",
            "-1.099 236\n",
            "-1.099 237\n",
            "-1.099 202\n",
            "-1.099 201\n",
            "-1.099 268\n",
            "-1.099 300\n",
            "-1.099 270\n",
            "-1.099 202\n",
            "-1.099 268\n",
            "-1.099 202\n",
            "-1.099 202\n",
            "-1.099 203\n",
            "-1.099 201\n",
            "-1.099 202\n",
            "-1.099 270\n",
            "-1.099 234\n",
            "-1.099 202\n",
            "-1.098 600\n",
            "-1.099 202\n",
            "-1.099 335\n",
            "-1.099 269\n",
            "-1.099 233\n",
            "-1.099 202\n",
            "-1.099 236\n",
            "-1.099 202\n",
            "-1.099 302\n",
            "-1.099 202\n",
            "-1.099 169\n",
            "-1.099 202\n",
            "-1.099 234\n",
            "-1.099 201\n",
            "-1.099 337\n",
            "-1.099 235\n",
            "-1.099 235\n",
            "-1.099 201\n",
            "-1.099 236\n",
            "-1.099 233\n",
            "-1.099 202\n",
            "-1.099 234\n",
            "-1.099 235\n",
            "-1.099 268\n",
            "-1.099 203\n",
            "-1.099 268\n",
            "-1.099 236\n",
            "-1.099 202\n",
            "-1.099 201\n",
            "-1.099 202\n",
            "-1.099 233\n",
            "-1.099 202\n",
            "-1.099 437\n",
            "-1.099 268\n",
            "-1.099 266\n",
            "-1.099 267\n",
            "-1.099 202\n",
            "-1.099 202\n",
            "-1.099 269\n",
            "-1.099 335\n",
            "-1.099 202\n",
            "-1.099 335\n",
            "\n"
          ],
          "name": "stdout"
        },
        {
          "output_type": "display_data",
          "data": {
            "application/vnd.jupyter.widget-view+json": {
              "model_id": "dbb2bb0c0d4947b494c34eb922842b76",
              "version_minor": 0,
              "version_major": 2
            },
            "text/plain": [
              "HBox(children=(FloatProgress(value=0.0), HTML(value='')))"
            ]
          },
          "metadata": {
            "tags": []
          }
        },
        {
          "output_type": "stream",
          "text": [
            "-1.099 269\n",
            "-1.099 235\n",
            "-1.099 200\n",
            "-1.099 202\n",
            "-1.099 202\n",
            "-1.099 265\n",
            "-1.099 234\n",
            "-1.099 201\n",
            "-1.099 167\n",
            "-1.099 202\n",
            "-1.099 268\n",
            "-1.099 273\n",
            "-1.099 234\n",
            "-1.099 236\n",
            "-1.099 202\n",
            "-1.099 234\n",
            "-1.099 200\n",
            "-1.099 270\n",
            "-1.099 269\n",
            "-1.099 202\n",
            "-1.099 202\n",
            "-1.099 202\n",
            "-1.099 234\n",
            "-1.099 168\n",
            "-1.099 200\n",
            "-1.099 336\n",
            "-1.099 202\n",
            "-1.099 201\n",
            "-1.099 234\n",
            "-1.099 236\n",
            "-1.099 236\n",
            "-1.099 234\n",
            "-1.099 302\n",
            "-1.099 202\n",
            "-1.099 202\n",
            "-1.099 201\n",
            "-1.099 234\n",
            "-1.099 268\n",
            "-1.099 200\n",
            "-1.099 201\n",
            "-1.099 302\n",
            "-1.099 202\n",
            "-1.099 202\n",
            "-1.099 268\n",
            "-1.099 201\n",
            "-1.099 202\n",
            "-1.099 202\n",
            "-1.099 299\n",
            "-1.099 200\n",
            "-1.099 234\n",
            "-1.099 200\n",
            "-1.099 234\n",
            "-1.099 237\n",
            "-1.099 202\n",
            "-1.099 269\n",
            "-1.099 202\n",
            "-1.099 300\n",
            "-1.099 236\n",
            "-1.099 270\n",
            "-1.099 201\n",
            "-1.099 266\n",
            "-1.099 202\n",
            "-1.099 234\n",
            "-1.099 235\n",
            "-1.099 202\n",
            "-1.099 302\n",
            "-1.099 202\n",
            "-1.099 334\n",
            "-1.099 201\n",
            "-1.099 270\n",
            "-1.099 169\n",
            "-1.099 302\n",
            "-1.099 202\n",
            "-1.099 201\n",
            "-1.099 234\n",
            "-1.099 268\n",
            "-1.099 201\n",
            "-1.099 234\n",
            "-1.099 201\n",
            "-1.099 302\n",
            "-1.099 267\n",
            "-1.099 300\n",
            "-1.099 268\n",
            "-1.099 268\n",
            "-1.099 202\n",
            "-1.099 234\n",
            "-1.099 202\n",
            "-1.099 234\n",
            "-1.099 235\n",
            "-1.099 234\n",
            "-1.099 302\n",
            "-1.099 200\n",
            "-1.099 202\n",
            "-1.099 302\n",
            "-1.099 234\n",
            "-1.099 270\n",
            "-1.099 201\n",
            "-1.099 235\n",
            "-1.099 200\n",
            "-1.099 202\n",
            "\n"
          ],
          "name": "stdout"
        }
      ]
    },
    {
      "cell_type": "code",
      "metadata": {
        "id": "Wggv_PzSm1Sk",
        "colab": {
          "base_uri": "https://localhost:8080/",
          "height": 371
        },
        "outputId": "ae2a897e-19c4-48c9-d5eb-ce6240be1d1d"
      },
      "source": [
        "import seaborn as sns\n",
        "import matplotlib as mpl\n",
        "mpl.rc('font', size=20)\n",
        "operator, shift = get_qubit_op(1.5)\n",
        "ops = operator\n",
        "expect = np.real(np.array([sv.expectation_value(op.to_matrix())/op.coeff for op in ops]))\n",
        "coeffs = np.array([op.coeff for op in ops])\n",
        "vars = np.sum(coeffs**2 * (1-expect**2))\n",
        "operator = operator.to_matrix()\n",
        "rbms = np.load('rbm-result.npy') + shift\n",
        "true_gnd = np.linalg.eigvalsh(operator).min()+ shift\n",
        "sns.displot(np.real(rbms)[-1], clip=(true_gnd, np.inf), kind='kde', aspect=3, rug=True, label='RBM estimates', color='#003262')\n",
        "plt.text(-7.906, 580, s=f'$H = -0.29 IIII -0.11 IIIZ + 0.01 IIZX+\\ldots$', ha='left', va='center', bbox={'ec': 'black', 'fc': 'None', 'ls': '--'})\n",
        "plt.axvline(x=true_gnd, c='black')\n",
        "plt.axvline(x=true_gnd-eps, ls='--', c='red', lw=1)\n",
        "plt.axvline(x=true_gnd+eps, ls='--', c='red', lw=1)\n",
        "tmp = np.linspace(true_gnd-0.025,true_gnd+0.025, num=100)\n",
        "sigma = np.sqrt(vars/1000)\n",
        "f = 1/(sigma * np.sqrt(2*np.pi)) * np.exp(-0.5*(tmp-true_gnd)**2/sigma**2)\n",
        "f = f/f.max() * 400\n",
        "plt.fill_between(tmp, np.zeros(len(f)), f, color='#003262', alpha=0.2, label='Naive averaging', lw=0)\n",
        "plt.legend()\n",
        "plt.tight_layout()\n",
        "plt.xlabel('Energy [Ha]')\n",
        "plt.savefig('rbm-result.pdf', bbox_inches='tight')"
      ],
      "execution_count": null,
      "outputs": [
        {
          "output_type": "display_data",
          "data": {
            "image/png": "[encoded data removed]",
            "text/plain": [
              "<Figure size 1080x360 with 1 Axes>"
            ]
          },
          "metadata": {
            "tags": [],
            "needs_background": "light"
          }
        }
      ]
    },
    {
      "cell_type": "code",
      "metadata": {
        "colab": {
          "base_uri": "https://localhost:8080/"
        },
        "id": "ZAU_-l3uuPy2",
        "outputId": "77521b9e-1dca-4cc1-c329-6a1627cd3660"
      },
      "source": [
        "\n",
        "len(AbelianGrouper().convert(get_qubit_op(1.5)[0]))"
      ],
      "execution_count": null,
      "outputs": [
        {
          "output_type": "execute_result",
          "data": {
            "text/plain": [
              "20"
            ]
          },
          "metadata": {
            "tags": []
          },
          "execution_count": 62
        }
      ]
    },
    {
      "cell_type": "code",
      "metadata": {
        "id": "__BffPKWt1W8",
        "colab": {
          "base_uri": "https://localhost:8080/"
        },
        "outputId": "4fb6c85b-5874-40e4-ef15-12a1e0825ebd"
      },
      "source": [
        "from qiskit.aqua.operators.converters import AbelianGrouper\n",
        "grouped = AbelianGrouper().convert(op)\n",
        "len(grouped), len(op)"
      ],
      "execution_count": null,
      "outputs": [
        {
          "output_type": "execute_result",
          "data": {
            "text/plain": [
              "(24, 105)"
            ]
          },
          "metadata": {
            "tags": []
          },
          "execution_count": 12
        }
      ]
    },
    {
      "cell_type": "code",
      "metadata": {
        "id": "PjIAvnQQtpqF"
      },
      "source": [
        "op, _ = get_qubit_op(0.7)"
      ],
      "execution_count": null,
      "outputs": []
    },
    {
      "cell_type": "code",
      "metadata": {
        "id": "O9GUYNJ4WEKm",
        "colab": {
          "base_uri": "https://localhost:8080/",
          "height": 66,
          "referenced_widgets": [
            "86461f9f879744ac8c10908b7ea78fc7",
            "097c5221bf994b808a9a382599f063bd",
            "335ffeebc0094c54837c8bb24ef0b4f9",
            "56ebc6194aff4da194318daa31ca1e40",
            "50535135144c442abad369fb021b94a6",
            "d2a2de748024466881b8f93d46c4fa7b",
            "9dc6f545dc7f4a78932579b14e650303",
            "5253ccdd40134dddb5b08d5ea7128a7a"
          ]
        },
        "outputId": "a09abe32-7864-436f-b65b-b502088eacfd"
      },
      "source": [
        "from tqdm.auto import trange\n",
        "from qiskit.quantum_info import random_statevector, random_density_matrix\n",
        "\n",
        "XX = []\n",
        "ZZ = []\n",
        "for _ in trange(100000):\n",
        "    # psi = np.random.uniform(-100,100,size=4) + 1j*np.random.uniform(-100,100,size=4)\n",
        "    # psi = psi/np.linalg.norm(psi)\n",
        "    psi = random_statevector(dims=4)\n",
        "    XX.append(psi.expectation_value(Pauli('XI')))\n",
        "    ZZ.append(psi.expectation_value(Pauli('IZ')))\n",
        "XX = np.array(XX)\n",
        "ZZ = np.array(ZZ)"
      ],
      "execution_count": null,
      "outputs": [
        {
          "output_type": "display_data",
          "data": {
            "application/vnd.jupyter.widget-view+json": {
              "model_id": "86461f9f879744ac8c10908b7ea78fc7",
              "version_minor": 0,
              "version_major": 2
            },
            "text/plain": [
              "HBox(children=(FloatProgress(value=0.0, max=100000.0), HTML(value='')))"
            ]
          },
          "metadata": {
            "tags": []
          }
        },
        {
          "output_type": "stream",
          "text": [
            "\n"
          ],
          "name": "stdout"
        }
      ]
    },
    {
      "cell_type": "code",
      "metadata": {
        "colab": {
          "base_uri": "https://localhost:8080/",
          "height": 284
        },
        "id": "vnTqydLPTpEE",
        "outputId": "5c63d9f3-99c5-4b72-d518-d86a9220d78c"
      },
      "source": [
        "import seaborn as sns\n",
        "from sklearn.neighbors import KernelDensity\n",
        "kd = KernelDensity(bandwidth=5e-2).fit(np.stack([XX,ZZ]).T)\n",
        "x_grid, y_grid = np.meshgrid(np.linspace(-0.9,0.9,60),np.linspace(-0.9,0.9,60))\n",
        "samples = kd.score_samples(np.stack((x_grid,y_grid)).reshape((2,-1)).T)\n",
        "\n",
        "# fig, ax = plt.subplots(subplot_kw={\"projection\": \"3d\"})\n",
        "# ax.plot_surface(x_grid, y_grid, samples.reshape(x_grid.shape))\n",
        "plt.imshow(samples.reshape(x_grid.shape)[5:-5,5:-5])\n",
        "plt.colorbar()"
      ],
      "execution_count": null,
      "outputs": [
        {
          "output_type": "execute_result",
          "data": {
            "text/plain": [
              "<matplotlib.colorbar.Colorbar at 0x7f8063cefe90>"
            ]
          },
          "metadata": {
            "tags": []
          },
          "execution_count": 4
        },
        {
          "output_type": "display_data",
          "data": {
            "image/png": "[encoded data removed]",
            "text/plain": [
              "<Figure size 432x288 with 2 Axes>"
            ]
          },
          "metadata": {
            "tags": [],
            "needs_background": "light"
          }
        }
      ]
    },
    {
      "cell_type": "code",
      "metadata": {
        "colab": {
          "base_uri": "https://localhost:8080/",
          "height": 369
        },
        "id": "WZil3u1rWZ7c",
        "outputId": "3e39f3de-6161-4d80-e299-c70593793bd9"
      },
      "source": [
        "plt.figure(figsize=(8,5))\n",
        "plt.imshow(np.exp(samples.reshape(x_grid.shape)), interpolation='bilinear', extent=[-0.9,0.9,-0.9,0.9], cmap='Blues')\n",
        "plt.xlabel('XX', fontdict={'size': 14})\n",
        "plt.ylabel('ZZ', fontdict={'size': 14})\n",
        "plt.colorbar(label='Probability density')\n",
        "plt.tight_layout()\n",
        "plt.savefig('cond.png')"
      ],
      "execution_count": null,
      "outputs": [
        {
          "output_type": "display_data",
          "data": {
            "image/png": "[encoded data removed]",
            "text/plain": [
              "<Figure size 576x360 with 2 Axes>"
            ]
          },
          "metadata": {
            "tags": [],
            "needs_background": "light"
          }
        }
      ]
    },
    {
      "cell_type": "code",
      "metadata": {
        "colab": {
          "base_uri": "https://localhost:8080/",
          "height": 299
        },
        "id": "qpPT0EVJY_zS",
        "outputId": "318b2f6d-ee54-46c1-b489-bad9aa7ab086"
      },
      "source": [
        "plt.scatter(np.abs(XX), np.abs(ZZ), s=1e-3)\n",
        "cov = np.cov(np.stack((np.abs(XX), np.abs(ZZ))))\n",
        "print(cov/cov[0,0])"
      ],
      "execution_count": null,
      "outputs": [
        {
          "output_type": "stream",
          "text": [
            "[[1.         0.16499103]\n",
            " [0.16499103 0.9961237 ]]\n"
          ],
          "name": "stdout"
        },
        {
          "output_type": "display_data",
          "data": {
            "image/png": "[encoded data removed]",
            "text/plain": [
              "<Figure size 432x288 with 1 Axes>"
            ]
          },
          "metadata": {
            "tags": [],
            "needs_background": "light"
          }
        }
      ]
    }
  ]
}